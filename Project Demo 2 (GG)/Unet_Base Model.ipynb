{
  "cells": [
    {
      "cell_type": "code",
      "execution_count": 1,
      "metadata": {
        "colab": {
          "base_uri": "https://localhost:8080/"
        },
        "id": "sgg39RIwQO1T",
        "outputId": "845513d9-b7e1-4b1e-d36a-5f63601ba80d"
      },
      "outputs": [
        {
          "output_type": "stream",
          "name": "stdout",
          "text": [
            "Mounted at /content/drive\n"
          ]
        }
      ],
      "source": [
        "from google.colab import drive\n",
        "drive.mount('/content/drive', force_remount = False)"
      ]
    },
    {
      "cell_type": "code",
      "execution_count": 2,
      "metadata": {
        "id": "dgg6PpJVna2x"
      },
      "outputs": [],
      "source": [
        "# extract data from zip file\n",
        "import zipfile\n",
        "import os\n",
        "\n",
        "# Define the path to your zip file and the directory where you want to extract it\n",
        "zip_file_path = '/content/drive/MyDrive/465 Project/myData.zip'\n",
        "extract_folder_path = '/content/data'\n",
        "\n",
        "os.makedirs(extract_folder_path, exist_ok=True)\n",
        "\n",
        "with zipfile.ZipFile(zip_file_path, 'r') as zip_ref:\n",
        "    zip_ref.extractall(extract_folder_path)"
      ]
    },
    {
      "cell_type": "code",
      "execution_count": 3,
      "metadata": {
        "id": "xz7G45_MVilc"
      },
      "outputs": [],
      "source": [
        "# lib imports\n",
        "import torch\n",
        "import os\n",
        "import numpy as np\n",
        "import pandas as pd\n",
        "import random\n",
        "import cv2\n",
        "\n",
        "from tqdm import tqdm\n",
        "\n",
        "from skimage.io import imread, imshow\n",
        "from skimage.transform import resize\n",
        "import matplotlib.pyplot as plt"
      ]
    },
    {
      "cell_type": "code",
      "execution_count": 4,
      "metadata": {
        "id": "TQf8GJC3WxBu"
      },
      "outputs": [],
      "source": [
        "IMG_WIDTH = 128\n",
        "IMG_HEIGHT = 128\n",
        "IMG_CHANNELS = 3\n",
        "IMG_COUNT = 480"
      ]
    },
    {
      "cell_type": "code",
      "execution_count": 5,
      "metadata": {
        "id": "KB9yUggrZ5u5"
      },
      "outputs": [],
      "source": [
        "# set this between [1, 10] for differently composed datasets\n",
        "# reference: https://arxiv.org/pdf/2307.05911.pdf\n",
        "TRAINING_SET = 1"
      ]
    },
    {
      "cell_type": "markdown",
      "metadata": {
        "id": "dRB5U53vS6NK"
      },
      "source": [
        "# Only TS-1"
      ]
    },
    {
      "cell_type": "code",
      "execution_count": 8,
      "metadata": {
        "colab": {
          "base_uri": "https://localhost:8080/"
        },
        "id": "vBIq7T3LOx9W",
        "outputId": "594e8780-c2e9-47f0-eb16-9e08262ef53a"
      },
      "outputs": [
        {
          "output_type": "stream",
          "name": "stdout",
          "text": [
            "Selected Training Set 1\n",
            "Manually Segmented - 100% (480)\n",
            "image count : 480\n"
          ]
        }
      ],
      "source": [
        "#@title This cell is for composing the datasets as mentioned in the original paper\n",
        "\n",
        "# Set the target image size\n",
        "target_size = (IMG_WIDTH, IMG_HEIGHT)\n",
        "\n",
        "# Create empty lists to hold the images and masks\n",
        "images = []\n",
        "masks = []\n",
        "image_dir_ms1 = '/content/data/RG'\n",
        "mask_dir_ms1 = '/content/data/RGMask'\n",
        "\n",
        "# 100% Manually Segmented\n",
        "print(\"Selected Training Set 1\")\n",
        "print(\"Manually Segmented - 100% (480)\")\n",
        "# Iterate through the directories and load the images and masks\n",
        "for file in sorted(os.listdir(image_dir_ms1)):\n",
        "    # Load the image and resize to the target size\n",
        "    img = cv2.imread(os.path.join(image_dir_ms1, file))\n",
        "    img = cv2.resize(img, target_size)\n",
        "\n",
        "    # Append the resized image to the list of images\n",
        "    images.append(img)\n",
        "\n",
        "for file in sorted(os.listdir(mask_dir_ms1)):\n",
        "\n",
        "    # Load the corresponding mask and resize to the target size\n",
        "    mask = cv2.imread(os.path.join(mask_dir_ms1, file))\n",
        "    mask = cv2.resize(mask, target_size)\n",
        "\n",
        "    # Append the resized mask to the list of masks\n",
        "    masks.append(mask)\n",
        "\n",
        "\n",
        "IMG_COUNT = len(images)\n",
        "print(f\"image count : {IMG_COUNT}\")"
      ]
    },
    {
      "cell_type": "code",
      "execution_count": null,
      "metadata": {
        "id": "mGhwVJFSW1Ug"
      },
      "outputs": [],
      "source": [
        "# # Set the directories containing the images and masks\n",
        "# image_dir = '/content/drive/MyDrive/465 Project/ArtificialDataset/GRAIN DATA SET/AG'\n",
        "# mask_dir = '/content/drive/MyDrive/465 Project/ArtificialDataset/GRAIN DATA SET/AGMask'\n",
        "\n",
        "# # Set the target image size\n",
        "# target_size = (IMG_WIDTH, IMG_HEIGHT)\n",
        "\n",
        "# # Create empty lists to hold the images and masks\n",
        "# images = []\n",
        "# masks = []\n",
        "\n",
        "# # Iterate through the directories and load the images and masks\n",
        "# for file in sorted(os.listdir(image_dir)):\n",
        "#     # Load the image and resize to the target size\n",
        "#     img = cv2.imread(os.path.join(image_dir, file))\n",
        "#     img = cv2.resize(img, target_size)\n",
        "\n",
        "#     # Append the resized image to the list of images\n",
        "#     images.append(img)\n",
        "\n",
        "# for file in sorted(os.listdir(mask_dir)):\n",
        "\n",
        "#     # Load the corresponding mask and resize to the target size\n",
        "#     #mask_file = file.replace('.jpg', '.png')\n",
        "#     mask = cv2.imread(os.path.join(mask_dir, file))\n",
        "#     mask = cv2.resize(mask, target_size)\n",
        "\n",
        "#     # Append the resized mask to the list of masks\n",
        "#     masks.append(mask)\n",
        "\n",
        "# IMG_COUNT = len(images)"
      ]
    },
    {
      "cell_type": "markdown",
      "metadata": {
        "id": "ihXq1aKcZuVQ"
      },
      "source": [
        "# Example Image and it's Ground Truth"
      ]
    },
    {
      "cell_type": "code",
      "execution_count": 9,
      "metadata": {
        "colab": {
          "base_uri": "https://localhost:8080/",
          "height": 955
        },
        "id": "MpDzy0FQYNA8",
        "outputId": "1a781ae3-fb18-41f3-dc22-7ed7cd08f799"
      },
      "outputs": [
        {
          "output_type": "display_data",
          "data": {
            "text/plain": [
              "<Figure size 640x480 with 1 Axes>"
            ],
            "image/png": "[encoded data removed]"
          },
          "metadata": {}
        },
        {
          "output_type": "display_data",
          "data": {
            "text/plain": [
              "<Figure size 640x480 with 1 Axes>"
            ],
            "image/png": "[encoded data removed]"
          },
          "metadata": {}
        }
      ],
      "source": [
        "# example\n",
        "image_x = random.randint(0, IMG_COUNT)\n",
        "image_x\n",
        "imshow(images[image_x])\n",
        "plt.show()\n",
        "imshow(masks[image_x])\n",
        "plt.show()"
      ]
    },
    {
      "cell_type": "markdown",
      "metadata": {
        "id": "IawsoiuQBxU3"
      },
      "source": [
        "# dataset splitting"
      ]
    },
    {
      "cell_type": "code",
      "execution_count": 10,
      "metadata": {
        "colab": {
          "base_uri": "https://localhost:8080/"
        },
        "id": "kiRlzdUuc6ca",
        "outputId": "965d3788-ed41-48c3-b57a-ce0d86c6735a"
      },
      "outputs": [
        {
          "output_type": "stream",
          "name": "stdout",
          "text": [
            "(480, 128, 128, 3) (480, 128, 128, 3)\n"
          ]
        }
      ],
      "source": [
        "# create the X and Y (input and output)\n",
        "\n",
        "X_train = np.array(images)\n",
        "Y_train = np.array(masks)\n",
        "print(X_train.shape, Y_train.shape)\n",
        "# change the Y to a boolean\n",
        "Y_train = np.where(Y_train > 245, True, False)"
      ]
    },
    {
      "cell_type": "code",
      "execution_count": 11,
      "metadata": {
        "colab": {
          "base_uri": "https://localhost:8080/"
        },
        "id": "I303u1Z3OZZT",
        "outputId": "eebf400c-1c61-42e3-e20a-c1e9c9c4789e"
      },
      "outputs": [
        {
          "output_type": "stream",
          "name": "stdout",
          "text": [
            "(480, 3, 128, 128) (480, 3, 128, 128)\n"
          ]
        }
      ],
      "source": [
        "# careful to run this cell only once (otherwise shape changes)\n",
        "X_train = np.transpose(X_train, (0, 3, 1 , 2))\n",
        "Y_train = np.transpose(Y_train, (0, 3, 1 , 2))\n",
        "print(X_train.shape, Y_train.shape)"
      ]
    },
    {
      "cell_type": "code",
      "execution_count": 12,
      "metadata": {
        "colab": {
          "base_uri": "https://localhost:8080/"
        },
        "id": "wtXB7ItEc-J9",
        "outputId": "ddd93969-f9b8-4350-c5c5-2c31413bbb91"
      },
      "outputs": [
        {
          "output_type": "stream",
          "name": "stdout",
          "text": [
            "(480, 128, 128)\n",
            "(480, 1, 128, 128)\n"
          ]
        }
      ],
      "source": [
        "#convert the boolean where it insion s true (any of the 3 channels) to a (336, 128, 128, 1)\n",
        "#basically reduce the 3 channel dimeRGB to just one boolean value\n",
        "\n",
        "Y_t= np.any(Y_train, axis=1)\n",
        "print(Y_t.shape)\n",
        "Y_t = Y_t.reshape(IMG_COUNT, 1, 128, 128)\n",
        "print(Y_t.shape)\n"
      ]
    },
    {
      "cell_type": "code",
      "execution_count": 13,
      "metadata": {
        "id": "MKN9aaGqmgT7"
      },
      "outputs": [],
      "source": [
        "# prompt: Make Dataset from data\n",
        "\n",
        "from torch.utils.data import Dataset\n",
        "\n",
        "class GrainDataset(Dataset):\n",
        "    def __init__(self, images, masks):\n",
        "        self.images = images\n",
        "        self.masks = masks\n",
        "\n",
        "    def __len__(self):\n",
        "        return len(self.images)\n",
        "\n",
        "    def __getitem__(self, idx):\n",
        "        image = torch.from_numpy(self.images[idx]).float()\n",
        "        mask = torch.from_numpy(self.masks[idx]).float()\n",
        "        return image, mask\n",
        "\n",
        "# Create the dataset\n",
        "dataset = GrainDataset(X_train, Y_t)\n",
        "\n"
      ]
    },
    {
      "cell_type": "code",
      "execution_count": 14,
      "metadata": {
        "id": "S89-QaPhnkf2"
      },
      "outputs": [],
      "source": [
        "# prompt: create train and validation dataset\n",
        "\n",
        "from torch.utils.data import random_split\n",
        "\n",
        "# Split the dataset into train and validation sets (80-10-10)\n",
        "train_size = int(0.80 * len(dataset))\n",
        "r = len(dataset) - train_size\n",
        "val_size = int(0.5 * r)\n",
        "test_size = int(0.5 * r)\n",
        "train_dataset, val_dataset,test_dataset = random_split(dataset, [train_size, val_size,test_size])\n",
        "\n"
      ]
    },
    {
      "cell_type": "code",
      "execution_count": 15,
      "metadata": {
        "colab": {
          "base_uri": "https://localhost:8080/"
        },
        "id": "nmbz2eq0vS6H",
        "outputId": "bd75ba7e-9cf3-4319-da5e-87aeb9dac762"
      },
      "outputs": [
        {
          "output_type": "stream",
          "name": "stdout",
          "text": [
            "Train : 384\n",
            "Val: 48\n",
            "Test: 48\n"
          ]
        }
      ],
      "source": [
        "print(f\"Train : {train_size}\")\n",
        "print(f\"Val: {val_size}\")\n",
        "print(f\"Test: {test_size}\")"
      ]
    },
    {
      "cell_type": "markdown",
      "metadata": {
        "id": "d6dctzVRGpfQ"
      },
      "source": [
        "Device Agnostic code"
      ]
    },
    {
      "cell_type": "code",
      "execution_count": 16,
      "metadata": {
        "id": "8EztmVgiF06R"
      },
      "outputs": [],
      "source": [
        "device = \"cuda\" if torch.cuda.is_available() else \"cpu\""
      ]
    },
    {
      "cell_type": "markdown",
      "metadata": {
        "id": "9OCZkEHi61VK"
      },
      "source": [
        "# Unet Attention"
      ]
    },
    {
      "cell_type": "code",
      "execution_count": 17,
      "metadata": {
        "colab": {
          "base_uri": "https://localhost:8080/"
        },
        "id": "09nsPb0j6z6t",
        "outputId": "0fab3288-4bfd-4b77-ec08-66c557ecd793"
      },
      "outputs": [
        {
          "output_type": "stream",
          "name": "stdout",
          "text": [
            "----------------------------------------------------------------\n",
            "        Layer (type)               Output Shape         Param #\n",
            "================================================================\n",
            "            Conv2d-1         [-1, 16, 128, 128]             448\n",
            "              ReLU-2         [-1, 16, 128, 128]               0\n",
            "            Conv2d-3         [-1, 16, 128, 128]           2,320\n",
            "              ReLU-4         [-1, 16, 128, 128]               0\n",
            "           Dropout-5         [-1, 16, 128, 128]               0\n",
            "            Conv2d-6           [-1, 32, 64, 64]           4,640\n",
            "              ReLU-7           [-1, 32, 64, 64]               0\n",
            "            Conv2d-8           [-1, 32, 64, 64]           9,248\n",
            "              ReLU-9           [-1, 32, 64, 64]               0\n",
            "          Dropout-10           [-1, 32, 64, 64]               0\n",
            "           Conv2d-11           [-1, 64, 32, 32]          18,496\n",
            "             ReLU-12           [-1, 64, 32, 32]               0\n",
            "           Conv2d-13           [-1, 64, 32, 32]          36,928\n",
            "             ReLU-14           [-1, 64, 32, 32]               0\n",
            "          Dropout-15           [-1, 64, 32, 32]               0\n",
            "           Conv2d-16          [-1, 128, 16, 16]          73,856\n",
            "             ReLU-17          [-1, 128, 16, 16]               0\n",
            "           Conv2d-18          [-1, 128, 16, 16]         147,584\n",
            "             ReLU-19          [-1, 128, 16, 16]               0\n",
            "          Dropout-20          [-1, 128, 16, 16]               0\n",
            "           Conv2d-21            [-1, 256, 8, 8]         295,168\n",
            "             ReLU-22            [-1, 256, 8, 8]               0\n",
            "           Conv2d-23            [-1, 256, 8, 8]         590,080\n",
            "             ReLU-24            [-1, 256, 8, 8]               0\n",
            "          Dropout-25            [-1, 256, 8, 8]               0\n",
            "  ConvTranspose2d-26          [-1, 128, 16, 16]         131,200\n",
            "           Conv2d-27          [-1, 128, 16, 16]         295,040\n",
            "             ReLU-28          [-1, 128, 16, 16]               0\n",
            "           Conv2d-29          [-1, 128, 16, 16]         147,584\n",
            "             ReLU-30          [-1, 128, 16, 16]               0\n",
            "          Dropout-31          [-1, 128, 16, 16]               0\n",
            "  ConvTranspose2d-32           [-1, 64, 32, 32]          32,832\n",
            "           Conv2d-33           [-1, 64, 32, 32]          73,792\n",
            "             ReLU-34           [-1, 64, 32, 32]               0\n",
            "           Conv2d-35           [-1, 64, 32, 32]          36,928\n",
            "             ReLU-36           [-1, 64, 32, 32]               0\n",
            "          Dropout-37           [-1, 64, 32, 32]               0\n",
            "  ConvTranspose2d-38           [-1, 32, 64, 64]           8,224\n",
            "           Conv2d-39           [-1, 32, 64, 64]          18,464\n",
            "             ReLU-40           [-1, 32, 64, 64]               0\n",
            "           Conv2d-41           [-1, 32, 64, 64]           9,248\n",
            "             ReLU-42           [-1, 32, 64, 64]               0\n",
            "          Dropout-43           [-1, 32, 64, 64]               0\n",
            "  ConvTranspose2d-44         [-1, 16, 128, 128]           2,064\n",
            "           Conv2d-45         [-1, 16, 128, 128]           4,624\n",
            "             ReLU-46         [-1, 16, 128, 128]               0\n",
            "           Conv2d-47         [-1, 16, 128, 128]           2,320\n",
            "             ReLU-48         [-1, 16, 128, 128]               0\n",
            "          Dropout-49         [-1, 16, 128, 128]               0\n",
            "           Conv2d-50          [-1, 1, 128, 128]              17\n",
            "================================================================\n",
            "Total params: 1,941,105\n",
            "Trainable params: 1,941,105\n",
            "Non-trainable params: 0\n",
            "----------------------------------------------------------------\n",
            "Input size (MB): 0.19\n",
            "Forward/backward pass size (MB): 42.00\n",
            "Params size (MB): 7.40\n",
            "Estimated Total Size (MB): 49.59\n",
            "----------------------------------------------------------------\n"
          ]
        }
      ],
      "source": [
        "import torch\n",
        "import torch.nn as nn\n",
        "import torch.nn.functional as F\n",
        "\n",
        "class UNet(nn.Module):\n",
        "    def __init__(self, in_channels, out_channels):\n",
        "        super(UNet, self).__init__()\n",
        "        # Contraction path\n",
        "        self.conv1 = self.contracting_block(in_channels, 16)\n",
        "        self.conv2 = self.contracting_block(16, 32)\n",
        "        self.conv3 = self.contracting_block(32, 64)\n",
        "        self.conv4 = self.contracting_block(64, 128)\n",
        "        self.conv5 = self.contracting_block(128, 256)\n",
        "\n",
        "\n",
        "        # Expansive path\n",
        "        self.upconv6 = nn.ConvTranspose2d(256, 128, kernel_size=2, stride=2)\n",
        "        self.conv6 = self.expansive_block(256, 128)\n",
        "        self.upconv7 = nn.ConvTranspose2d(128, 64, kernel_size=2, stride=2)\n",
        "        self.conv7 = self.expansive_block(128, 64)\n",
        "        self.upconv8 = nn.ConvTranspose2d(64, 32, kernel_size=2, stride=2)\n",
        "        self.conv8 = self.expansive_block(64, 32)\n",
        "        self.upconv9 = nn.ConvTranspose2d(32, 16, kernel_size=2, stride=2)\n",
        "        self.conv9 = self.expansive_block(32, 16)\n",
        "\n",
        "        # Output layer\n",
        "        self.output_conv = nn.Conv2d(16, out_channels, kernel_size=1)\n",
        "\n",
        "    def contracting_block(self, in_channels, out_channels):\n",
        "        return nn.Sequential(\n",
        "            nn.Conv2d(in_channels, out_channels, kernel_size=3, padding=1),\n",
        "            nn.ReLU(inplace=True),\n",
        "            nn.Conv2d(out_channels, out_channels, kernel_size=3, padding=1),\n",
        "            nn.ReLU(inplace=True),\n",
        "            nn.Dropout(0.1),\n",
        "        )\n",
        "\n",
        "    def expansive_block(self, in_channels, out_channels):\n",
        "        return nn.Sequential(\n",
        "            nn.Conv2d(in_channels, out_channels, kernel_size=3, padding=1),\n",
        "            nn.ReLU(inplace=True),\n",
        "            nn.Conv2d(out_channels, out_channels, kernel_size=3, padding=1),\n",
        "            nn.ReLU(inplace=True),\n",
        "            nn.Dropout(0.1)\n",
        "        )\n",
        "\n",
        "    def forward(self, x):\n",
        "        # Contraction path\n",
        "        mx_pool = nn.MaxPool2d(kernel_size=2)\n",
        "        c1 = self.conv1(x)\n",
        "        p1 = mx_pool(c1)\n",
        "        c2 = self.conv2(p1)\n",
        "        p2 = mx_pool(c2)\n",
        "        c3 = self.conv3(p2)\n",
        "        p3 = mx_pool(c3)\n",
        "        c4 = self.conv4(p3)\n",
        "        p4 = mx_pool(c4)\n",
        "        c5 = self.conv5(p4)\n",
        "\n",
        "        # Expansive path\n",
        "        u6 = self.upconv6(c5)\n",
        "        # print(c5.shape)\n",
        "        # print(u6.shape, c4.shape) # for debugging\n",
        "        u6 = torch.cat([u6, c4], dim=1)\n",
        "        c6 = self.conv6(u6)\n",
        "        u7 = self.upconv7(c6)\n",
        "        u7 = torch.cat([u7, c3], dim=1)\n",
        "        c7 = self.conv7(u7)\n",
        "        u8 = self.upconv8(c7)\n",
        "        u8 = torch.cat([u8, c2], dim=1)\n",
        "        c8 = self.conv8(u8)\n",
        "        u9 = self.upconv9(c8)\n",
        "        u9 = torch.cat([u9, c1], dim=1)\n",
        "        c9 = self.conv9(u9)\n",
        "\n",
        "        # Output layer\n",
        "        outputs = self.output_conv(c9)\n",
        "        return torch.sigmoid(outputs)\n",
        "\n",
        "\n",
        "# Example usage\n",
        "device = torch.device(\"cuda\" if torch.cuda.is_available() else \"cpu\")\n",
        "model = UNet(3, 1).to(device)\n",
        "\n",
        "# Model summary\n",
        "from torchsummary import summary\n",
        "summary(model, (3, 128, 128))"
      ]
    },
    {
      "cell_type": "code",
      "execution_count": 19,
      "metadata": {
        "colab": {
          "base_uri": "https://localhost:8080/"
        },
        "id": "M1ze9oRSeFL9",
        "outputId": "d66f1503-d1f6-43ec-a0a1-b8b4597e40b1"
      },
      "outputs": [
        {
          "output_type": "stream",
          "name": "stdout",
          "text": [
            "Epoch [1/20], Train Loss: 0.4594, Val Loss: 0.3966\n",
            "Epoch [2/20], Train Loss: 0.3868, Val Loss: 0.3716\n",
            "Epoch [3/20], Train Loss: 0.3724, Val Loss: 0.3637\n",
            "Epoch [4/20], Train Loss: 0.3635, Val Loss: 0.3529\n",
            "Epoch [5/20], Train Loss: 0.3525, Val Loss: 0.3457\n",
            "Epoch [6/20], Train Loss: 0.3380, Val Loss: 0.3291\n",
            "Epoch [7/20], Train Loss: 0.3245, Val Loss: 0.3168\n",
            "Epoch [8/20], Train Loss: 0.3164, Val Loss: 0.3108\n",
            "Epoch [9/20], Train Loss: 0.3113, Val Loss: 0.3085\n",
            "Epoch [10/20], Train Loss: 0.3091, Val Loss: 0.3044\n",
            "Epoch [11/20], Train Loss: 0.3045, Val Loss: 0.3014\n",
            "Epoch [12/20], Train Loss: 0.3026, Val Loss: 0.3013\n",
            "Epoch [13/20], Train Loss: 0.3038, Val Loss: 0.3022\n",
            "Epoch [14/20], Train Loss: 0.3003, Val Loss: 0.3014\n",
            "Epoch [15/20], Train Loss: 0.2985, Val Loss: 0.3011\n",
            "Epoch [16/20], Train Loss: 0.2959, Val Loss: 0.2996\n",
            "Epoch [17/20], Train Loss: 0.2939, Val Loss: 0.2985\n",
            "Epoch [18/20], Train Loss: 0.2915, Val Loss: 0.2995\n",
            "Epoch [19/20], Train Loss: 0.2902, Val Loss: 0.2989\n",
            "Epoch [20/20], Train Loss: 0.2908, Val Loss: 0.2963\n"
          ]
        }
      ],
      "source": [
        "import torch.optim as optim\n",
        "from torch.utils.data import DataLoader\n",
        "\n",
        "# Define optimizer and loss function\n",
        "optimizer = optim.Adam(model.parameters())\n",
        "criterion = nn.BCELoss()\n",
        "\n",
        "# Define DataLoader for training and validation sets\n",
        "train_loader = DataLoader(train_dataset, batch_size=16, shuffle=True)\n",
        "val_loader = DataLoader(val_dataset, batch_size=16, shuffle=False)\n",
        "\n",
        "# Define callbacks\n",
        "class ModelCheckpoint:\n",
        "    def __init__(self, checkpoint_path):\n",
        "        self.checkpoint_path = checkpoint_path\n",
        "        self.best_loss = float('inf')\n",
        "\n",
        "    def __call__(self, model, epoch, train_loss, val_loss):\n",
        "        if val_loss < self.best_loss:\n",
        "            torch.save({\n",
        "            'epoch': epoch,\n",
        "            'model_state_dict': model.state_dict(),\n",
        "            'train_loss' : train_loss,\n",
        "            'val_loss': val_loss,\n",
        "            }, self.checkpoint_path)\n",
        "            print(\"Checkpoint saved\")\n",
        "            self.best_loss = val_loss\n",
        "\n",
        "from datetime import datetime\n",
        "checkpoint_path = f'/content/drive/MyDrive/465 Project/Unet Checkpoints/Unet-{TRAINING_SET}_{datetime.now().strftime(\"%d%m%Y %H:%M:%S\")}.pt'\n",
        "# print(checkpoint_path)\n",
        "# os.makedirs(\"/content/drive/MyDrive/465 Project\", exist_ok=True) # already exists\n",
        "checkpoint_dir = os.path.dirname(checkpoint_path)\n",
        "\n",
        "checkpointer = ModelCheckpoint(checkpoint_path)\n",
        "\n",
        "# Assuming 'model' is already transferred to the appropriate device\n",
        "# and 'device' is defined as 'cuda' if available, otherwise 'cpu'\n",
        "num_epochs = 20\n",
        "for epoch in range(num_epochs):\n",
        "    model.train()  # Set the model to training mode\n",
        "    train_loss = 0.0\n",
        "\n",
        "    for inputs, targets in train_loader:\n",
        "        # Move inputs and targets to the same device as the model\n",
        "        inputs = inputs.to(device)\n",
        "        targets = targets.to(device)\n",
        "\n",
        "        optimizer.zero_grad()  # Clear the gradients\n",
        "        outputs = model(inputs)  # Forward pass: compute the model output\n",
        "        loss = criterion(outputs, targets)  # Compute loss\n",
        "        loss.backward()  # Backward pass: compute gradient of the loss with respect to model parameters\n",
        "        optimizer.step()  # Update parameters\n",
        "        train_loss += loss.item() * inputs.size(0)  # Aggregate the loss\n",
        "\n",
        "    # After training batches, compute the average loss\n",
        "    train_loss /= len(train_loader.dataset)\n",
        "\n",
        "    # Evaluate the model if necessary, make sure to move evaluation data to the same device\n",
        "    model.eval()  # Set the model to evaluation mode\n",
        "    with torch.no_grad():  # Turn off gradients for validation\n",
        "        val_loss = 0.0\n",
        "        for inputs, targets in val_loader:\n",
        "            inputs = inputs.to(device)\n",
        "            targets = targets.to(device)\n",
        "            outputs = model(inputs)\n",
        "            loss = criterion(outputs, targets)\n",
        "            val_loss += loss.item() * inputs.size(0)\n",
        "        val_loss /= len(val_loader.dataset)\n",
        "\n",
        "    print(f'Epoch [{epoch+1}/{num_epochs}], Train Loss: {train_loss:.4f}, Val Loss: {val_loss:.4f}')\n",
        "\n",
        "    # Call the ModelCheckpoint callback\n",
        "    # checkpointer(model,epoch, train_loss, val_loss)\n"
      ]
    },
    {
      "cell_type": "code",
      "execution_count": null,
      "metadata": {
        "id": "t6rODygYDo1i"
      },
      "outputs": [],
      "source": [
        "# current_checkpoint = torch.load(checkpoint_path)\n",
        "# model.load_state_dict(current_checkpoint['model_state_dict'])\n",
        "# model.eval()\n",
        "# print(current_checkpoint['train_loss'],current_checkpoint['val_loss'])"
      ]
    },
    {
      "cell_type": "markdown",
      "metadata": {
        "id": "kJ7G9O_K69Hr"
      },
      "source": [
        "## Display Result"
      ]
    },
    {
      "cell_type": "code",
      "execution_count": 20,
      "metadata": {
        "id": "CqMBAVWcLDln"
      },
      "outputs": [],
      "source": [
        "def display_results(image, ground_truth_mask, predicted_mask):\n",
        "    fig, axes = plt.subplots(1, 3, figsize=(15, 5))\n",
        "\n",
        "    # Display input image\n",
        "    axes[0].imshow(np.transpose(image, (1, 2, 0)))\n",
        "    axes[0].set_title('Input Image')\n",
        "\n",
        "    # Display ground truth mask\n",
        "    axes[1].imshow(np.squeeze(ground_truth_mask))\n",
        "    axes[1].set_title('Ground Truth Mask')\n",
        "\n",
        "    # Display predicted mask\n",
        "    axes[2].imshow(np.squeeze(predicted_mask))\n",
        "    axes[2].set_title('Predicted Mask')\n",
        "\n",
        "    plt.show()"
      ]
    },
    {
      "cell_type": "markdown",
      "metadata": {
        "id": "w0iT1-GD7AUJ"
      },
      "source": [
        "# Scores"
      ]
    },
    {
      "cell_type": "code",
      "execution_count": 21,
      "metadata": {
        "colab": {
          "base_uri": "https://localhost:8080/"
        },
        "id": "IraOKMDpCH1Q",
        "outputId": "c2335ef1-8ebd-4ae2-a945-84df5724d9a9"
      },
      "outputs": [
        {
          "output_type": "stream",
          "name": "stdout",
          "text": [
            "Collecting torchmetrics\n",
            "  Downloading torchmetrics-1.3.2-py3-none-any.whl (841 kB)\n",
            "\u001b[?25l     \u001b[90m━━━━━━━━━━━━━━━━━━━━━━━━━━━━━━━━━━━━━━━━\u001b[0m \u001b[32m0.0/841.5 kB\u001b[0m \u001b[31m?\u001b[0m eta \u001b[36m-:--:--\u001b[0m\r\u001b[2K     \u001b[91m━━━━━━━━━━━━━━\u001b[0m\u001b[91m╸\u001b[0m\u001b[90m━━━━━━━━━━━━━━━━━━━━━━━━━\u001b[0m \u001b[32m307.2/841.5 kB\u001b[0m \u001b[31m9.0 MB/s\u001b[0m eta \u001b[36m0:00:01\u001b[0m\r\u001b[2K     \u001b[91m━━━━━━━━━━━━━━━━━━━━━━━━━━━━━━━━━━━━━━━\u001b[0m\u001b[91m╸\u001b[0m \u001b[32m839.7/841.5 kB\u001b[0m \u001b[31m12.8 MB/s\u001b[0m eta \u001b[36m0:00:01\u001b[0m\r\u001b[2K     \u001b[90m━━━━━━━━━━━━━━━━━━━━━━━━━━━━━━━━━━━━━━━━\u001b[0m \u001b[32m841.5/841.5 kB\u001b[0m \u001b[31m11.2 MB/s\u001b[0m eta \u001b[36m0:00:00\u001b[0m\n",
            "\u001b[?25hRequirement already satisfied: numpy>1.20.0 in /usr/local/lib/python3.10/dist-packages (from torchmetrics) (1.25.2)\n",
            "Requirement already satisfied: packaging>17.1 in /usr/local/lib/python3.10/dist-packages (from torchmetrics) (24.0)\n",
            "Requirement already satisfied: torch>=1.10.0 in /usr/local/lib/python3.10/dist-packages (from torchmetrics) (2.2.1+cu121)\n",
            "Collecting lightning-utilities>=0.8.0 (from torchmetrics)\n",
            "  Downloading lightning_utilities-0.11.2-py3-none-any.whl (26 kB)\n",
            "Requirement already satisfied: setuptools in /usr/local/lib/python3.10/dist-packages (from lightning-utilities>=0.8.0->torchmetrics) (67.7.2)\n",
            "Requirement already satisfied: typing-extensions in /usr/local/lib/python3.10/dist-packages (from lightning-utilities>=0.8.0->torchmetrics) (4.11.0)\n",
            "Requirement already satisfied: filelock in /usr/local/lib/python3.10/dist-packages (from torch>=1.10.0->torchmetrics) (3.13.4)\n",
            "Requirement already satisfied: sympy in /usr/local/lib/python3.10/dist-packages (from torch>=1.10.0->torchmetrics) (1.12)\n",
            "Requirement already satisfied: networkx in /usr/local/lib/python3.10/dist-packages (from torch>=1.10.0->torchmetrics) (3.3)\n",
            "Requirement already satisfied: jinja2 in /usr/local/lib/python3.10/dist-packages (from torch>=1.10.0->torchmetrics) (3.1.3)\n",
            "Requirement already satisfied: fsspec in /usr/local/lib/python3.10/dist-packages (from torch>=1.10.0->torchmetrics) (2023.6.0)\n",
            "Collecting nvidia-cuda-nvrtc-cu12==12.1.105 (from torch>=1.10.0->torchmetrics)\n",
            "  Using cached nvidia_cuda_nvrtc_cu12-12.1.105-py3-none-manylinux1_x86_64.whl (23.7 MB)\n",
            "Collecting nvidia-cuda-runtime-cu12==12.1.105 (from torch>=1.10.0->torchmetrics)\n",
            "  Using cached nvidia_cuda_runtime_cu12-12.1.105-py3-none-manylinux1_x86_64.whl (823 kB)\n",
            "Collecting nvidia-cuda-cupti-cu12==12.1.105 (from torch>=1.10.0->torchmetrics)\n",
            "  Using cached nvidia_cuda_cupti_cu12-12.1.105-py3-none-manylinux1_x86_64.whl (14.1 MB)\n",
            "Collecting nvidia-cudnn-cu12==8.9.2.26 (from torch>=1.10.0->torchmetrics)\n",
            "  Using cached nvidia_cudnn_cu12-8.9.2.26-py3-none-manylinux1_x86_64.whl (731.7 MB)\n",
            "Collecting nvidia-cublas-cu12==12.1.3.1 (from torch>=1.10.0->torchmetrics)\n",
            "  Using cached nvidia_cublas_cu12-12.1.3.1-py3-none-manylinux1_x86_64.whl (410.6 MB)\n",
            "Collecting nvidia-cufft-cu12==11.0.2.54 (from torch>=1.10.0->torchmetrics)\n",
            "  Using cached nvidia_cufft_cu12-11.0.2.54-py3-none-manylinux1_x86_64.whl (121.6 MB)\n",
            "Collecting nvidia-curand-cu12==10.3.2.106 (from torch>=1.10.0->torchmetrics)\n",
            "  Using cached nvidia_curand_cu12-10.3.2.106-py3-none-manylinux1_x86_64.whl (56.5 MB)\n",
            "Collecting nvidia-cusolver-cu12==11.4.5.107 (from torch>=1.10.0->torchmetrics)\n",
            "  Using cached nvidia_cusolver_cu12-11.4.5.107-py3-none-manylinux1_x86_64.whl (124.2 MB)\n",
            "Collecting nvidia-cusparse-cu12==12.1.0.106 (from torch>=1.10.0->torchmetrics)\n",
            "  Using cached nvidia_cusparse_cu12-12.1.0.106-py3-none-manylinux1_x86_64.whl (196.0 MB)\n",
            "Collecting nvidia-nccl-cu12==2.19.3 (from torch>=1.10.0->torchmetrics)\n",
            "  Using cached nvidia_nccl_cu12-2.19.3-py3-none-manylinux1_x86_64.whl (166.0 MB)\n",
            "Collecting nvidia-nvtx-cu12==12.1.105 (from torch>=1.10.0->torchmetrics)\n",
            "  Using cached nvidia_nvtx_cu12-12.1.105-py3-none-manylinux1_x86_64.whl (99 kB)\n",
            "Requirement already satisfied: triton==2.2.0 in /usr/local/lib/python3.10/dist-packages (from torch>=1.10.0->torchmetrics) (2.2.0)\n",
            "Collecting nvidia-nvjitlink-cu12 (from nvidia-cusolver-cu12==11.4.5.107->torch>=1.10.0->torchmetrics)\n",
            "  Using cached nvidia_nvjitlink_cu12-12.4.127-py3-none-manylinux2014_x86_64.whl (21.1 MB)\n",
            "Requirement already satisfied: MarkupSafe>=2.0 in /usr/local/lib/python3.10/dist-packages (from jinja2->torch>=1.10.0->torchmetrics) (2.1.5)\n",
            "Requirement already satisfied: mpmath>=0.19 in /usr/local/lib/python3.10/dist-packages (from sympy->torch>=1.10.0->torchmetrics) (1.3.0)\n",
            "Installing collected packages: nvidia-nvtx-cu12, nvidia-nvjitlink-cu12, nvidia-nccl-cu12, nvidia-curand-cu12, nvidia-cufft-cu12, nvidia-cuda-runtime-cu12, nvidia-cuda-nvrtc-cu12, nvidia-cuda-cupti-cu12, nvidia-cublas-cu12, lightning-utilities, nvidia-cusparse-cu12, nvidia-cudnn-cu12, nvidia-cusolver-cu12, torchmetrics\n",
            "Successfully installed lightning-utilities-0.11.2 nvidia-cublas-cu12-12.1.3.1 nvidia-cuda-cupti-cu12-12.1.105 nvidia-cuda-nvrtc-cu12-12.1.105 nvidia-cuda-runtime-cu12-12.1.105 nvidia-cudnn-cu12-8.9.2.26 nvidia-cufft-cu12-11.0.2.54 nvidia-curand-cu12-10.3.2.106 nvidia-cusolver-cu12-11.4.5.107 nvidia-cusparse-cu12-12.1.0.106 nvidia-nccl-cu12-2.19.3 nvidia-nvjitlink-cu12-12.4.127 nvidia-nvtx-cu12-12.1.105 torchmetrics-1.3.2\n"
          ]
        }
      ],
      "source": [
        "!pip install torchmetrics"
      ]
    },
    {
      "cell_type": "code",
      "execution_count": null,
      "metadata": {
        "id": "iDqKhTqXCMuX"
      },
      "outputs": [],
      "source": [
        "# from torchmetrics.functional import dice\n",
        "# from torchmetrics.functional import jaccard_index\n",
        "\n",
        "# total_jaccard_score = 0.0\n",
        "# total_dice_score = 0.0\n",
        "# total_num_samples = 0\n",
        "\n",
        "# for images, masks in val_loader:\n",
        "#     batch_size = images.size(0)  # Get the actual batch size\n",
        "#     total_num_samples += batch_size\n",
        "\n",
        "#     with torch.no_grad():\n",
        "#         images = images.to(device)\n",
        "#         masks = masks.to(device)\n",
        "\n",
        "#         # Forward pass\n",
        "#         preds = model(images)\n",
        "\n",
        "#         for ind in range(len(preds)):\n",
        "#             pred_tensor = (preds[ind] > 0.5).float()\n",
        "#             gt_tensor = masks[ind].to(torch.int64)  # Convert mask tensor to integer tensor\n",
        "\n",
        "#             dice_score = dice(pred_tensor, gt_tensor)\n",
        "#             total_dice_score += dice_score.item()\n",
        "\n",
        "#             jaccard_score = jaccard_index(pred_tensor, gt_tensor, task='binary')\n",
        "#             total_jaccard_score += jaccard_score.item()\n",
        "\n",
        "# average_dice_score = total_dice_score / total_num_samples\n",
        "# average_jaccard_score = total_jaccard_score / total_num_samples\n",
        "\n",
        "\n",
        "# print(f\"Total Number samples: {total_num_samples}\")\n",
        "# print(f\"Average Dice Score: {average_dice_score}\")\n",
        "# print(f\"Average Jaccard Index: {average_jaccard_score}\")"
      ]
    },
    {
      "cell_type": "markdown",
      "metadata": {
        "id": "xWZCjE3G7D7Z"
      },
      "source": [
        "## test set initialization"
      ]
    },
    {
      "cell_type": "markdown",
      "metadata": {
        "id": "DsDjHWZf2PlR"
      },
      "source": [
        "# Results"
      ]
    },
    {
      "cell_type": "code",
      "execution_count": 22,
      "metadata": {
        "colab": {
          "base_uri": "https://localhost:8080/"
        },
        "id": "Xf1h1FTTqU23",
        "outputId": "0d0d2ec5-d389-47f4-e64a-cc497333f7b4"
      },
      "outputs": [
        {
          "output_type": "stream",
          "name": "stdout",
          "text": [
            "Training set: 1\n",
            "Total Number samples: 48\n",
            "Average Dice Score: 0.9066883474588394\n",
            "Average Jaccard Index: 0.8296895511448383\n"
          ]
        }
      ],
      "source": [
        "rg_val_loader = DataLoader(test_dataset,batch_size=16, shuffle=False)\n",
        "\n",
        "from torchmetrics.functional import dice\n",
        "from torchmetrics.functional import jaccard_index\n",
        "\n",
        "total_jaccard_score = 0.0\n",
        "total_dice_score = 0.0\n",
        "total_num_samples = 0\n",
        "\n",
        "for images, masks in rg_val_loader:\n",
        "    batch_size = images.size(0)  # Get the actual batch size\n",
        "    total_num_samples += batch_size\n",
        "\n",
        "    with torch.no_grad():\n",
        "        images = images.to(device)\n",
        "        masks = masks.to(device)\n",
        "\n",
        "        # Forward pass\n",
        "        preds = model(images)\n",
        "\n",
        "        for ind in range(len(preds)):\n",
        "            pred_tensor = (preds[ind] > 0.5).float()\n",
        "            gt_tensor = masks[ind].to(torch.int64)  # Convert mask tensor to integer tensor\n",
        "\n",
        "            dice_score = dice(pred_tensor, gt_tensor)\n",
        "            total_dice_score += dice_score.item()\n",
        "\n",
        "            jaccard_score = jaccard_index(pred_tensor, gt_tensor, task='binary')\n",
        "            total_jaccard_score += jaccard_score.item()\n",
        "\n",
        "average_dice_score = total_dice_score / total_num_samples\n",
        "average_jaccard_score = total_jaccard_score / total_num_samples\n",
        "\n",
        "print(f\"Training set: {TRAINING_SET}\")\n",
        "print(f\"Total Number samples: {total_num_samples}\")\n",
        "print(f\"Average Dice Score: {average_dice_score}\")\n",
        "print(f\"Average Jaccard Index: {average_jaccard_score}\")"
      ]
    }
  ],
  "metadata": {
    "accelerator": "GPU",
    "colab": {
      "collapsed_sections": [
        "dRB5U53vS6NK",
        "ihXq1aKcZuVQ"
      ],
      "gpuType": "T4",
      "provenance": []
    },
    "kernelspec": {
      "display_name": "Python 3",
      "name": "python3"
    },
    "language_info": {
      "name": "python"
    }
  },
  "nbformat": 4,
  "nbformat_minor": 0
}