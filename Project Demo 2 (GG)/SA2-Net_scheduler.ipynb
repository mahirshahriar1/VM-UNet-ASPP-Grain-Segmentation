{
  "cells": [
    {
      "cell_type": "code",
      "execution_count": null,
      "metadata": {
        "colab": {
          "base_uri": "https://localhost:8080/"
        },
        "id": "sgg39RIwQO1T",
        "outputId": "ef1c56e1-4896-4641-fa34-e4fbd51b34d8"
      },
      "outputs": [
        {
          "output_type": "stream",
          "name": "stdout",
          "text": [
            "Mounted at /content/drive\n"
          ]
        }
      ],
      "source": [
        "from google.colab import drive\n",
        "drive.mount('/content/drive', force_remount = False)"
      ]
    },
    {
      "cell_type": "code",
      "execution_count": null,
      "metadata": {
        "id": "dgg6PpJVna2x"
      },
      "outputs": [],
      "source": [
        "# extract data from zip file\n",
        "import zipfile\n",
        "import os\n",
        "\n",
        "# Define the path to your zip file and the directory where you want to extract it\n",
        "zip_file_path = '/content/drive/MyDrive/465 Project/new_archive.zip'\n",
        "extract_folder_path = '/content/data'\n",
        "\n",
        "os.makedirs(extract_folder_path, exist_ok=True)\n",
        "\n",
        "with zipfile.ZipFile(zip_file_path, 'r') as zip_ref:\n",
        "    zip_ref.extractall(extract_folder_path)"
      ]
    },
    {
      "cell_type": "markdown",
      "source": [
        "### Imports"
      ],
      "metadata": {
        "id": "_jbuq7iE354B"
      }
    },
    {
      "cell_type": "code",
      "execution_count": null,
      "metadata": {
        "id": "xz7G45_MVilc"
      },
      "outputs": [],
      "source": [
        "# lib imports\n",
        "import torch\n",
        "import os\n",
        "import numpy as np\n",
        "import pandas as pd\n",
        "import random\n",
        "import cv2\n",
        "\n",
        "from tqdm import tqdm\n",
        "\n",
        "from skimage.io import imread, imshow\n",
        "from skimage.transform import resize\n",
        "import matplotlib.pyplot as plt"
      ]
    },
    {
      "cell_type": "code",
      "execution_count": null,
      "metadata": {
        "id": "TQf8GJC3WxBu"
      },
      "outputs": [],
      "source": [
        "IMG_WIDTH = 224\n",
        "IMG_HEIGHT = 224\n",
        "IMG_CHANNELS = 3\n",
        "IMG_COUNT = 480"
      ]
    },
    {
      "cell_type": "code",
      "execution_count": null,
      "metadata": {
        "id": "KB9yUggrZ5u5"
      },
      "outputs": [],
      "source": [
        "# set this between [1, 10] for differently composed datasets\n",
        "# reference: https://arxiv.org/pdf/2307.05911.pdf\n",
        "TRAINING_SET = 1"
      ]
    },
    {
      "cell_type": "markdown",
      "source": [
        "### Model : Sa2Net from Github"
      ],
      "metadata": {
        "id": "FjF_W7tA4BDp"
      }
    },
    {
      "cell_type": "code",
      "source": [
        "!wget https://raw.githubusercontent.com/mustansarfiaz/SA2-Net/main/SegPC2021_ISIC2018/models/mynet/sasanet.py"
      ],
      "metadata": {
        "colab": {
          "base_uri": "https://localhost:8080/"
        },
        "id": "zUUC22X24IOA",
        "outputId": "f06d756f-01c6-409e-bd45-1e6986ca4fc5"
      },
      "execution_count": null,
      "outputs": [
        {
          "output_type": "stream",
          "name": "stdout",
          "text": [
            "--2024-04-29 12:54:56--  https://raw.githubusercontent.com/mustansarfiaz/SA2-Net/main/SegPC2021_ISIC2018/models/mynet/sasanet.py\n",
            "Resolving raw.githubusercontent.com (raw.githubusercontent.com)... 185.199.108.133, 185.199.109.133, 185.199.110.133, ...\n",
            "Connecting to raw.githubusercontent.com (raw.githubusercontent.com)|185.199.108.133|:443... connected.\n",
            "HTTP request sent, awaiting response... 200 OK\n",
            "Length: 15648 (15K) [text/plain]\n",
            "Saving to: ‘sasanet.py’\n",
            "\n",
            "\rsasanet.py            0%[                    ]       0  --.-KB/s               \rsasanet.py          100%[===================>]  15.28K  --.-KB/s    in 0.001s  \n",
            "\n",
            "2024-04-29 12:54:56 (25.7 MB/s) - ‘sasanet.py’ saved [15648/15648]\n",
            "\n"
          ]
        }
      ]
    },
    {
      "cell_type": "code",
      "source": [
        "from sasanet import MyNet\n",
        "\n",
        "device = \"cuda\" if torch.cuda.is_available() else \"cpu\"\n",
        "model = MyNet(n_channels=3, base_channel=64, n_classes=1, img_size=224).to(device)\n"
      ],
      "metadata": {
        "id": "nqCXKZa2qjw2"
      },
      "execution_count": null,
      "outputs": []
    },
    {
      "cell_type": "code",
      "source": [
        "# # Calculate total parameters\n",
        "# total_params = sum(p.numel() for p in model.parameters())\n",
        "# trainable_params = sum(p.numel() for p in model.parameters() if p.requires_grad)\n",
        "# non_trainable_params = total_params - trainable_params\n",
        "\n",
        "# # Output the parameter counts\n",
        "# print(f\"Total parameters: {total_params}\")\n",
        "# print(f\"Trainable parameters: {trainable_params}\")\n",
        "# print(f\"Non-trainable parameters: {non_trainable_params}\")"
      ],
      "metadata": {
        "colab": {
          "base_uri": "https://localhost:8080/"
        },
        "id": "ulnvNv-WQSbb",
        "outputId": "3d82c514-a4ca-4e32-c3ea-03d0e6e3a82e"
      },
      "execution_count": null,
      "outputs": [
        {
          "output_type": "stream",
          "name": "stdout",
          "text": [
            "Total parameters: 32484308\n",
            "Trainable parameters: 32484308\n",
            "Non-trainable parameters: 0\n"
          ]
        }
      ]
    },
    {
      "cell_type": "markdown",
      "metadata": {
        "id": "IawsoiuQBxU3"
      },
      "source": [
        "# Dataset splitting"
      ]
    },
    {
      "cell_type": "markdown",
      "metadata": {
        "id": "dRB5U53vS6NK"
      },
      "source": [
        "# TestSets"
      ]
    },
    {
      "cell_type": "code",
      "execution_count": null,
      "metadata": {
        "colab": {
          "base_uri": "https://localhost:8080/"
        },
        "id": "vBIq7T3LOx9W",
        "outputId": "16374636-3eae-4a92-d0ec-dc71bcebb023"
      },
      "outputs": [
        {
          "output_type": "stream",
          "name": "stdout",
          "text": [
            "Selected Training Set 1: Manually Segmented - 100% (480)\n",
            "Loaded images and masks count: 480\n"
          ]
        }
      ],
      "source": [
        "import os\n",
        "import cv2\n",
        "import numpy as np\n",
        "import torch\n",
        "from torch.utils.data import Dataset, DataLoader, random_split\n",
        "\n",
        "class GrainDataHandler:\n",
        "    def __init__(self, image_dir, mask_dir, img_width, img_height, training_set=1):\n",
        "        self.image_dir = image_dir\n",
        "        self.mask_dir = mask_dir\n",
        "        self.target_size = (img_width, img_height)\n",
        "        self.training_set = training_set\n",
        "        self.images = []\n",
        "        self.masks = []\n",
        "\n",
        "    def load_data(self):\n",
        "        if self.training_set == 1:\n",
        "            print(\"Selected Training Set 1: Manually Segmented - 100% (480)\")\n",
        "            self.images = [self.process_file(os.path.join(self.image_dir, file)) for file in sorted(os.listdir(self.image_dir))]\n",
        "            self.masks = [self.process_file(os.path.join(self.mask_dir, file), mask=True) for file in sorted(os.listdir(self.mask_dir))]\n",
        "            print(f\"Loaded images and masks count: {len(self.images)}\")\n",
        "\n",
        "    def process_file(self, file_path, mask=False):\n",
        "        img = cv2.imread(file_path)\n",
        "        img = cv2.resize(img, self.target_size)\n",
        "        if mask:\n",
        "            img = np.where(img > 245, True, False)\n",
        "            img = np.any(img, axis=2).astype(float)\n",
        "            return img.reshape(1, *self.target_size)\n",
        "        return np.transpose(img, (2, 0, 1))\n",
        "\n",
        "    def split_dataset(self, split_ratio=(0.8, 0.1, 0.1)):\n",
        "        dataset = GrainDataset(np.array(self.images), np.array(self.masks))\n",
        "        total_count = len(dataset)\n",
        "        train_count = int(split_ratio[0] * total_count)\n",
        "        val_count = int(split_ratio[1] * total_count)\n",
        "        test_count = total_count - train_count - val_count\n",
        "        return random_split(dataset, [train_count, val_count, test_count])\n",
        "\n",
        "class GrainDataset(Dataset):\n",
        "    def __init__(self, images, masks):\n",
        "        self.images = images\n",
        "        self.masks = masks\n",
        "\n",
        "    def __len__(self):\n",
        "        return len(self.images)\n",
        "\n",
        "    def __getitem__(self, idx):\n",
        "        image = torch.from_numpy(self.images[idx]).float()\n",
        "        mask = torch.from_numpy(self.masks[idx]).float()\n",
        "        return image, mask\n",
        "\n",
        "# Usage\n",
        "image_dir = '/content/data/GRAIN DATA SET/RG'\n",
        "mask_dir = '/content/data/GRAIN DATA SET/RGMask'\n",
        "img_width, img_height = 224, 224  # Set your dimensions\n",
        "\n",
        "data_handler = GrainDataHandler(image_dir, mask_dir, img_width, img_height)\n",
        "data_handler.load_data()\n",
        "train_dataset, val_dataset, test_dataset = data_handler.split_dataset()\n",
        "\n",
        "# Now you can use these datasets with DataLoaders\n",
        "train_loader = DataLoader(train_dataset, batch_size=4, shuffle=True, num_workers=2)\n",
        "val_loader = DataLoader(val_dataset, batch_size=16, shuffle=False, num_workers=2)\n",
        "test_loader = DataLoader(test_dataset, batch_size=16, shuffle=False, num_workers=2)\n",
        "\n"
      ]
    },
    {
      "cell_type": "markdown",
      "metadata": {
        "id": "9OCZkEHi61VK"
      },
      "source": [
        "# Train"
      ]
    },
    {
      "cell_type": "code",
      "source": [
        "# Define callbacks\n",
        "class ModelCheckpoint:\n",
        "    def __init__(self, checkpoint_path):\n",
        "        self.checkpoint_path = checkpoint_path\n",
        "        self.best_loss = float('inf')\n",
        "\n",
        "    def __call__(self, model, epoch, train_loss, val_loss):\n",
        "        if val_loss < self.best_loss:\n",
        "            torch.save({\n",
        "            'epoch': epoch,\n",
        "            'model_state_dict': model.state_dict(),\n",
        "            'train_loss' : train_loss,\n",
        "            'val_loss': val_loss,\n",
        "            }, self.checkpoint_path)\n",
        "            print(\"Checkpoint saved\")\n",
        "            self.best_loss = val_loss\n",
        "\n",
        "from datetime import datetime\n",
        "checkpoint_path = f'/content/drive/MyDrive/465 Project/Ex1-SS316L-Grains-500X/Sa2net_diceloss_{datetime.now().strftime(\"%d%m%Y %H:%M:%S\")}.pt'\n",
        "\n",
        "# os.makedirs(\"/content/drive/MyDrive/465 Project\", exist_ok=True) # already exists\n",
        "checkpoint_dir = os.path.dirname(checkpoint_path)\n",
        "\n",
        "checkpointer = ModelCheckpoint(checkpoint_path)"
      ],
      "metadata": {
        "id": "O30QCRPNbsDb"
      },
      "execution_count": null,
      "outputs": []
    },
    {
      "cell_type": "code",
      "source": [
        "import torch\n",
        "from torch.nn import functional as F\n",
        "\n",
        "EPSILON = 1e-6\n",
        "\n",
        "class DiceLoss(torch.nn.Module):\n",
        "    def __init__(self,):\n",
        "        super().__init__()\n",
        "\n",
        "    def forward(self, pred, mask):\n",
        "        pred = pred.flatten()\n",
        "        mask = mask.flatten()\n",
        "\n",
        "        intersect = (mask * pred).sum()\n",
        "        dice_score = 2*intersect / (pred.sum() + mask.sum() + EPSILON)\n",
        "        dice_loss = 1 - dice_score\n",
        "        return dice_loss\n"
      ],
      "metadata": {
        "id": "o12_1hDvbYXT"
      },
      "execution_count": null,
      "outputs": []
    },
    {
      "cell_type": "code",
      "source": [
        "class EarlyStopping:\n",
        "    def __init__(self, patience=7, verbose=False, delta=0):\n",
        "        \"\"\"\n",
        "        Args:\n",
        "            patience (int): How long to wait after last time validation loss improved.\n",
        "                            Default: 7\n",
        "            verbose (bool): If True, prints a message for each validation loss improvement.\n",
        "                            Default: False\n",
        "            delta (float): Minimum change in the monitored quantity to qualify as an improvement.\n",
        "                            Default: 0\n",
        "        \"\"\"\n",
        "        self.patience = patience\n",
        "        self.verbose = verbose\n",
        "        self.counter = 0\n",
        "        self.best_score = None\n",
        "        self.early_stop = False\n",
        "        self.val_loss_min = float('inf')\n",
        "        self.delta = delta\n",
        "\n",
        "    def __call__(self, val_loss):\n",
        "        score = -val_loss\n",
        "\n",
        "        if self.best_score is None:\n",
        "            self.best_score = score\n",
        "            self.save_checkpoint(val_loss)\n",
        "        elif score < self.best_score + self.delta:\n",
        "            self.counter += 1\n",
        "            if self.verbose:\n",
        "                print(f'EarlyStopping counter: {self.counter} out of {self.patience}')\n",
        "            if self.counter >= self.patience:\n",
        "                self.early_stop = True\n",
        "        else:\n",
        "            self.best_score = score\n",
        "            self.save_checkpoint(val_loss)\n",
        "            self.counter = 0\n",
        "\n",
        "    def save_checkpoint(self, val_loss):\n",
        "        \"\"\"Saves model when validation loss decrease.\"\"\"\n",
        "        if self.verbose:\n",
        "            print(f'Validation loss decreased ({self.val_loss_min:.6f} --> {val_loss:.6f}).  Saving model...')\n",
        "        self.val_loss_min = val_loss"
      ],
      "metadata": {
        "id": "iYhpcQC88sI2"
      },
      "execution_count": null,
      "outputs": []
    },
    {
      "cell_type": "code",
      "execution_count": null,
      "metadata": {
        "id": "M1ze9oRSeFL9",
        "colab": {
          "base_uri": "https://localhost:8080/"
        },
        "outputId": "8c6b1e21-2351-442e-c913-9cffb07721c6"
      },
      "outputs": [
        {
          "output_type": "stream",
          "name": "stderr",
          "text": [
            "/usr/local/lib/python3.10/dist-packages/torch/optim/lr_scheduler.py:28: UserWarning: The verbose parameter is deprecated. Please use get_last_lr() to access the learning rate.\n",
            "  warnings.warn(\"The verbose parameter is deprecated. Please use get_last_lr() \"\n",
            "/usr/lib/python3.10/multiprocessing/popen_fork.py:66: RuntimeWarning: os.fork() was called. os.fork() is incompatible with multithreaded code, and JAX is multithreaded, so this will likely lead to a deadlock.\n",
            "  self.pid = os.fork()\n"
          ]
        },
        {
          "output_type": "stream",
          "name": "stdout",
          "text": [
            "Epoch [1/40], Train Loss: 0.9159, Val Loss: 0.2293\n",
            "Checkpoint saved\n",
            "Validation loss decreased (inf --> 0.229293).  Saving model...\n",
            "Epoch [2/40], Train Loss: 0.7070, Val Loss: 0.2042\n",
            "Checkpoint saved\n",
            "Validation loss decreased (0.229293 --> 0.204152).  Saving model...\n",
            "Epoch [3/40], Train Loss: 0.6337, Val Loss: 0.1870\n",
            "Checkpoint saved\n",
            "Validation loss decreased (0.204152 --> 0.186952).  Saving model...\n",
            "Epoch [4/40], Train Loss: 0.5821, Val Loss: 0.1710\n",
            "Checkpoint saved\n",
            "Validation loss decreased (0.186952 --> 0.170969).  Saving model...\n",
            "Epoch [5/40], Train Loss: 0.5432, Val Loss: 0.1571\n",
            "Checkpoint saved\n",
            "Validation loss decreased (0.170969 --> 0.157124).  Saving model...\n",
            "Epoch [6/40], Train Loss: 0.5085, Val Loss: 0.1487\n",
            "Checkpoint saved\n",
            "Validation loss decreased (0.157124 --> 0.148691).  Saving model...\n",
            "Epoch [7/40], Train Loss: 0.4807, Val Loss: 0.1414\n",
            "Checkpoint saved\n",
            "Validation loss decreased (0.148691 --> 0.141356).  Saving model...\n",
            "Epoch [8/40], Train Loss: 0.4570, Val Loss: 0.1331\n",
            "Checkpoint saved\n",
            "Validation loss decreased (0.141356 --> 0.133093).  Saving model...\n",
            "Epoch [9/40], Train Loss: 0.4347, Val Loss: 0.1293\n",
            "Checkpoint saved\n",
            "Validation loss decreased (0.133093 --> 0.129263).  Saving model...\n",
            "Epoch [10/40], Train Loss: 0.4154, Val Loss: 0.1218\n",
            "Checkpoint saved\n",
            "Validation loss decreased (0.129263 --> 0.121849).  Saving model...\n",
            "Epoch [11/40], Train Loss: 0.3964, Val Loss: 0.1236\n",
            "EarlyStopping counter: 1 out of 10\n",
            "Epoch [12/40], Train Loss: 0.3738, Val Loss: 0.1241\n",
            "EarlyStopping counter: 2 out of 10\n",
            "Epoch [13/40], Train Loss: 0.3543, Val Loss: 0.1196\n",
            "Checkpoint saved\n",
            "Validation loss decreased (0.121849 --> 0.119632).  Saving model...\n",
            "Epoch [14/40], Train Loss: 0.3351, Val Loss: 0.1117\n",
            "Checkpoint saved\n",
            "Validation loss decreased (0.119632 --> 0.111722).  Saving model...\n",
            "Epoch [15/40], Train Loss: 0.3099, Val Loss: 0.1145\n",
            "EarlyStopping counter: 1 out of 10\n",
            "Epoch [16/40], Train Loss: 0.2934, Val Loss: 0.1119\n",
            "EarlyStopping counter: 2 out of 10\n",
            "Epoch [17/40], Train Loss: 0.2717, Val Loss: 0.1114\n",
            "Checkpoint saved\n",
            "Validation loss decreased (0.111722 --> 0.111404).  Saving model...\n",
            "Epoch [18/40], Train Loss: 0.2592, Val Loss: 0.1099\n",
            "Checkpoint saved\n",
            "Validation loss decreased (0.111404 --> 0.109874).  Saving model...\n",
            "Epoch [19/40], Train Loss: 0.2419, Val Loss: 0.1062\n",
            "Checkpoint saved\n",
            "Validation loss decreased (0.109874 --> 0.106180).  Saving model...\n",
            "Epoch [20/40], Train Loss: 0.2310, Val Loss: 0.1048\n",
            "Checkpoint saved\n",
            "Validation loss decreased (0.106180 --> 0.104791).  Saving model...\n",
            "Epoch [21/40], Train Loss: 0.2170, Val Loss: 0.1065\n",
            "EarlyStopping counter: 1 out of 10\n",
            "Epoch [22/40], Train Loss: 0.2053, Val Loss: 0.1056\n",
            "EarlyStopping counter: 2 out of 10\n",
            "Epoch [23/40], Train Loss: 0.2020, Val Loss: 0.1032\n",
            "Checkpoint saved\n",
            "Validation loss decreased (0.104791 --> 0.103237).  Saving model...\n",
            "Epoch [24/40], Train Loss: 0.1904, Val Loss: 0.1052\n",
            "EarlyStopping counter: 1 out of 10\n",
            "Epoch [25/40], Train Loss: 0.1823, Val Loss: 0.1027\n",
            "Checkpoint saved\n",
            "Validation loss decreased (0.103237 --> 0.102661).  Saving model...\n",
            "Epoch [26/40], Train Loss: 0.1766, Val Loss: 0.1020\n",
            "Checkpoint saved\n",
            "Validation loss decreased (0.102661 --> 0.101972).  Saving model...\n",
            "Epoch [27/40], Train Loss: 0.1701, Val Loss: 0.1043\n",
            "EarlyStopping counter: 1 out of 10\n",
            "Epoch [28/40], Train Loss: 0.1644, Val Loss: 0.1022\n",
            "EarlyStopping counter: 2 out of 10\n",
            "Epoch [29/40], Train Loss: 0.1611, Val Loss: 0.1020\n",
            "EarlyStopping counter: 3 out of 10\n",
            "Epoch [30/40], Train Loss: 0.1584, Val Loss: 0.1007\n",
            "Checkpoint saved\n",
            "Validation loss decreased (0.101972 --> 0.100653).  Saving model...\n",
            "Epoch [31/40], Train Loss: 0.1555, Val Loss: 0.1018\n",
            "EarlyStopping counter: 1 out of 10\n",
            "Epoch [32/40], Train Loss: 0.1508, Val Loss: 0.1010\n",
            "EarlyStopping counter: 2 out of 10\n",
            "Epoch [33/40], Train Loss: 0.1478, Val Loss: 0.1005\n",
            "Checkpoint saved\n",
            "Validation loss decreased (0.100653 --> 0.100468).  Saving model...\n",
            "Epoch [34/40], Train Loss: 0.1433, Val Loss: 0.0988\n",
            "Checkpoint saved\n",
            "Validation loss decreased (0.100468 --> 0.098837).  Saving model...\n",
            "Epoch [35/40], Train Loss: 0.1413, Val Loss: 0.0999\n",
            "EarlyStopping counter: 1 out of 10\n",
            "Epoch [36/40], Train Loss: 0.1400, Val Loss: 0.0990\n",
            "EarlyStopping counter: 2 out of 10\n",
            "Epoch [37/40], Train Loss: 0.1387, Val Loss: 0.0982\n",
            "Checkpoint saved\n",
            "Validation loss decreased (0.098837 --> 0.098212).  Saving model...\n",
            "Epoch [38/40], Train Loss: 0.1353, Val Loss: 0.0977\n",
            "Checkpoint saved\n",
            "Validation loss decreased (0.098212 --> 0.097710).  Saving model...\n",
            "Epoch [39/40], Train Loss: 0.1333, Val Loss: 0.0994\n",
            "EarlyStopping counter: 1 out of 10\n",
            "Epoch [40/40], Train Loss: 0.1311, Val Loss: 0.0975\n",
            "Checkpoint saved\n",
            "Validation loss decreased (0.097710 --> 0.097481).  Saving model...\n"
          ]
        }
      ],
      "source": [
        "import torch.optim as optim\n",
        "from torch.utils.data import DataLoader\n",
        "from torch.optim.lr_scheduler import ReduceLROnPlateau\n",
        "\n",
        "# Define optimizer and loss function\n",
        "optimizer = optim.Adam(model.parameters(), lr=0.0001)\n",
        "criterion = DiceLoss()\n",
        "\n",
        "early_stopper = EarlyStopping(patience=10, verbose=True)\n",
        "\n",
        "# Define the learning rate scheduler\n",
        "scheduler = ReduceLROnPlateau(optimizer, factor=0.5, patience=5, verbose=True)\n",
        "\n",
        "num_epochs = 40\n",
        "for epoch in range(num_epochs):\n",
        "    model.train()  # Set the model to training mode\n",
        "    train_loss = 0.0\n",
        "    num_samples = 0\n",
        "\n",
        "    for inputs, targets in train_loader:\n",
        "        inputs = inputs.to(device)\n",
        "        targets = targets.to(device)\n",
        "\n",
        "        optimizer.zero_grad()  # Clear the gradients\n",
        "        preds4, preds3, preds2, preds1 = model(inputs)\n",
        "        # Calculate loss from multiple outputs\n",
        "        loss4 = criterion(preds4, targets)\n",
        "        loss3 = criterion(preds3, targets)\n",
        "        loss2 = criterion(preds2, targets)\n",
        "        loss1 = criterion(preds1, targets)\n",
        "        loss = loss4 + loss3 + loss2 + loss1\n",
        "\n",
        "        loss.backward()  # Backward pass\n",
        "        optimizer.step()  # Update parameters\n",
        "        train_loss += loss.item() * inputs.size(0)\n",
        "        num_samples += inputs.size(0)\n",
        "\n",
        "    train_loss /= num_samples\n",
        "\n",
        "    model.eval()  # Set the model to evaluation mode\n",
        "    val_loss = 0.0\n",
        "    num_val_samples = 0\n",
        "    with torch.no_grad():  # Validation loop\n",
        "        for inputs, targets in val_loader:\n",
        "            inputs = inputs.to(device)\n",
        "            targets = targets.to(device)\n",
        "            preds = model(inputs)\n",
        "            val_loss += criterion(preds, targets).item() * inputs.size(0)\n",
        "            num_val_samples += inputs.size(0)\n",
        "\n",
        "        val_loss /= num_val_samples\n",
        "\n",
        "    print(f'Epoch [{epoch+1}/{num_epochs}], Train Loss: {train_loss:.4f}, Val Loss: {val_loss:.4f}')\n",
        "\n",
        "    # Scheduler step is called after updating the validation loss\n",
        "    scheduler.step(val_loss)\n",
        "\n",
        "    # Checkpointing and early stopping\n",
        "    checkpointer(model, epoch, train_loss, val_loss)\n",
        "    early_stopper(val_loss)\n",
        "    if early_stopper.early_stop:\n",
        "        print(\"Early stopping\")\n",
        "        break\n"
      ]
    },
    {
      "cell_type": "code",
      "execution_count": null,
      "metadata": {
        "id": "t6rODygYDo1i",
        "colab": {
          "base_uri": "https://localhost:8080/"
        },
        "outputId": "3e632afd-2635-4658-d0ea-3c41b773dd70"
      },
      "outputs": [
        {
          "output_type": "stream",
          "name": "stdout",
          "text": [
            "0.13112890409926573 0.09748125076293945\n"
          ]
        }
      ],
      "source": [
        "current_checkpoint = torch.load(checkpoint_path)\n",
        "model.load_state_dict(current_checkpoint['model_state_dict'])\n",
        "model.eval()\n",
        "print(current_checkpoint['train_loss'],current_checkpoint['val_loss'])"
      ]
    },
    {
      "cell_type": "markdown",
      "source": [
        "Checkpointer Path"
      ],
      "metadata": {
        "id": "bRb3ECilHzOI"
      }
    },
    {
      "cell_type": "code",
      "source": [
        "checkpoint_path"
      ],
      "metadata": {
        "colab": {
          "base_uri": "https://localhost:8080/",
          "height": 35
        },
        "id": "MOiuDfyYHtkI",
        "outputId": "b807f554-cbc2-4821-8a01-7c0b3b88967e"
      },
      "execution_count": null,
      "outputs": [
        {
          "output_type": "execute_result",
          "data": {
            "text/plain": [
              "'/content/drive/MyDrive/465 Project/Ex1-SS316L-Grains-500X/Sa2net_diceloss_29042024 12:55:01.pt'"
            ],
            "application/vnd.google.colaboratory.intrinsic+json": {
              "type": "string"
            }
          },
          "metadata": {},
          "execution_count": 14
        }
      ]
    },
    {
      "cell_type": "markdown",
      "metadata": {
        "id": "w0iT1-GD7AUJ"
      },
      "source": [
        "# Scores"
      ]
    },
    {
      "cell_type": "code",
      "execution_count": null,
      "metadata": {
        "colab": {
          "base_uri": "https://localhost:8080/"
        },
        "id": "IraOKMDpCH1Q",
        "outputId": "03025840-3284-45b3-920d-0cb94131922b"
      },
      "outputs": [
        {
          "output_type": "stream",
          "name": "stdout",
          "text": [
            "Collecting torchmetrics\n",
            "  Downloading torchmetrics-1.3.2-py3-none-any.whl (841 kB)\n",
            "\u001b[?25l     \u001b[90m━━━━━━━━━━━━━━━━━━━━━━━━━━━━━━━━━━━━━━━━\u001b[0m \u001b[32m0.0/841.5 kB\u001b[0m \u001b[31m?\u001b[0m eta \u001b[36m-:--:--\u001b[0m\r\u001b[2K     \u001b[91m━━━━━━━━━\u001b[0m\u001b[91m╸\u001b[0m\u001b[90m━━━━━━━━━━━━━━━━━━━━━━━━━━━━━━\u001b[0m \u001b[32m204.8/841.5 kB\u001b[0m \u001b[31m5.8 MB/s\u001b[0m eta \u001b[36m0:00:01\u001b[0m\r\u001b[2K     \u001b[91m━━━━━━━━━━━━━━━━━━━━━━━━━━━━━━━━━━━━━━\u001b[0m\u001b[91m╸\u001b[0m\u001b[90m━\u001b[0m \u001b[32m819.2/841.5 kB\u001b[0m \u001b[31m11.9 MB/s\u001b[0m eta \u001b[36m0:00:01\u001b[0m\r\u001b[2K     \u001b[90m━━━━━━━━━━━━━━━━━━━━━━━━━━━━━━━━━━━━━━━━\u001b[0m \u001b[32m841.5/841.5 kB\u001b[0m \u001b[31m10.1 MB/s\u001b[0m eta \u001b[36m0:00:00\u001b[0m\n",
            "\u001b[?25hRequirement already satisfied: numpy>1.20.0 in /usr/local/lib/python3.10/dist-packages (from torchmetrics) (1.25.2)\n",
            "Requirement already satisfied: packaging>17.1 in /usr/local/lib/python3.10/dist-packages (from torchmetrics) (24.0)\n",
            "Requirement already satisfied: torch>=1.10.0 in /usr/local/lib/python3.10/dist-packages (from torchmetrics) (2.2.1+cu121)\n",
            "Collecting lightning-utilities>=0.8.0 (from torchmetrics)\n",
            "  Downloading lightning_utilities-0.11.2-py3-none-any.whl (26 kB)\n",
            "Requirement already satisfied: setuptools in /usr/local/lib/python3.10/dist-packages (from lightning-utilities>=0.8.0->torchmetrics) (67.7.2)\n",
            "Requirement already satisfied: typing-extensions in /usr/local/lib/python3.10/dist-packages (from lightning-utilities>=0.8.0->torchmetrics) (4.11.0)\n",
            "Requirement already satisfied: filelock in /usr/local/lib/python3.10/dist-packages (from torch>=1.10.0->torchmetrics) (3.13.4)\n",
            "Requirement already satisfied: sympy in /usr/local/lib/python3.10/dist-packages (from torch>=1.10.0->torchmetrics) (1.12)\n",
            "Requirement already satisfied: networkx in /usr/local/lib/python3.10/dist-packages (from torch>=1.10.0->torchmetrics) (3.3)\n",
            "Requirement already satisfied: jinja2 in /usr/local/lib/python3.10/dist-packages (from torch>=1.10.0->torchmetrics) (3.1.3)\n",
            "Requirement already satisfied: fsspec in /usr/local/lib/python3.10/dist-packages (from torch>=1.10.0->torchmetrics) (2023.6.0)\n",
            "Collecting nvidia-cuda-nvrtc-cu12==12.1.105 (from torch>=1.10.0->torchmetrics)\n",
            "  Using cached nvidia_cuda_nvrtc_cu12-12.1.105-py3-none-manylinux1_x86_64.whl (23.7 MB)\n",
            "Collecting nvidia-cuda-runtime-cu12==12.1.105 (from torch>=1.10.0->torchmetrics)\n",
            "  Using cached nvidia_cuda_runtime_cu12-12.1.105-py3-none-manylinux1_x86_64.whl (823 kB)\n",
            "Collecting nvidia-cuda-cupti-cu12==12.1.105 (from torch>=1.10.0->torchmetrics)\n",
            "  Using cached nvidia_cuda_cupti_cu12-12.1.105-py3-none-manylinux1_x86_64.whl (14.1 MB)\n",
            "Collecting nvidia-cudnn-cu12==8.9.2.26 (from torch>=1.10.0->torchmetrics)\n",
            "  Using cached nvidia_cudnn_cu12-8.9.2.26-py3-none-manylinux1_x86_64.whl (731.7 MB)\n",
            "Collecting nvidia-cublas-cu12==12.1.3.1 (from torch>=1.10.0->torchmetrics)\n",
            "  Using cached nvidia_cublas_cu12-12.1.3.1-py3-none-manylinux1_x86_64.whl (410.6 MB)\n",
            "Collecting nvidia-cufft-cu12==11.0.2.54 (from torch>=1.10.0->torchmetrics)\n",
            "  Using cached nvidia_cufft_cu12-11.0.2.54-py3-none-manylinux1_x86_64.whl (121.6 MB)\n",
            "Collecting nvidia-curand-cu12==10.3.2.106 (from torch>=1.10.0->torchmetrics)\n",
            "  Using cached nvidia_curand_cu12-10.3.2.106-py3-none-manylinux1_x86_64.whl (56.5 MB)\n",
            "Collecting nvidia-cusolver-cu12==11.4.5.107 (from torch>=1.10.0->torchmetrics)\n",
            "  Using cached nvidia_cusolver_cu12-11.4.5.107-py3-none-manylinux1_x86_64.whl (124.2 MB)\n",
            "Collecting nvidia-cusparse-cu12==12.1.0.106 (from torch>=1.10.0->torchmetrics)\n",
            "  Using cached nvidia_cusparse_cu12-12.1.0.106-py3-none-manylinux1_x86_64.whl (196.0 MB)\n",
            "Collecting nvidia-nccl-cu12==2.19.3 (from torch>=1.10.0->torchmetrics)\n",
            "  Using cached nvidia_nccl_cu12-2.19.3-py3-none-manylinux1_x86_64.whl (166.0 MB)\n",
            "Collecting nvidia-nvtx-cu12==12.1.105 (from torch>=1.10.0->torchmetrics)\n",
            "  Using cached nvidia_nvtx_cu12-12.1.105-py3-none-manylinux1_x86_64.whl (99 kB)\n",
            "Requirement already satisfied: triton==2.2.0 in /usr/local/lib/python3.10/dist-packages (from torch>=1.10.0->torchmetrics) (2.2.0)\n",
            "Collecting nvidia-nvjitlink-cu12 (from nvidia-cusolver-cu12==11.4.5.107->torch>=1.10.0->torchmetrics)\n",
            "  Using cached nvidia_nvjitlink_cu12-12.4.127-py3-none-manylinux2014_x86_64.whl (21.1 MB)\n",
            "Requirement already satisfied: MarkupSafe>=2.0 in /usr/local/lib/python3.10/dist-packages (from jinja2->torch>=1.10.0->torchmetrics) (2.1.5)\n",
            "Requirement already satisfied: mpmath>=0.19 in /usr/local/lib/python3.10/dist-packages (from sympy->torch>=1.10.0->torchmetrics) (1.3.0)\n",
            "Installing collected packages: nvidia-nvtx-cu12, nvidia-nvjitlink-cu12, nvidia-nccl-cu12, nvidia-curand-cu12, nvidia-cufft-cu12, nvidia-cuda-runtime-cu12, nvidia-cuda-nvrtc-cu12, nvidia-cuda-cupti-cu12, nvidia-cublas-cu12, lightning-utilities, nvidia-cusparse-cu12, nvidia-cudnn-cu12, nvidia-cusolver-cu12, torchmetrics\n",
            "Successfully installed lightning-utilities-0.11.2 nvidia-cublas-cu12-12.1.3.1 nvidia-cuda-cupti-cu12-12.1.105 nvidia-cuda-nvrtc-cu12-12.1.105 nvidia-cuda-runtime-cu12-12.1.105 nvidia-cudnn-cu12-8.9.2.26 nvidia-cufft-cu12-11.0.2.54 nvidia-curand-cu12-10.3.2.106 nvidia-cusolver-cu12-11.4.5.107 nvidia-cusparse-cu12-12.1.0.106 nvidia-nccl-cu12-2.19.3 nvidia-nvjitlink-cu12-12.4.127 nvidia-nvtx-cu12-12.1.105 torchmetrics-1.3.2\n"
          ]
        }
      ],
      "source": [
        "!pip install torchmetrics"
      ]
    },
    {
      "cell_type": "markdown",
      "metadata": {
        "id": "DsDjHWZf2PlR"
      },
      "source": [
        "# Results"
      ]
    },
    {
      "cell_type": "code",
      "execution_count": null,
      "metadata": {
        "colab": {
          "base_uri": "https://localhost:8080/"
        },
        "id": "Xf1h1FTTqU23",
        "outputId": "b3d1c960-4095-41bd-f0ee-f12cf4645d17"
      },
      "outputs": [
        {
          "output_type": "stream",
          "name": "stdout",
          "text": [
            "epoch-> 40\n",
            "Total Number samples: 48\n",
            "Average Dice Score: 0.9017558979491392\n",
            "Average Jaccard Index: 0.8214371887346109\n"
          ]
        }
      ],
      "source": [
        "from torchmetrics.functional import dice\n",
        "from torchmetrics.functional import jaccard_index\n",
        "\n",
        "total_jaccard_score = 0.0\n",
        "total_dice_score = 0.0\n",
        "total_num_samples = 0\n",
        "\n",
        "for images, masks in test_loader:\n",
        "    batch_size = images.size(0)  # Get the actual batch size\n",
        "    total_num_samples += batch_size\n",
        "\n",
        "    with torch.no_grad():\n",
        "        images = images.to(device)\n",
        "        masks = masks.to(device)\n",
        "\n",
        "        # Forward pass\n",
        "        preds = model(images)\n",
        "\n",
        "        for ind in range(len(preds)):\n",
        "            pred_tensor = (preds[ind] > 0.5).float()\n",
        "            gt_tensor = masks[ind].to(torch.int64)  # Convert mask tensor to integer tensor\n",
        "\n",
        "            dice_score = dice(pred_tensor, gt_tensor)\n",
        "            total_dice_score += dice_score.item()\n",
        "\n",
        "            jaccard_score = jaccard_index(pred_tensor, gt_tensor, task='binary')\n",
        "            total_jaccard_score += jaccard_score.item()\n",
        "\n",
        "average_dice_score = total_dice_score / total_num_samples\n",
        "average_jaccard_score = total_jaccard_score / total_num_samples\n",
        "\n",
        "\n",
        "print(f\"epoch-> {num_epochs}\")\n",
        "print(f\"Total Number samples: {total_num_samples}\")\n",
        "print(f\"Average Dice Score: {average_dice_score}\")\n",
        "print(f\"Average Jaccard Index: {average_jaccard_score}\")"
      ]
    },
    {
      "cell_type": "markdown",
      "source": [
        "#####Checking Other Threshold values:"
      ],
      "metadata": {
        "id": "CdXgpNL9Jrt-"
      }
    },
    {
      "cell_type": "code",
      "source": [
        "import torch\n",
        "import numpy as np\n",
        "import matplotlib.pyplot as plt\n",
        "\n",
        "\n",
        "model.eval()\n",
        "\n",
        "all_preds = []\n",
        "\n",
        "with torch.no_grad():\n",
        "    for images, _ in val_loader:\n",
        "        images = images.to(device)\n",
        "        preds = model(images)\n",
        "        all_preds.extend(preds.flatten().cpu().numpy())  # Flatten and move to CPU\n",
        "\n",
        "all_preds_np = np.array(all_preds)\n",
        "\n",
        "# Plot the histogram\n",
        "plt.hist(all_preds_np, bins=50, density=True)\n",
        "plt.title('Distribution of Predicted Pixel Values')\n",
        "plt.xlabel('Pixel Value')\n",
        "plt.ylabel('Density')\n",
        "plt.show()\n"
      ],
      "metadata": {
        "colab": {
          "base_uri": "https://localhost:8080/",
          "height": 472
        },
        "id": "hYymzb_LAG29",
        "outputId": "96e5c3be-8390-4fd3-b539-d01b89d8b230"
      },
      "execution_count": null,
      "outputs": [
        {
          "output_type": "display_data",
          "data": {
            "text/plain": [
              "<Figure size 640x480 with 1 Axes>"
            ],
            "image/png": "[encoded data removed]"
          },
          "metadata": {}
        }
      ]
    },
    {
      "cell_type": "markdown",
      "metadata": {
        "id": "kJ7G9O_K69Hr"
      },
      "source": [
        "## Display Result"
      ]
    },
    {
      "cell_type": "code",
      "execution_count": null,
      "metadata": {
        "id": "CqMBAVWcLDln"
      },
      "outputs": [],
      "source": [
        "def display_results(image, ground_truth_mask, predicted_mask):\n",
        "    fig, axes = plt.subplots(1, 3, figsize=(15, 5))\n",
        "\n",
        "    # Display input image\n",
        "    axes[0].imshow(np.transpose(image, (1, 2, 0)))\n",
        "    axes[0].set_title('Input Image')\n",
        "\n",
        "    # Display ground truth mask\n",
        "    axes[1].imshow(np.squeeze(ground_truth_mask))\n",
        "    axes[1].set_title('Ground Truth Mask')\n",
        "\n",
        "    # Display predicted mask\n",
        "    axes[2].imshow(np.squeeze(predicted_mask))\n",
        "    axes[2].set_title('Predicted Mask')\n",
        "\n",
        "    plt.show()"
      ]
    }
  ],
  "metadata": {
    "colab": {
      "collapsed_sections": [
        "_jbuq7iE354B",
        "dRB5U53vS6NK",
        "ihXq1aKcZuVQ",
        "IawsoiuQBxU3"
      ],
      "provenance": [],
      "gpuType": "T4"
    },
    "kernelspec": {
      "display_name": "Python 3",
      "name": "python3"
    },
    "language_info": {
      "name": "python"
    },
    "accelerator": "GPU"
  },
  "nbformat": 4,
  "nbformat_minor": 0
}