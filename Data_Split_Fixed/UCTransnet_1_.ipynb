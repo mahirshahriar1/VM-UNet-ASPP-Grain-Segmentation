{
  "cells": [
    {
      "cell_type": "code",
      "execution_count": 1,
      "metadata": {
        "colab": {
          "base_uri": "https://localhost:8080/"
        },
        "id": "sgg39RIwQO1T",
        "outputId": "01bb94c9-539e-48be-c2f0-40260cd8c0f7"
      },
      "outputs": [
        {
          "output_type": "stream",
          "name": "stdout",
          "text": [
            "Mounted at /content/drive\n"
          ]
        }
      ],
      "source": [
        "from google.colab import drive\n",
        "drive.mount('/content/drive', force_remount = False)"
      ]
    },
    {
      "cell_type": "code",
      "execution_count": 2,
      "metadata": {
        "id": "dgg6PpJVna2x"
      },
      "outputs": [],
      "source": [
        "# extract data from zip file\n",
        "import zipfile\n",
        "import os\n",
        "\n",
        "# Define the path to your zip file and the directory where you want to extract it\n",
        "zip_file_path = '/content/drive/MyDrive/465 Project/new_archive.zip'\n",
        "extract_folder_path = '/content/data'\n",
        "\n",
        "os.makedirs(extract_folder_path, exist_ok=True)\n",
        "\n",
        "with zipfile.ZipFile(zip_file_path, 'r') as zip_ref:\n",
        "    zip_ref.extractall(extract_folder_path)"
      ]
    },
    {
      "cell_type": "markdown",
      "source": [
        "### Model : UCTransnet from Github"
      ],
      "metadata": {
        "id": "FjF_W7tA4BDp"
      }
    },
    {
      "cell_type": "code",
      "source": [
        "!pip install GitPython"
      ],
      "metadata": {
        "colab": {
          "base_uri": "https://localhost:8080/"
        },
        "id": "9XI4Fu_A4DXg",
        "outputId": "0fe6ba0f-1890-4040-de1a-939f8039e161"
      },
      "execution_count": 3,
      "outputs": [
        {
          "output_type": "stream",
          "name": "stdout",
          "text": [
            "Collecting GitPython\n",
            "  Downloading GitPython-3.1.43-py3-none-any.whl (207 kB)\n",
            "\u001b[2K     \u001b[90m━━━━━━━━━━━━━━━━━━━━━━━━━━━━━━━━━━━━━━━━\u001b[0m \u001b[32m207.3/207.3 kB\u001b[0m \u001b[31m1.2 MB/s\u001b[0m eta \u001b[36m0:00:00\u001b[0m\n",
            "\u001b[?25hCollecting gitdb<5,>=4.0.1 (from GitPython)\n",
            "  Downloading gitdb-4.0.11-py3-none-any.whl (62 kB)\n",
            "\u001b[2K     \u001b[90m━━━━━━━━━━━━━━━━━━━━━━━━━━━━━━━━━━━━━━━━\u001b[0m \u001b[32m62.7/62.7 kB\u001b[0m \u001b[31m1.8 MB/s\u001b[0m eta \u001b[36m0:00:00\u001b[0m\n",
            "\u001b[?25hCollecting smmap<6,>=3.0.1 (from gitdb<5,>=4.0.1->GitPython)\n",
            "  Downloading smmap-5.0.1-py3-none-any.whl (24 kB)\n",
            "Installing collected packages: smmap, gitdb, GitPython\n",
            "Successfully installed GitPython-3.1.43 gitdb-4.0.11 smmap-5.0.1\n"
          ]
        }
      ]
    },
    {
      "cell_type": "code",
      "source": [
        "import git\n",
        "\n",
        "# URL of the repository\n",
        "repo_url = 'https://github.com/NITR098/Awesome-U-Net.git'\n",
        "\n",
        "# Path of the folder you want to clone\n",
        "folder_path = 'models/_uctransnet'\n",
        "\n",
        "# Initialize a Repo object with allowed unsafe options\n",
        "repo = git.Repo.init('/content/uctransnet', mkdir=True)\n",
        "\n",
        "# Configure sparse checkout settings\n",
        "repo.config_writer().set_value(\"core\", \"sparseCheckout\", \"true\").release()\n",
        "\n",
        "# Define the remote\n",
        "origin = repo.create_remote('origin', repo_url)\n",
        "\n",
        "# Define sparse checkout paths\n",
        "with open('/content/uctransnet/.git/info/sparse-checkout', 'w') as sc:\n",
        "    sc.write(f'{folder_path}/*\\n')\n",
        "\n",
        "# Fetch the specific branch and depth for minimal history\n",
        "origin.fetch(depth=1)\n",
        "\n",
        "# Checkout the files from the fetched data\n",
        "repo.git.checkout('FETCH_HEAD')\n",
        "\n",
        "# Verify the files have been checked out\n",
        "!ls -l /content/uctransnet/models/_uctransnet\n"
      ],
      "metadata": {
        "colab": {
          "base_uri": "https://localhost:8080/"
        },
        "id": "5f2JlWAq4Gf4",
        "outputId": "b5be2ff0-421f-4556-d312-afa5cc5fa947"
      },
      "execution_count": 4,
      "outputs": [
        {
          "output_type": "stream",
          "name": "stdout",
          "text": [
            "total 36\n",
            "-rw-r--r-- 1 root root  2154 Apr 22 23:05 Config.py\n",
            "-rw-r--r-- 1 root root 17124 Apr 22 23:05 CTrans.py\n",
            "-rw-r--r-- 1 root root  5203 Apr 22 23:05 UCTransNet.py\n",
            "-rw-r--r-- 1 root root  3971 Apr 22 23:05 UNet.py\n"
          ]
        }
      ]
    },
    {
      "cell_type": "code",
      "source": [
        "!wget https://raw.githubusercontent.com/NITR098/Awesome-U-Net/main/models/__init__.py -P /content/uctransnet/models/_uctransnet"
      ],
      "metadata": {
        "colab": {
          "base_uri": "https://localhost:8080/"
        },
        "id": "zUUC22X24IOA",
        "outputId": "10378358-4476-46f5-b153-e1fbf50c3774"
      },
      "execution_count": 5,
      "outputs": [
        {
          "output_type": "stream",
          "name": "stdout",
          "text": [
            "--2024-04-22 23:05:49--  https://raw.githubusercontent.com/NITR098/Awesome-U-Net/main/models/__init__.py\n",
            "Resolving raw.githubusercontent.com (raw.githubusercontent.com)... 185.199.108.133, 185.199.109.133, 185.199.110.133, ...\n",
            "Connecting to raw.githubusercontent.com (raw.githubusercontent.com)|185.199.108.133|:443... connected.\n",
            "HTTP request sent, awaiting response... 200 OK\n",
            "Length: 0 [text/plain]\n",
            "Saving to: ‘/content/uctransnet/models/_uctransnet/__init__.py’\n",
            "\n",
            "__init__.py             [ <=>                ]       0  --.-KB/s    in 0s      \n",
            "\n",
            "2024-04-22 23:05:49 (0.00 B/s) - ‘/content/uctransnet/models/_uctransnet/__init__.py’ saved [0/0]\n",
            "\n"
          ]
        }
      ]
    },
    {
      "cell_type": "code",
      "source": [
        "!pip install ml-collections"
      ],
      "metadata": {
        "colab": {
          "base_uri": "https://localhost:8080/"
        },
        "id": "FwJe_a8Z4TgA",
        "outputId": "51d438a7-d47c-4fee-8cd6-6ad565045a63"
      },
      "execution_count": 6,
      "outputs": [
        {
          "output_type": "stream",
          "name": "stdout",
          "text": [
            "Collecting ml-collections\n",
            "  Downloading ml_collections-0.1.1.tar.gz (77 kB)\n",
            "\u001b[2K     \u001b[90m━━━━━━━━━━━━━━━━━━━━━━━━━━━━━━━━━━━━━━━━\u001b[0m \u001b[32m77.9/77.9 kB\u001b[0m \u001b[31m859.5 kB/s\u001b[0m eta \u001b[36m0:00:00\u001b[0m\n",
            "\u001b[?25h  Preparing metadata (setup.py) ... \u001b[?25l\u001b[?25hdone\n",
            "Requirement already satisfied: absl-py in /usr/local/lib/python3.10/dist-packages (from ml-collections) (1.4.0)\n",
            "Requirement already satisfied: PyYAML in /usr/local/lib/python3.10/dist-packages (from ml-collections) (6.0.1)\n",
            "Requirement already satisfied: six in /usr/local/lib/python3.10/dist-packages (from ml-collections) (1.16.0)\n",
            "Requirement already satisfied: contextlib2 in /usr/local/lib/python3.10/dist-packages (from ml-collections) (21.6.0)\n",
            "Building wheels for collected packages: ml-collections\n",
            "  Building wheel for ml-collections (setup.py) ... \u001b[?25l\u001b[?25hdone\n",
            "  Created wheel for ml-collections: filename=ml_collections-0.1.1-py3-none-any.whl size=94506 sha256=f7400116c6478f2abbb0b99ab38ee36017f9168841b498711547d1039e24f8d3\n",
            "  Stored in directory: /root/.cache/pip/wheels/7b/89/c9/a9b87790789e94aadcfc393c283e3ecd5ab916aed0a31be8fe\n",
            "Successfully built ml-collections\n",
            "Installing collected packages: ml-collections\n",
            "Successfully installed ml-collections-0.1.1\n"
          ]
        }
      ]
    },
    {
      "cell_type": "code",
      "source": [
        "import sys\n",
        "sys.path.append('/content/uctransnet/models')  # Add the models directory to sys.path\n",
        "\n",
        "from _uctransnet.UCTransNet import UCTransNet\n",
        "from _uctransnet.Config import get_CTranS_config\n"
      ],
      "metadata": {
        "id": "PEnkis6f4Wv6"
      },
      "execution_count": 7,
      "outputs": []
    },
    {
      "cell_type": "code",
      "source": [
        "# # Set up environment variables and seeds as specified in Config.py\n",
        "# os.environ[\"CUDA_VISIBLE_DEVICES\"] = \"0\"  # This line may be redundant in Colab\n",
        "torch.manual_seed(666)\n",
        "torch.cuda.manual_seed_all(666)\n",
        "np.random.seed(666)\n",
        "random.seed(666)\n",
        "torch.backends.cudnn.deterministic = True\n",
        "torch.backends.cudnn.benchmark = False\n"
      ],
      "metadata": {
        "id": "IlXUFb7s4YPQ"
      },
      "execution_count": 14,
      "outputs": []
    },
    {
      "cell_type": "code",
      "source": [
        "config = get_CTranS_config()\n",
        "model = UCTransNet(config, n_channels=3, n_classes=1, img_size=224)\n"
      ],
      "metadata": {
        "id": "-53IZ-7o4a0I"
      },
      "execution_count": 15,
      "outputs": []
    },
    {
      "cell_type": "code",
      "source": [
        "import torch\n",
        "device = torch.device(\"cuda\" if torch.cuda.is_available() else \"cpu\")\n",
        "model = model.to(device)\n"
      ],
      "metadata": {
        "id": "cS0gUuTX4cQo"
      },
      "execution_count": 16,
      "outputs": []
    },
    {
      "cell_type": "markdown",
      "source": [
        "### Imports"
      ],
      "metadata": {
        "id": "_jbuq7iE354B"
      }
    },
    {
      "cell_type": "code",
      "execution_count": 11,
      "metadata": {
        "id": "xz7G45_MVilc"
      },
      "outputs": [],
      "source": [
        "# lib imports\n",
        "import torch\n",
        "import os\n",
        "import numpy as np\n",
        "import pandas as pd\n",
        "import random\n",
        "import cv2\n",
        "\n",
        "from tqdm import tqdm\n",
        "\n",
        "from skimage.io import imread, imshow\n",
        "from skimage.transform import resize\n",
        "import matplotlib.pyplot as plt"
      ]
    },
    {
      "cell_type": "code",
      "execution_count": 12,
      "metadata": {
        "id": "TQf8GJC3WxBu"
      },
      "outputs": [],
      "source": [
        "IMG_WIDTH = 224\n",
        "IMG_HEIGHT = 224\n",
        "IMG_CHANNELS = 3\n",
        "IMG_COUNT = 480"
      ]
    },
    {
      "cell_type": "code",
      "execution_count": 13,
      "metadata": {
        "id": "KB9yUggrZ5u5"
      },
      "outputs": [],
      "source": [
        "# set this between [1, 10] for differently composed datasets\n",
        "# reference: https://arxiv.org/pdf/2307.05911.pdf\n",
        "TRAINING_SET = 1"
      ]
    },
    {
      "cell_type": "markdown",
      "metadata": {
        "id": "dRB5U53vS6NK"
      },
      "source": [
        "# TestSets"
      ]
    },
    {
      "cell_type": "code",
      "execution_count": 17,
      "metadata": {
        "colab": {
          "base_uri": "https://localhost:8080/"
        },
        "id": "vBIq7T3LOx9W",
        "outputId": "0cfed18c-3052-4ceb-9eee-1d852a6458cd",
        "cellView": "form"
      },
      "outputs": [
        {
          "output_type": "stream",
          "name": "stdout",
          "text": [
            "Selected Training Set 1\n",
            "Manually Segmented - 100% (480)\n",
            "image count : 480\n"
          ]
        }
      ],
      "source": [
        "#@title This cell is for composing the datasets as mentioned in the original paper\n",
        "\n",
        "# Set the target image size\n",
        "target_size = (IMG_WIDTH, IMG_HEIGHT)\n",
        "\n",
        "# Create empty lists to hold the images and masks\n",
        "images = []\n",
        "masks = []\n",
        "\n",
        "image_dir_ms = '/content/data/GRAIN DATA SET/RG'\n",
        "mask_dir_ms = '/content/data/GRAIN DATA SET/RGMask'\n",
        "# vt stands for voronoi tessellation\n",
        "image_dir_vt = '/content/data/GRAIN DATA SET/AG'\n",
        "mask_dir_vt = '/content/data/GRAIN DATA SET/AGMask'\n",
        "\n",
        "image_dir_hed = '/content/data/GRAIN DATA SET/HED_PRE'\n",
        "mask_dir_hed = '/content/data/GRAIN DATA SET/RGMask'\n",
        "\n",
        "image_dir_grad = '/content/data/GRAIN DATA SET/GRAD_PRE'\n",
        "mask_dir_grad = '/content/data/GRAIN DATA SET/RGMask'\n",
        "\n",
        "image_dir_thresh = '/content/data/GRAIN DATA SET/THRESH_PRE'\n",
        "mask_dir_thresh = '/content/data/GRAIN DATA SET/RGMask'\n",
        "\n",
        "if TRAINING_SET==1:\n",
        "    # 100% Manually Segmented\n",
        "    print(\"Selected Training Set 1\")\n",
        "    print(\"Manually Segmented - 100% (480)\")\n",
        "    # Iterate through the directories and load the images and masks\n",
        "    for file in sorted(os.listdir(image_dir_ms)):\n",
        "        # Load the image and resize to the target size\n",
        "        img = cv2.imread(os.path.join(image_dir_ms, file))\n",
        "        img = cv2.resize(img, target_size)\n",
        "\n",
        "        # Append the resized image to the list of images\n",
        "        images.append(img)\n",
        "\n",
        "    for file in sorted(os.listdir(mask_dir_ms)):\n",
        "\n",
        "        # Load the corresponding mask and resize to the target size\n",
        "        mask = cv2.imread(os.path.join(mask_dir_ms, file))\n",
        "        mask = cv2.resize(mask, target_size)\n",
        "\n",
        "        # Append the resized mask to the list of masks\n",
        "        masks.append(mask)\n",
        "\n",
        "elif TRAINING_SET==2:\n",
        "    # 25% Artificial, 75% Manually Segmented (160, 480)\n",
        "    print(\"Selected Training Set 2\")\n",
        "    print(\"Voronoi Tessellation - 25% (160)\")\n",
        "    print(\"Manually Segmented - 75% (480)\")\n",
        "    # Iterate through the directories and load the images and masks\n",
        "    for file in sorted(os.listdir(image_dir_ms)):\n",
        "        # Load the image and resize to the target size\n",
        "        img = cv2.imread(os.path.join(image_dir_ms, file))\n",
        "        img = cv2.resize(img, target_size)\n",
        "\n",
        "        # Append the resized image to the list of images\n",
        "        images.append(img)\n",
        "\n",
        "    for file in sorted(os.listdir(mask_dir_ms)):\n",
        "\n",
        "        # Load the corresponding mask and resize to the target size\n",
        "        mask = cv2.imread(os.path.join(mask_dir_ms, file))\n",
        "        mask = cv2.resize(mask, target_size)\n",
        "\n",
        "        # Append the resized mask to the list of masks\n",
        "        masks.append(mask)\n",
        "\n",
        "    cnt = 0\n",
        "    # Iterate through the directories and load the images and masks\n",
        "    for file in sorted(os.listdir(image_dir_vt)):\n",
        "        if cnt==160:\n",
        "            break\n",
        "        # Load the image and resize to the target size\n",
        "        img = cv2.imread(os.path.join(image_dir_vt, file))\n",
        "        img = cv2.resize(img, target_size)\n",
        "\n",
        "        # Append the resized image to the list of images\n",
        "        images.append(img)\n",
        "        cnt+=1\n",
        "\n",
        "    cnt=0\n",
        "    for file in sorted(os.listdir(mask_dir_vt)):\n",
        "        if cnt==160:\n",
        "            break\n",
        "        # Load the corresponding mask and resize to the target size\n",
        "        mask = cv2.imread(os.path.join(mask_dir_vt, file))\n",
        "        mask = cv2.resize(mask, target_size)\n",
        "\n",
        "        # Append the resized mask to the list of masks\n",
        "        masks.append(mask)\n",
        "        cnt+=1\n",
        "\n",
        "elif TRAINING_SET==3:\n",
        "    # 50% Artificial, 50% Manually Segmented (480, 480)\n",
        "    print(\"Selected Training Set 3\")\n",
        "    print(\"Voronoi Tessellation - 50% (480)\")\n",
        "    print(\"Manually Segmented - 50% (480)\")\n",
        "    # Iterate through the directories and load the images and masks\n",
        "    for file in sorted(os.listdir(image_dir_ms)):\n",
        "        # Load the image and resize to the target size\n",
        "        img = cv2.imread(os.path.join(image_dir_ms, file))\n",
        "        img = cv2.resize(img, target_size)\n",
        "\n",
        "        # Append the resized image to the list of images\n",
        "        images.append(img)\n",
        "\n",
        "    for file in sorted(os.listdir(mask_dir_ms)):\n",
        "\n",
        "        # Load the corresponding mask and resize to the target size\n",
        "        mask = cv2.imread(os.path.join(mask_dir_ms, file))\n",
        "        mask = cv2.resize(mask, target_size)\n",
        "\n",
        "        # Append the resized mask to the list of masks\n",
        "        masks.append(mask)\n",
        "\n",
        "    cnt = 0\n",
        "    # Iterate through the directories and load the images and masks\n",
        "    for file in sorted(os.listdir(image_dir_vt)):\n",
        "        if cnt==480:\n",
        "            break\n",
        "        # Load the image and resize to the target size\n",
        "        img = cv2.imread(os.path.join(image_dir_vt, file))\n",
        "        img = cv2.resize(img, target_size)\n",
        "\n",
        "        # Append the resized image to the list of images\n",
        "        images.append(img)\n",
        "        cnt+=1\n",
        "\n",
        "    cnt=0\n",
        "    for file in sorted(os.listdir(mask_dir_vt)):\n",
        "        if cnt==480:\n",
        "            break\n",
        "        # Load the corresponding mask and resize to the target size\n",
        "        mask = cv2.imread(os.path.join(mask_dir_vt, file))\n",
        "        mask = cv2.resize(mask, target_size)\n",
        "\n",
        "        # Append the resized mask to the list of masks\n",
        "        masks.append(mask)\n",
        "        cnt+=1\n",
        "\n",
        "elif TRAINING_SET==4:\n",
        "    # 75% Artificial, 25% Manually Segmented (800, 266)\n",
        "    print(\"Selected Training Set 4\")\n",
        "    print(\"Voronoi Tessellation - 75% (800)\")\n",
        "    print(\"Manually Segmented - 25% (266)\")\n",
        "    cnt = 0\n",
        "    # Iterate through the directories and load the images and masks\n",
        "    for file in sorted(os.listdir(image_dir_ms)):\n",
        "        if cnt==266:\n",
        "            break\n",
        "        # Load the image and resize to the target size\n",
        "        img = cv2.imread(os.path.join(image_dir_ms, file))\n",
        "        img = cv2.resize(img, target_size)\n",
        "\n",
        "        # Append the resized image to the list of images\n",
        "        images.append(img)\n",
        "        cnt+=1\n",
        "\n",
        "    cnt=0\n",
        "    for file in sorted(os.listdir(mask_dir_ms)):\n",
        "        if cnt==266:\n",
        "            break\n",
        "        # Load the corresponding mask and resize to the target size\n",
        "        mask = cv2.imread(os.path.join(mask_dir_ms, file))\n",
        "        mask = cv2.resize(mask, target_size)\n",
        "\n",
        "        # Append the resized mask to the list of masks\n",
        "        masks.append(mask)\n",
        "        cnt+=1\n",
        "\n",
        "    # Iterate through the directories and load the images and masks\n",
        "    for file in sorted(os.listdir(image_dir_vt)):\n",
        "        # Load the image and resize to the target size\n",
        "        img = cv2.imread(os.path.join(image_dir_vt, file))\n",
        "        img = cv2.resize(img, target_size)\n",
        "\n",
        "        # Append the resized image to the list of images\n",
        "        images.append(img)\n",
        "\n",
        "    for file in sorted(os.listdir(mask_dir_vt)):\n",
        "\n",
        "        # Load the corresponding mask and resize to the target size\n",
        "        mask = cv2.imread(os.path.join(mask_dir_vt, file))\n",
        "        mask = cv2.resize(mask, target_size)\n",
        "\n",
        "        # Append the resized mask to the list of masks\n",
        "        masks.append(mask)\n",
        "\n",
        "elif TRAINING_SET==5:\n",
        "    # 100% Artificial (800)\n",
        "    print(\"Selected Training Set 5\")\n",
        "    print(\"Voronoi Tessellation - 100% (800)\")\n",
        "    # Iterate through the directories and load the images and masks\n",
        "    for file in sorted(os.listdir(image_dir_vt)):\n",
        "        # Load the image and resize to the target size\n",
        "        img = cv2.imread(os.path.join(image_dir_vt, file))\n",
        "        img = cv2.resize(img, target_size)\n",
        "\n",
        "        # Append the resized image to the list of images\n",
        "        images.append(img)\n",
        "\n",
        "    for file in sorted(os.listdir(mask_dir_vt)):\n",
        "\n",
        "        # Load the corresponding mask and resize to the target size\n",
        "        mask = cv2.imread(os.path.join(mask_dir_vt, file))\n",
        "        mask = cv2.resize(mask, target_size)\n",
        "\n",
        "        # Append the resized mask to the list of masks\n",
        "        masks.append(mask)\n",
        "\n",
        "elif TRAINING_SET==6:\n",
        "    # 50% HED Preprocessed, 50% Manually Segmented (240, 240)\n",
        "    print(\"Selected Training Set 6\")\n",
        "    print(\"HED Preprocessed - 50% (240)\")\n",
        "    print(\"Manually Segmented - 50% (240)\")\n",
        "    cnt = 0\n",
        "    # Iterate through the directories and load the images and masks\n",
        "    for file in sorted(os.listdir(image_dir_ms)):\n",
        "        if cnt==240:\n",
        "            break\n",
        "        # Load the image and resize to the target size\n",
        "        img = cv2.imread(os.path.join(image_dir_ms, file))\n",
        "        img = cv2.resize(img, target_size)\n",
        "\n",
        "        # Append the resized image to the list of images\n",
        "        images.append(img)\n",
        "        cnt+=1\n",
        "\n",
        "    cnt=0\n",
        "    for file in sorted(os.listdir(mask_dir_ms)):\n",
        "        if cnt==240:\n",
        "            break\n",
        "        # Load the corresponding mask and resize to the target size\n",
        "        mask = cv2.imread(os.path.join(mask_dir_ms, file))\n",
        "        mask = cv2.resize(mask, target_size)\n",
        "\n",
        "        # Append the resized mask to the list of masks\n",
        "        masks.append(mask)\n",
        "        cnt+=1\n",
        "\n",
        "    cnt = 0\n",
        "    # Iterate through the directories and load the images and masks\n",
        "    for file in sorted(os.listdir(image_dir_hed)):\n",
        "        if cnt<240:\n",
        "            cnt+=1\n",
        "            continue\n",
        "        if cnt==480:\n",
        "            break\n",
        "        # Load the image and resize to the target size\n",
        "        img = cv2.imread(os.path.join(image_dir_hed, file))\n",
        "        img = cv2.resize(img, target_size)\n",
        "\n",
        "        # Append the resized image to the list of images\n",
        "        images.append(img)\n",
        "        cnt+=1\n",
        "\n",
        "    cnt=0\n",
        "    for file in sorted(os.listdir(mask_dir_hed)):\n",
        "        if cnt<240:\n",
        "            cnt+=1\n",
        "            continue\n",
        "        if cnt==480:\n",
        "            break\n",
        "        # Load the corresponding mask and resize to the target size\n",
        "        mask = cv2.imread(os.path.join(mask_dir_hed, file))\n",
        "        mask = cv2.resize(mask, target_size)\n",
        "\n",
        "        # Append the resized mask to the list of masks\n",
        "        masks.append(mask)\n",
        "        cnt+=1\n",
        "\n",
        "elif TRAINING_SET==7:\n",
        "    # 50% Manually Segmented, 25% Artificial, 25% HED Preprocessed(240, 120, 120)\n",
        "    print(\"Selected Training Set 7\")\n",
        "    print(\"Manually Segmented - 50% (240)\")\n",
        "    print(\"Voronoi Tessellation - 25% (120)\")\n",
        "    print(\"HED Preprocessed - 25% (120)\")\n",
        "    # Iterate through the directories and load the images and masks\n",
        "    cnt=0\n",
        "    for file in sorted(os.listdir(image_dir_ms)):\n",
        "        if cnt==240:\n",
        "            break\n",
        "        # Load the image and resize to the target size\n",
        "        img = cv2.imread(os.path.join(image_dir_ms, file))\n",
        "        img = cv2.resize(img, target_size)\n",
        "\n",
        "        # Append the resized image to the list of images\n",
        "        images.append(img)\n",
        "        cnt+=1\n",
        "\n",
        "    cnt=0\n",
        "    for file in sorted(os.listdir(mask_dir_ms)):\n",
        "        if cnt==240:\n",
        "            break\n",
        "        # Load the corresponding mask and resize to the target size\n",
        "        mask = cv2.imread(os.path.join(mask_dir_ms, file))\n",
        "        mask = cv2.resize(mask, target_size)\n",
        "\n",
        "        # Append the resized mask to the list of masks\n",
        "        masks.append(mask)\n",
        "        cnt+=1\n",
        "\n",
        "\n",
        "    cnt = 0\n",
        "    # Iterate through the directories and load the images and masks\n",
        "    for file in sorted(os.listdir(image_dir_vt)):\n",
        "        if cnt==120:\n",
        "            break\n",
        "        # Load the image and resize to the target size\n",
        "        img = cv2.imread(os.path.join(image_dir_vt, file))\n",
        "        img = cv2.resize(img, target_size)\n",
        "\n",
        "        # Append the resized image to the list of images\n",
        "        images.append(img)\n",
        "        cnt+=1\n",
        "\n",
        "    cnt=0\n",
        "    for file in sorted(os.listdir(mask_dir_vt)):\n",
        "        if cnt==120:\n",
        "            break\n",
        "        # Load the corresponding mask and resize to the target size\n",
        "        mask = cv2.imread(os.path.join(mask_dir_vt, file))\n",
        "        mask = cv2.resize(mask, target_size)\n",
        "\n",
        "        # Append the resized mask to the list of masks\n",
        "        masks.append(mask)\n",
        "        cnt+=1\n",
        "\n",
        "\n",
        "    cnt = 0\n",
        "    # Iterate through the directories and load the images and masks\n",
        "    for file in sorted(os.listdir(image_dir_hed)):\n",
        "        if cnt<240:\n",
        "            cnt+=1\n",
        "            continue\n",
        "        if cnt==360:\n",
        "            break\n",
        "        # Load the image and resize to the target size\n",
        "        img = cv2.imread(os.path.join(image_dir_hed, file))\n",
        "        img = cv2.resize(img, target_size)\n",
        "\n",
        "        # Append the resized image to the list of images\n",
        "        images.append(img)\n",
        "        cnt+=1\n",
        "\n",
        "    cnt=0\n",
        "    for file in sorted(os.listdir(mask_dir_hed)):\n",
        "        if cnt<240:\n",
        "            cnt+=1\n",
        "            continue\n",
        "        if cnt==360:\n",
        "            break\n",
        "        # Load the corresponding mask and resize to the target size\n",
        "        mask = cv2.imread(os.path.join(mask_dir_hed, file))\n",
        "        mask = cv2.resize(mask, target_size)\n",
        "\n",
        "        # Append the resized mask to the list of masks\n",
        "        masks.append(mask)\n",
        "        cnt+=1\n",
        "\n",
        "\n",
        "elif TRAINING_SET==8:\n",
        "    # 50% Manually Segmented, 25% Artificial, 25% GRAD Preprocessed(240, 120, 120)\n",
        "    print(\"Selected Training Set 8\")\n",
        "    print(\"Manually Segmented - 50% (240)\")\n",
        "    print(\"Voronoi Tessellation - 25% (120)\")\n",
        "    print(\"GRAD Preprocessed - 25% (120)\")\n",
        "    # Iterate through the directories and load the images and masks\n",
        "    cnt=0\n",
        "    for file in sorted(os.listdir(image_dir_ms)):\n",
        "        if cnt==240:\n",
        "            break\n",
        "        # Load the image and resize to the target size\n",
        "        img = cv2.imread(os.path.join(image_dir_ms, file))\n",
        "        img = cv2.resize(img, target_size)\n",
        "\n",
        "        # Append the resized image to the list of images\n",
        "        images.append(img)\n",
        "        cnt+=1\n",
        "\n",
        "    cnt=0\n",
        "    for file in sorted(os.listdir(mask_dir_ms)):\n",
        "        if cnt==240:\n",
        "            break\n",
        "        # Load the corresponding mask and resize to the target size\n",
        "        mask = cv2.imread(os.path.join(mask_dir_ms, file))\n",
        "        mask = cv2.resize(mask, target_size)\n",
        "\n",
        "        # Append the resized mask to the list of masks\n",
        "        masks.append(mask)\n",
        "        cnt+=1\n",
        "\n",
        "\n",
        "    cnt = 0\n",
        "    # Iterate through the directories and load the images and masks\n",
        "    for file in sorted(os.listdir(image_dir_vt)):\n",
        "        if cnt==120:\n",
        "            break\n",
        "        # Load the image and resize to the target size\n",
        "        img = cv2.imread(os.path.join(image_dir_vt, file))\n",
        "        img = cv2.resize(img, target_size)\n",
        "\n",
        "        # Append the resized image to the list of images\n",
        "        images.append(img)\n",
        "        cnt+=1\n",
        "\n",
        "    cnt=0\n",
        "    for file in sorted(os.listdir(mask_dir_vt)):\n",
        "        if cnt==120:\n",
        "            break\n",
        "        # Load the corresponding mask and resize to the target size\n",
        "        mask = cv2.imread(os.path.join(mask_dir_vt, file))\n",
        "        mask = cv2.resize(mask, target_size)\n",
        "\n",
        "        # Append the resized mask to the list of masks\n",
        "        masks.append(mask)\n",
        "        cnt+=1\n",
        "\n",
        "\n",
        "    cnt = 0\n",
        "    # Iterate through the directories and load the images and masks\n",
        "    for file in sorted(os.listdir(image_dir_grad)):\n",
        "        if cnt<240:\n",
        "            cnt+=1\n",
        "            continue\n",
        "        if cnt==360:\n",
        "            break\n",
        "        # Load the image and resize to the target size\n",
        "        img = cv2.imread(os.path.join(image_dir_grad, file))\n",
        "        img = cv2.resize(img, target_size)\n",
        "\n",
        "        # Append the resized image to the list of images\n",
        "        images.append(img)\n",
        "        cnt+=1\n",
        "\n",
        "    cnt=0\n",
        "    for file in sorted(os.listdir(mask_dir_grad)):\n",
        "        if cnt<240:\n",
        "            cnt+=1\n",
        "            continue\n",
        "        if cnt==360:\n",
        "            break\n",
        "        # Load the corresponding mask and resize to the target size\n",
        "        mask = cv2.imread(os.path.join(mask_dir_grad, file))\n",
        "        mask = cv2.resize(mask, target_size)\n",
        "\n",
        "        # Append the resized mask to the list of masks\n",
        "        masks.append(mask)\n",
        "        cnt+=1\n",
        "\n",
        "elif TRAINING_SET==9:\n",
        "    # 50% Manually Segmented, 25% Artificial, 25% THRESHOLD Preprocessed(240, 120, 120)\n",
        "    print(\"Selected Training Set 9\")\n",
        "    print(\"Manually Segmented - 50% (240)\")\n",
        "    print(\"Voronoi Tessellation - 25% (120)\")\n",
        "    print(\"THRESHOLD Preprocessed - 25% (120)\")\n",
        "    # Iterate through the directories and load the images and masks\n",
        "    cnt=0\n",
        "    for file in sorted(os.listdir(image_dir_ms)):\n",
        "        if cnt==240:\n",
        "            break\n",
        "        # Load the image and resize to the target size\n",
        "        img = cv2.imread(os.path.join(image_dir_ms, file))\n",
        "        img = cv2.resize(img, target_size)\n",
        "\n",
        "        # Append the resized image to the list of images\n",
        "        images.append(img)\n",
        "        cnt+=1\n",
        "\n",
        "    cnt=0\n",
        "    for file in sorted(os.listdir(mask_dir_ms)):\n",
        "        if cnt==240:\n",
        "            break\n",
        "        # Load the corresponding mask and resize to the target size\n",
        "        mask = cv2.imread(os.path.join(mask_dir_ms, file))\n",
        "        mask = cv2.resize(mask, target_size)\n",
        "\n",
        "        # Append the resized mask to the list of masks\n",
        "        masks.append(mask)\n",
        "        cnt+=1\n",
        "\n",
        "\n",
        "    cnt = 0\n",
        "    # Iterate through the directories and load the images and masks\n",
        "    for file in sorted(os.listdir(image_dir_vt)):\n",
        "        if cnt==120:\n",
        "            break\n",
        "        # Load the image and resize to the target size\n",
        "        img = cv2.imread(os.path.join(image_dir_vt, file))\n",
        "        img = cv2.resize(img, target_size)\n",
        "\n",
        "        # Append the resized image to the list of images\n",
        "        images.append(img)\n",
        "        cnt+=1\n",
        "\n",
        "    cnt=0\n",
        "    for file in sorted(os.listdir(mask_dir_vt)):\n",
        "        if cnt==120:\n",
        "            break\n",
        "        # Load the corresponding mask and resize to the target size\n",
        "        mask = cv2.imread(os.path.join(mask_dir_vt, file))\n",
        "        mask = cv2.resize(mask, target_size)\n",
        "\n",
        "        # Append the resized mask to the list of masks\n",
        "        masks.append(mask)\n",
        "        cnt+=1\n",
        "\n",
        "\n",
        "    cnt = 0\n",
        "    # Iterate through the directories and load the images and masks\n",
        "    for file in sorted(os.listdir(image_dir_thresh)):\n",
        "        if cnt<240:\n",
        "            cnt+=1\n",
        "            continue\n",
        "        if cnt==360:\n",
        "            break\n",
        "        # Load the image and resize to the target size\n",
        "        img = cv2.imread(os.path.join(image_dir_thresh, file))\n",
        "        img = cv2.resize(img, target_size)\n",
        "\n",
        "        # Append the resized image to the list of images\n",
        "        images.append(img)\n",
        "        cnt+=1\n",
        "\n",
        "    cnt=0\n",
        "    for file in sorted(os.listdir(mask_dir_thresh)):\n",
        "        if cnt<240:\n",
        "            cnt+=1\n",
        "            continue\n",
        "        if cnt==360:\n",
        "            break\n",
        "        # Load the corresponding mask and resize to the target size\n",
        "        mask = cv2.imread(os.path.join(mask_dir_thresh, file))\n",
        "        mask = cv2.resize(mask, target_size)\n",
        "\n",
        "        # Append the resized mask to the list of masks\n",
        "        masks.append(mask)\n",
        "        cnt+=1\n",
        "\n",
        "elif TRAINING_SET==10:\n",
        "    # 50% Manually Segmented, 16.67% HED Prep., 16.67% GRAD Prep.,16.67% THRESHOLD Prep.(240, 80, 80, 80)\n",
        "    print(\"Selected Training Set 10\")\n",
        "    print(\"Manually Segmented - 50% (240)\")\n",
        "    print(\"HED Preprocessed - 16.67% (80)\")\n",
        "    print(\"GRAD Preprocessed - 16.67% (80)\")\n",
        "    print(\"THRESHOLD Preprocessed - 16.67% (80)\")\n",
        "    # Iterate through the directories and load the images and masks\n",
        "    cnt=0\n",
        "    for file in sorted(os.listdir(image_dir_ms)):\n",
        "        if cnt==240:\n",
        "            break\n",
        "        # Load the image and resize to the target size\n",
        "        img = cv2.imread(os.path.join(image_dir_ms, file))\n",
        "        img = cv2.resize(img, target_size)\n",
        "\n",
        "        # Append the resized image to the list of images\n",
        "        images.append(img)\n",
        "        cnt+=1\n",
        "\n",
        "    cnt=0\n",
        "    for file in sorted(os.listdir(mask_dir_ms)):\n",
        "        if cnt==240:\n",
        "            break\n",
        "        # Load the corresponding mask and resize to the target size\n",
        "        mask = cv2.imread(os.path.join(mask_dir_ms, file))\n",
        "        mask = cv2.resize(mask, target_size)\n",
        "\n",
        "        # Append the resized mask to the list of masks\n",
        "        masks.append(mask)\n",
        "        cnt+=1\n",
        "\n",
        "    cnt = 0\n",
        "    # Iterate through the directories and load the images and masks\n",
        "    for file in sorted(os.listdir(image_dir_hed)):\n",
        "        if cnt<240:\n",
        "            cnt+=1\n",
        "            continue\n",
        "        if cnt==320:\n",
        "            break\n",
        "        # Load the image and resize to the target size\n",
        "        img = cv2.imread(os.path.join(image_dir_hed, file))\n",
        "        img = cv2.resize(img, target_size)\n",
        "\n",
        "        # Append the resized image to the list of images\n",
        "        images.append(img)\n",
        "        cnt+=1\n",
        "\n",
        "    cnt=0\n",
        "    for file in sorted(os.listdir(mask_dir_hed)):\n",
        "        if cnt<240:\n",
        "            cnt+=1\n",
        "            continue\n",
        "        if cnt==320:\n",
        "            break\n",
        "        # Load the corresponding mask and resize to the target size\n",
        "        mask = cv2.imread(os.path.join(mask_dir_hed, file))\n",
        "        mask = cv2.resize(mask, target_size)\n",
        "\n",
        "        # Append the resized mask to the list of masks\n",
        "        masks.append(mask)\n",
        "        cnt+=1\n",
        "\n",
        "    cnt = 0\n",
        "    # Iterate through the directories and load the images and masks\n",
        "    for file in sorted(os.listdir(image_dir_grad)):\n",
        "        if cnt<320:\n",
        "            cnt+=1\n",
        "            continue\n",
        "        if cnt==400:\n",
        "            break\n",
        "        # Load the image and resize to the target size\n",
        "        img = cv2.imread(os.path.join(image_dir_grad, file))\n",
        "        img = cv2.resize(img, target_size)\n",
        "\n",
        "        # Append the resized image to the list of images\n",
        "        images.append(img)\n",
        "        cnt+=1\n",
        "\n",
        "    cnt=0\n",
        "    for file in sorted(os.listdir(mask_dir_grad)):\n",
        "        if cnt<320:\n",
        "            cnt+=1\n",
        "            continue\n",
        "        if cnt==400:\n",
        "            break\n",
        "        # Load the corresponding mask and resize to the target size\n",
        "        mask = cv2.imread(os.path.join(mask_dir_grad, file))\n",
        "        mask = cv2.resize(mask, target_size)\n",
        "\n",
        "        # Append the resized mask to the list of masks\n",
        "        masks.append(mask)\n",
        "        cnt+=1\n",
        "\n",
        "    cnt = 0\n",
        "    # Iterate through the directories and load the images and masks\n",
        "    for file in sorted(os.listdir(image_dir_thresh)):\n",
        "        if cnt<400:\n",
        "            cnt+=1\n",
        "            continue\n",
        "        if cnt==480:\n",
        "            break\n",
        "        # Load the image and resize to the target size\n",
        "        img = cv2.imread(os.path.join(image_dir_thresh, file))\n",
        "        img = cv2.resize(img, target_size)\n",
        "\n",
        "        # Append the resized image to the list of images\n",
        "        images.append(img)\n",
        "        cnt+=1\n",
        "\n",
        "    cnt=0\n",
        "    for file in sorted(os.listdir(mask_dir_thresh)):\n",
        "        if cnt<400:\n",
        "            cnt+=1\n",
        "            continue\n",
        "        if cnt==480:\n",
        "            break\n",
        "        # Load the corresponding mask and resize to the target size\n",
        "        mask = cv2.imread(os.path.join(mask_dir_thresh, file))\n",
        "        mask = cv2.resize(mask, target_size)\n",
        "\n",
        "        # Append the resized mask to the list of masks\n",
        "        masks.append(mask)\n",
        "        cnt+=1\n",
        "\n",
        "\n",
        "\n",
        "IMG_COUNT = len(images)\n",
        "print(f\"image count : {IMG_COUNT}\")"
      ]
    },
    {
      "cell_type": "markdown",
      "metadata": {
        "id": "ihXq1aKcZuVQ"
      },
      "source": [
        "# Example Image and it's Ground Truth"
      ]
    },
    {
      "cell_type": "code",
      "execution_count": null,
      "metadata": {
        "colab": {
          "base_uri": "https://localhost:8080/"
        },
        "id": "MpDzy0FQYNA8",
        "outputId": "ae9b5185-09a6-4c00-a5b4-1bc23c858300"
      },
      "outputs": [
        {
          "data": {
            "image/png": "[encoded data removed]",
            "text/plain": [
              "<Figure size 640x480 with 1 Axes>"
            ]
          },
          "metadata": {},
          "output_type": "display_data"
        },
        {
          "data": {
            "image/png": "[encoded data removed]",
            "text/plain": [
              "<Figure size 640x480 with 1 Axes>"
            ]
          },
          "metadata": {},
          "output_type": "display_data"
        }
      ],
      "source": [
        "# example\n",
        "image_x = random.randint(0, IMG_COUNT)\n",
        "image_x\n",
        "imshow(images[image_x])\n",
        "plt.show()\n",
        "imshow(masks[image_x])\n",
        "plt.show()"
      ]
    },
    {
      "cell_type": "markdown",
      "metadata": {
        "id": "IawsoiuQBxU3"
      },
      "source": [
        "# Dataset splitting"
      ]
    },
    {
      "cell_type": "code",
      "execution_count": 18,
      "metadata": {
        "colab": {
          "base_uri": "https://localhost:8080/"
        },
        "id": "kiRlzdUuc6ca",
        "outputId": "dc5ee474-2be1-43ab-b7a6-c62ea75b243c"
      },
      "outputs": [
        {
          "output_type": "stream",
          "name": "stdout",
          "text": [
            "(480, 224, 224, 3) (480, 224, 224, 3)\n"
          ]
        }
      ],
      "source": [
        "# create the X and Y (input and output)\n",
        "\n",
        "X_train = np.array(images)\n",
        "Y_train = np.array(masks)\n",
        "print(X_train.shape, Y_train.shape)\n",
        "# change the Y to a boolean\n",
        "Y_train = np.where(Y_train > 245, True, False)"
      ]
    },
    {
      "cell_type": "code",
      "execution_count": 19,
      "metadata": {
        "colab": {
          "base_uri": "https://localhost:8080/"
        },
        "id": "I303u1Z3OZZT",
        "outputId": "91c48688-e97a-40c6-cbf9-043fc19bfd8a"
      },
      "outputs": [
        {
          "output_type": "stream",
          "name": "stdout",
          "text": [
            "(480, 3, 224, 224) (480, 3, 224, 224)\n"
          ]
        }
      ],
      "source": [
        "# careful to run this cell only once (otherwise shape changes)\n",
        "X_train = np.transpose(X_train, (0, 3, 1 , 2))\n",
        "Y_train = np.transpose(Y_train, (0, 3, 1 , 2))\n",
        "print(X_train.shape, Y_train.shape)"
      ]
    },
    {
      "cell_type": "code",
      "execution_count": 20,
      "metadata": {
        "colab": {
          "base_uri": "https://localhost:8080/"
        },
        "id": "wtXB7ItEc-J9",
        "outputId": "ed8cc6a1-b43a-4ce6-e5de-07390a65881e"
      },
      "outputs": [
        {
          "output_type": "stream",
          "name": "stdout",
          "text": [
            "(480, 224, 224)\n",
            "(480, 1, 224, 224)\n"
          ]
        }
      ],
      "source": [
        "#convert the boolean where it insion s true (any of the 3 channels) to a (336, 128, 128, 1)\n",
        "#basically reduce the 3 channel dimeRGB to just one boolean value\n",
        "\n",
        "Y_t= np.any(Y_train, axis=1)\n",
        "print(Y_t.shape)\n",
        "Y_t = Y_t.reshape(IMG_COUNT, 1, IMG_WIDTH, IMG_WIDTH)\n",
        "print(Y_t.shape)\n"
      ]
    },
    {
      "cell_type": "code",
      "execution_count": 21,
      "metadata": {
        "id": "MKN9aaGqmgT7"
      },
      "outputs": [],
      "source": [
        "# prompt: Make Dataset from data\n",
        "\n",
        "from torch.utils.data import Dataset\n",
        "\n",
        "class GrainDataset(Dataset):\n",
        "    def __init__(self, images, masks):\n",
        "        self.images = images\n",
        "        self.masks = masks\n",
        "\n",
        "    def __len__(self):\n",
        "        return len(self.images)\n",
        "\n",
        "    def __getitem__(self, idx):\n",
        "        image = torch.from_numpy(self.images[idx]).float()\n",
        "        mask = torch.from_numpy(self.masks[idx]).float()\n",
        "        return image, mask\n",
        "\n",
        "# Create the dataset\n",
        "dataset = GrainDataset(X_train, Y_t)\n",
        "\n"
      ]
    },
    {
      "cell_type": "code",
      "execution_count": 22,
      "metadata": {
        "id": "S89-QaPhnkf2"
      },
      "outputs": [],
      "source": [
        "# prompt: create train and validation dataset\n",
        "\n",
        "from torch.utils.data import random_split\n",
        "\n",
        "# Split the dataset into train and validation sets (80-10-10)\n",
        "train_size = int(0.80 * len(dataset))\n",
        "r = len(dataset) - train_size\n",
        "val_size = int(0.5 * r)\n",
        "test_size = int(0.5 * r)\n",
        "train_dataset, val_dataset,test_dataset = random_split(dataset, [train_size, val_size, test_size])\n",
        "\n"
      ]
    },
    {
      "cell_type": "code",
      "execution_count": 23,
      "metadata": {
        "colab": {
          "base_uri": "https://localhost:8080/"
        },
        "id": "nmbz2eq0vS6H",
        "outputId": "414f7a71-bb97-4490-f058-05c3eaa70d24"
      },
      "outputs": [
        {
          "output_type": "stream",
          "name": "stdout",
          "text": [
            "Train : 384\n",
            "Val: 48\n",
            "Test: 48\n"
          ]
        }
      ],
      "source": [
        "print(f\"Train : {train_size}\")\n",
        "print(f\"Val: {val_size}\")\n",
        "print(f\"Test: {test_size}\")"
      ]
    },
    {
      "cell_type": "markdown",
      "metadata": {
        "id": "9OCZkEHi61VK"
      },
      "source": [
        "# Train"
      ]
    },
    {
      "cell_type": "code",
      "source": [
        "# Define callbacks\n",
        "class ModelCheckpoint:\n",
        "    def __init__(self, checkpoint_path):\n",
        "        self.checkpoint_path = checkpoint_path\n",
        "        self.best_loss = float('inf')\n",
        "\n",
        "    def __call__(self, model, epoch, train_loss, val_loss):\n",
        "        if val_loss < self.best_loss:\n",
        "            torch.save({\n",
        "            'epoch': epoch,\n",
        "            'model_state_dict': model.state_dict(),\n",
        "            'train_loss' : train_loss,\n",
        "            'val_loss': val_loss,\n",
        "            }, self.checkpoint_path)\n",
        "            print(\"Checkpoint saved\")\n",
        "            self.best_loss = val_loss\n",
        "\n",
        "from datetime import datetime\n",
        "checkpoint_path = f'/content/drive/MyDrive/465 Project/Ex1-SS316L-Grains-500X/UCTrans{TRAINING_SET}_{datetime.now().strftime(\"%d%m%Y %H:%M:%S\")}.pt'\n",
        "# print(checkpoint_path)\n",
        "# os.makedirs(\"/content/drive/MyDrive/465 Project\", exist_ok=True) # already exists\n",
        "checkpoint_dir = os.path.dirname(checkpoint_path)\n",
        "\n",
        "checkpointer = ModelCheckpoint(checkpoint_path)"
      ],
      "metadata": {
        "id": "O30QCRPNbsDb"
      },
      "execution_count": 24,
      "outputs": []
    },
    {
      "cell_type": "code",
      "source": [
        "import torch\n",
        "from torch.nn import functional as F\n",
        "\n",
        "\n",
        "\n",
        "EPSILON = 1e-6\n",
        "\n",
        "class DiceLoss(torch.nn.Module):\n",
        "    def __init__(self,):\n",
        "        super().__init__()\n",
        "\n",
        "    def forward(self, pred, mask):\n",
        "        pred = pred.flatten()\n",
        "        mask = mask.flatten()\n",
        "\n",
        "        intersect = (mask * pred).sum()\n",
        "        dice_score = 2*intersect / (pred.sum() + mask.sum() + EPSILON)\n",
        "        dice_loss = 1 - dice_score\n",
        "        return dice_loss\n",
        "\n",
        "\n",
        "class DiceLossWithLogtis(torch.nn.Module):\n",
        "    def __init__(self,):\n",
        "        super().__init__()\n",
        "\n",
        "    def forward(self, pred, mask):\n",
        "        prob = F.softmax(pred, dim=1)\n",
        "        true_1_hot = mask.type(prob.type())\n",
        "\n",
        "        dims = (0,) + tuple(range(2, true_1_hot.ndimension()))\n",
        "        intersection = torch.sum(prob * true_1_hot, dims)\n",
        "        cardinality = torch.sum(prob + true_1_hot, dims)\n",
        "        dice_loss = (2. * intersection / (cardinality + EPSILON)).mean()\n",
        "        return (1 - dice_loss)"
      ],
      "metadata": {
        "id": "o12_1hDvbYXT"
      },
      "execution_count": 25,
      "outputs": []
    },
    {
      "cell_type": "code",
      "source": [
        "class EarlyStopping:\n",
        "    def __init__(self, patience=7, verbose=False, delta=0):\n",
        "        \"\"\"\n",
        "        Args:\n",
        "            patience (int): How long to wait after last time validation loss improved.\n",
        "                            Default: 7\n",
        "            verbose (bool): If True, prints a message for each validation loss improvement.\n",
        "                            Default: False\n",
        "            delta (float): Minimum change in the monitored quantity to qualify as an improvement.\n",
        "                            Default: 0\n",
        "        \"\"\"\n",
        "        self.patience = patience\n",
        "        self.verbose = verbose\n",
        "        self.counter = 0\n",
        "        self.best_score = None\n",
        "        self.early_stop = False\n",
        "        self.val_loss_min = float('inf')\n",
        "        self.delta = delta\n",
        "\n",
        "    def __call__(self, val_loss):\n",
        "        score = -val_loss\n",
        "\n",
        "        if self.best_score is None:\n",
        "            self.best_score = score\n",
        "            self.save_checkpoint(val_loss)\n",
        "        elif score < self.best_score + self.delta:\n",
        "            self.counter += 1\n",
        "            if self.verbose:\n",
        "                print(f'EarlyStopping counter: {self.counter} out of {self.patience}')\n",
        "            if self.counter >= self.patience:\n",
        "                self.early_stop = True\n",
        "        else:\n",
        "            self.best_score = score\n",
        "            self.save_checkpoint(val_loss)\n",
        "            self.counter = 0\n",
        "\n",
        "    def save_checkpoint(self, val_loss):\n",
        "        \"\"\"Saves model when validation loss decrease.\"\"\"\n",
        "        if self.verbose:\n",
        "            print(f'Validation loss decreased ({self.val_loss_min:.6f} --> {val_loss:.6f}).  Saving model...')\n",
        "        self.val_loss_min = val_loss"
      ],
      "metadata": {
        "id": "iYhpcQC88sI2"
      },
      "execution_count": 26,
      "outputs": []
    },
    {
      "cell_type": "code",
      "execution_count": 27,
      "metadata": {
        "colab": {
          "base_uri": "https://localhost:8080/"
        },
        "id": "M1ze9oRSeFL9",
        "outputId": "144c79be-bd9e-4936-ab5d-e717d4b0ff60"
      },
      "outputs": [
        {
          "output_type": "stream",
          "name": "stdout",
          "text": [
            "Epoch [1/40], Train Loss: 0.1994, Val Loss: 0.1651\n",
            "Checkpoint saved\n",
            "Validation loss decreased (inf --> 0.165095).  Saving model...\n",
            "Epoch [2/40], Train Loss: 0.1404, Val Loss: 0.1396\n",
            "Checkpoint saved\n",
            "Validation loss decreased (0.165095 --> 0.139625).  Saving model...\n",
            "Epoch [3/40], Train Loss: 0.1207, Val Loss: 0.1241\n",
            "Checkpoint saved\n",
            "Validation loss decreased (0.139625 --> 0.124118).  Saving model...\n",
            "Epoch [4/40], Train Loss: 0.1101, Val Loss: 0.1122\n",
            "Checkpoint saved\n",
            "Validation loss decreased (0.124118 --> 0.112213).  Saving model...\n",
            "Epoch [5/40], Train Loss: 0.1023, Val Loss: 0.1066\n",
            "Checkpoint saved\n",
            "Validation loss decreased (0.112213 --> 0.106570).  Saving model...\n",
            "Epoch [6/40], Train Loss: 0.0978, Val Loss: 0.1052\n",
            "Checkpoint saved\n",
            "Validation loss decreased (0.106570 --> 0.105220).  Saving model...\n",
            "Epoch [7/40], Train Loss: 0.0954, Val Loss: 0.1021\n",
            "Checkpoint saved\n",
            "Validation loss decreased (0.105220 --> 0.102128).  Saving model...\n",
            "Epoch [8/40], Train Loss: 0.0915, Val Loss: 0.1002\n",
            "Checkpoint saved\n",
            "Validation loss decreased (0.102128 --> 0.100170).  Saving model...\n",
            "Epoch [9/40], Train Loss: 0.0892, Val Loss: 0.0994\n",
            "Checkpoint saved\n",
            "Validation loss decreased (0.100170 --> 0.099403).  Saving model...\n",
            "Epoch [10/40], Train Loss: 0.0881, Val Loss: 0.0994\n",
            "Checkpoint saved\n",
            "Validation loss decreased (0.099403 --> 0.099370).  Saving model...\n",
            "Epoch [11/40], Train Loss: 0.0879, Val Loss: 0.0982\n",
            "Checkpoint saved\n",
            "Validation loss decreased (0.099370 --> 0.098181).  Saving model...\n",
            "Epoch [12/40], Train Loss: 0.0827, Val Loss: 0.0947\n",
            "Checkpoint saved\n",
            "Validation loss decreased (0.098181 --> 0.094659).  Saving model...\n",
            "Epoch [13/40], Train Loss: 0.0814, Val Loss: 0.0976\n",
            "EarlyStopping counter: 1 out of 10\n",
            "Epoch [14/40], Train Loss: 0.0794, Val Loss: 0.0965\n",
            "EarlyStopping counter: 2 out of 10\n",
            "Epoch [15/40], Train Loss: 0.0789, Val Loss: 0.1012\n",
            "EarlyStopping counter: 3 out of 10\n",
            "Epoch [16/40], Train Loss: 0.0771, Val Loss: 0.0980\n",
            "EarlyStopping counter: 4 out of 10\n",
            "Epoch [17/40], Train Loss: 0.0732, Val Loss: 0.0987\n",
            "EarlyStopping counter: 5 out of 10\n",
            "Epoch [18/40], Train Loss: 0.0700, Val Loss: 0.0968\n",
            "EarlyStopping counter: 6 out of 10\n",
            "Epoch [19/40], Train Loss: 0.0672, Val Loss: 0.0998\n",
            "EarlyStopping counter: 7 out of 10\n",
            "Epoch [20/40], Train Loss: 0.0659, Val Loss: 0.0979\n",
            "EarlyStopping counter: 8 out of 10\n",
            "Epoch [21/40], Train Loss: 0.0620, Val Loss: 0.1000\n",
            "EarlyStopping counter: 9 out of 10\n",
            "Epoch [22/40], Train Loss: 0.0601, Val Loss: 0.1018\n",
            "EarlyStopping counter: 10 out of 10\n",
            "Early stopping\n"
          ]
        }
      ],
      "source": [
        "import torch.optim as optim\n",
        "from torch.utils.data import DataLoader\n",
        "\n",
        "# Define optimizer and loss function\n",
        "optimizer = optim.Adam(model.parameters(),lr=0.001)\n",
        "criterion = DiceLoss()\n",
        "\n",
        "# Define DataLoader for training and validation sets\n",
        "train_loader = DataLoader(train_dataset, batch_size=16, shuffle=True)\n",
        "val_loader = DataLoader(val_dataset, batch_size=16, shuffle=False)\n",
        "\n",
        "early_stopper = EarlyStopping(patience=10, verbose=True)\n",
        "\n",
        "num_epochs = 40\n",
        "for epoch in range(num_epochs):\n",
        "    model.train()  # Set the model to training mode\n",
        "    train_loss = 0.0\n",
        "\n",
        "    for inputs, targets in train_loader:\n",
        "        # Move inputs and targets to the same device as the model\n",
        "        inputs = inputs.to(device)\n",
        "        targets = targets.to(device)\n",
        "\n",
        "        optimizer.zero_grad()  # Clear the gradients\n",
        "        outputs = model(inputs)  # Forward pass: compute the model output\n",
        "        loss = criterion(outputs, targets)  # Compute loss\n",
        "        loss.backward()  # Backward pass: compute gradient of the loss with respect to model parameters\n",
        "        optimizer.step()  # Update parameters\n",
        "        train_loss += loss.item() * inputs.size(0)  # Aggregate the loss\n",
        "\n",
        "    # After training batches, compute the average loss\n",
        "    train_loss /= len(train_loader.dataset)\n",
        "\n",
        "    # Evaluate the model if necessary, make sure to move evaluation data to the same device\n",
        "    model.eval()  # Set the model to evaluation mode\n",
        "    with torch.no_grad():  # Turn off gradients for validation\n",
        "        val_loss = 0.0\n",
        "        for inputs, targets in val_loader:\n",
        "            inputs = inputs.to(device)\n",
        "            targets = targets.to(device)\n",
        "            outputs = model(inputs)\n",
        "            loss = criterion(outputs, targets)\n",
        "            val_loss += loss.item() * inputs.size(0)\n",
        "        val_loss /= len(val_loader.dataset)\n",
        "\n",
        "    print(f'Epoch [{epoch+1}/{num_epochs}], Train Loss: {train_loss:.4f}, Val Loss: {val_loss:.4f}')\n",
        "\n",
        "    # Call the ModelCheckpoint callback\n",
        "    checkpointer(model, epoch, train_loss, val_loss)\n",
        "    # Check for early stopping\n",
        "    early_stopper(val_loss)\n",
        "    if early_stopper.early_stop:\n",
        "        print(\"Early stopping\")\n",
        "        break"
      ]
    },
    {
      "cell_type": "code",
      "execution_count": 28,
      "metadata": {
        "id": "t6rODygYDo1i",
        "colab": {
          "base_uri": "https://localhost:8080/"
        },
        "outputId": "ef3e4305-a368-41d6-ac49-46dcf6cbd68b"
      },
      "outputs": [
        {
          "output_type": "stream",
          "name": "stdout",
          "text": [
            "0.08274092773596446 0.09465863307317098\n"
          ]
        }
      ],
      "source": [
        "current_checkpoint = torch.load(checkpoint_path)\n",
        "model.load_state_dict(current_checkpoint['model_state_dict'])\n",
        "model.eval()\n",
        "print(current_checkpoint['train_loss'],current_checkpoint['val_loss'])"
      ]
    },
    {
      "cell_type": "markdown",
      "source": [
        "Checkpointer Path"
      ],
      "metadata": {
        "id": "bRb3ECilHzOI"
      }
    },
    {
      "cell_type": "code",
      "source": [
        "checkpoint_path"
      ],
      "metadata": {
        "colab": {
          "base_uri": "https://localhost:8080/",
          "height": 36
        },
        "id": "MOiuDfyYHtkI",
        "outputId": "7e5530bc-2505-4f5a-8c4f-a317d32a2d21"
      },
      "execution_count": 35,
      "outputs": [
        {
          "output_type": "execute_result",
          "data": {
            "text/plain": [
              "'/content/drive/MyDrive/465 Project/Ex1-SS316L-Grains-500X/UCTrans1_22042024 23:07:01.pt'"
            ],
            "application/vnd.google.colaboratory.intrinsic+json": {
              "type": "string"
            }
          },
          "metadata": {},
          "execution_count": 35
        }
      ]
    },
    {
      "cell_type": "markdown",
      "metadata": {
        "id": "kJ7G9O_K69Hr"
      },
      "source": [
        "## Display Result"
      ]
    },
    {
      "cell_type": "code",
      "execution_count": null,
      "metadata": {
        "id": "CqMBAVWcLDln"
      },
      "outputs": [],
      "source": [
        "def display_results(image, ground_truth_mask, predicted_mask):\n",
        "    fig, axes = plt.subplots(1, 3, figsize=(15, 5))\n",
        "\n",
        "    # Display input image\n",
        "    axes[0].imshow(np.transpose(image, (1, 2, 0)))\n",
        "    axes[0].set_title('Input Image')\n",
        "\n",
        "    # Display ground truth mask\n",
        "    axes[1].imshow(np.squeeze(ground_truth_mask))\n",
        "    axes[1].set_title('Ground Truth Mask')\n",
        "\n",
        "    # Display predicted mask\n",
        "    axes[2].imshow(np.squeeze(predicted_mask))\n",
        "    axes[2].set_title('Predicted Mask')\n",
        "\n",
        "    plt.show()"
      ]
    },
    {
      "cell_type": "markdown",
      "metadata": {
        "id": "w0iT1-GD7AUJ"
      },
      "source": [
        "# Scores"
      ]
    },
    {
      "cell_type": "code",
      "execution_count": 29,
      "metadata": {
        "colab": {
          "base_uri": "https://localhost:8080/"
        },
        "id": "IraOKMDpCH1Q",
        "outputId": "7a43fda0-2dfb-4baa-a14a-e920fb699623"
      },
      "outputs": [
        {
          "output_type": "stream",
          "name": "stdout",
          "text": [
            "Collecting torchmetrics\n",
            "  Downloading torchmetrics-1.3.2-py3-none-any.whl (841 kB)\n",
            "\u001b[2K     \u001b[90m━━━━━━━━━━━━━━━━━━━━━━━━━━━━━━━━━━━━━━━━\u001b[0m \u001b[32m841.5/841.5 kB\u001b[0m \u001b[31m4.7 MB/s\u001b[0m eta \u001b[36m0:00:00\u001b[0m\n",
            "\u001b[?25hRequirement already satisfied: numpy>1.20.0 in /usr/local/lib/python3.10/dist-packages (from torchmetrics) (1.25.2)\n",
            "Requirement already satisfied: packaging>17.1 in /usr/local/lib/python3.10/dist-packages (from torchmetrics) (24.0)\n",
            "Requirement already satisfied: torch>=1.10.0 in /usr/local/lib/python3.10/dist-packages (from torchmetrics) (2.2.1+cu121)\n",
            "Collecting lightning-utilities>=0.8.0 (from torchmetrics)\n",
            "  Downloading lightning_utilities-0.11.2-py3-none-any.whl (26 kB)\n",
            "Requirement already satisfied: setuptools in /usr/local/lib/python3.10/dist-packages (from lightning-utilities>=0.8.0->torchmetrics) (67.7.2)\n",
            "Requirement already satisfied: typing-extensions in /usr/local/lib/python3.10/dist-packages (from lightning-utilities>=0.8.0->torchmetrics) (4.11.0)\n",
            "Requirement already satisfied: filelock in /usr/local/lib/python3.10/dist-packages (from torch>=1.10.0->torchmetrics) (3.13.4)\n",
            "Requirement already satisfied: sympy in /usr/local/lib/python3.10/dist-packages (from torch>=1.10.0->torchmetrics) (1.12)\n",
            "Requirement already satisfied: networkx in /usr/local/lib/python3.10/dist-packages (from torch>=1.10.0->torchmetrics) (3.3)\n",
            "Requirement already satisfied: jinja2 in /usr/local/lib/python3.10/dist-packages (from torch>=1.10.0->torchmetrics) (3.1.3)\n",
            "Requirement already satisfied: fsspec in /usr/local/lib/python3.10/dist-packages (from torch>=1.10.0->torchmetrics) (2023.6.0)\n",
            "Collecting nvidia-cuda-nvrtc-cu12==12.1.105 (from torch>=1.10.0->torchmetrics)\n",
            "  Using cached nvidia_cuda_nvrtc_cu12-12.1.105-py3-none-manylinux1_x86_64.whl (23.7 MB)\n",
            "Collecting nvidia-cuda-runtime-cu12==12.1.105 (from torch>=1.10.0->torchmetrics)\n",
            "  Using cached nvidia_cuda_runtime_cu12-12.1.105-py3-none-manylinux1_x86_64.whl (823 kB)\n",
            "Collecting nvidia-cuda-cupti-cu12==12.1.105 (from torch>=1.10.0->torchmetrics)\n",
            "  Using cached nvidia_cuda_cupti_cu12-12.1.105-py3-none-manylinux1_x86_64.whl (14.1 MB)\n",
            "Collecting nvidia-cudnn-cu12==8.9.2.26 (from torch>=1.10.0->torchmetrics)\n",
            "  Using cached nvidia_cudnn_cu12-8.9.2.26-py3-none-manylinux1_x86_64.whl (731.7 MB)\n",
            "Collecting nvidia-cublas-cu12==12.1.3.1 (from torch>=1.10.0->torchmetrics)\n",
            "  Using cached nvidia_cublas_cu12-12.1.3.1-py3-none-manylinux1_x86_64.whl (410.6 MB)\n",
            "Collecting nvidia-cufft-cu12==11.0.2.54 (from torch>=1.10.0->torchmetrics)\n",
            "  Using cached nvidia_cufft_cu12-11.0.2.54-py3-none-manylinux1_x86_64.whl (121.6 MB)\n",
            "Collecting nvidia-curand-cu12==10.3.2.106 (from torch>=1.10.0->torchmetrics)\n",
            "  Using cached nvidia_curand_cu12-10.3.2.106-py3-none-manylinux1_x86_64.whl (56.5 MB)\n",
            "Collecting nvidia-cusolver-cu12==11.4.5.107 (from torch>=1.10.0->torchmetrics)\n",
            "  Using cached nvidia_cusolver_cu12-11.4.5.107-py3-none-manylinux1_x86_64.whl (124.2 MB)\n",
            "Collecting nvidia-cusparse-cu12==12.1.0.106 (from torch>=1.10.0->torchmetrics)\n",
            "  Using cached nvidia_cusparse_cu12-12.1.0.106-py3-none-manylinux1_x86_64.whl (196.0 MB)\n",
            "Collecting nvidia-nccl-cu12==2.19.3 (from torch>=1.10.0->torchmetrics)\n",
            "  Using cached nvidia_nccl_cu12-2.19.3-py3-none-manylinux1_x86_64.whl (166.0 MB)\n",
            "Collecting nvidia-nvtx-cu12==12.1.105 (from torch>=1.10.0->torchmetrics)\n",
            "  Using cached nvidia_nvtx_cu12-12.1.105-py3-none-manylinux1_x86_64.whl (99 kB)\n",
            "Requirement already satisfied: triton==2.2.0 in /usr/local/lib/python3.10/dist-packages (from torch>=1.10.0->torchmetrics) (2.2.0)\n",
            "Collecting nvidia-nvjitlink-cu12 (from nvidia-cusolver-cu12==11.4.5.107->torch>=1.10.0->torchmetrics)\n",
            "  Using cached nvidia_nvjitlink_cu12-12.4.127-py3-none-manylinux2014_x86_64.whl (21.1 MB)\n",
            "Requirement already satisfied: MarkupSafe>=2.0 in /usr/local/lib/python3.10/dist-packages (from jinja2->torch>=1.10.0->torchmetrics) (2.1.5)\n",
            "Requirement already satisfied: mpmath>=0.19 in /usr/local/lib/python3.10/dist-packages (from sympy->torch>=1.10.0->torchmetrics) (1.3.0)\n",
            "Installing collected packages: nvidia-nvtx-cu12, nvidia-nvjitlink-cu12, nvidia-nccl-cu12, nvidia-curand-cu12, nvidia-cufft-cu12, nvidia-cuda-runtime-cu12, nvidia-cuda-nvrtc-cu12, nvidia-cuda-cupti-cu12, nvidia-cublas-cu12, lightning-utilities, nvidia-cusparse-cu12, nvidia-cudnn-cu12, nvidia-cusolver-cu12, torchmetrics\n",
            "Successfully installed lightning-utilities-0.11.2 nvidia-cublas-cu12-12.1.3.1 nvidia-cuda-cupti-cu12-12.1.105 nvidia-cuda-nvrtc-cu12-12.1.105 nvidia-cuda-runtime-cu12-12.1.105 nvidia-cudnn-cu12-8.9.2.26 nvidia-cufft-cu12-11.0.2.54 nvidia-curand-cu12-10.3.2.106 nvidia-cusolver-cu12-11.4.5.107 nvidia-cusparse-cu12-12.1.0.106 nvidia-nccl-cu12-2.19.3 nvidia-nvjitlink-cu12-12.4.127 nvidia-nvtx-cu12-12.1.105 torchmetrics-1.3.2\n"
          ]
        }
      ],
      "source": [
        "!pip install torchmetrics"
      ]
    },
    {
      "cell_type": "markdown",
      "metadata": {
        "id": "DsDjHWZf2PlR"
      },
      "source": [
        "# Results"
      ]
    },
    {
      "cell_type": "code",
      "execution_count": 30,
      "metadata": {
        "colab": {
          "base_uri": "https://localhost:8080/"
        },
        "id": "Xf1h1FTTqU23",
        "outputId": "61cf4cb4-6fef-4ba5-e3e0-b8992a9802a0"
      },
      "outputs": [
        {
          "output_type": "stream",
          "name": "stdout",
          "text": [
            "Training set: 1\n",
            "Total Number samples: 48\n",
            "Average Dice Score: 0.9105679169297218\n",
            "Average Jaccard Index: 0.8362871843079726\n"
          ]
        }
      ],
      "source": [
        "rg_val_loader = DataLoader(test_dataset,batch_size=16, shuffle=False)\n",
        "\n",
        "from torchmetrics.functional import dice\n",
        "from torchmetrics.functional import jaccard_index\n",
        "\n",
        "total_jaccard_score = 0.0\n",
        "total_dice_score = 0.0\n",
        "total_num_samples = 0\n",
        "\n",
        "for images, masks in rg_val_loader:\n",
        "    batch_size = images.size(0)  # Get the actual batch size\n",
        "    total_num_samples += batch_size\n",
        "\n",
        "    with torch.no_grad():\n",
        "        images = images.to(device)\n",
        "        masks = masks.to(device)\n",
        "\n",
        "        # Forward pass\n",
        "        preds = model(images)\n",
        "\n",
        "        for ind in range(len(preds)):\n",
        "            pred_tensor = (preds[ind] > 0.5).float()\n",
        "            gt_tensor = masks[ind].to(torch.int64)  # Convert mask tensor to integer tensor\n",
        "\n",
        "            dice_score = dice(pred_tensor, gt_tensor)\n",
        "            total_dice_score += dice_score.item()\n",
        "\n",
        "            jaccard_score = jaccard_index(pred_tensor, gt_tensor, task='binary')\n",
        "            total_jaccard_score += jaccard_score.item()\n",
        "\n",
        "average_dice_score = total_dice_score / total_num_samples\n",
        "average_jaccard_score = total_jaccard_score / total_num_samples\n",
        "\n",
        "print(f\"Training set: {TRAINING_SET}\")\n",
        "print(f\"Total Number samples: {total_num_samples}\")\n",
        "print(f\"Average Dice Score: {average_dice_score}\")\n",
        "print(f\"Average Jaccard Index: {average_jaccard_score}\")"
      ]
    },
    {
      "cell_type": "markdown",
      "source": [
        "#####Checking Other Threshold values:"
      ],
      "metadata": {
        "id": "CdXgpNL9Jrt-"
      }
    },
    {
      "cell_type": "code",
      "source": [
        "import torch\n",
        "import numpy as np\n",
        "import matplotlib.pyplot as plt\n",
        "\n",
        "\n",
        "model.eval()\n",
        "\n",
        "all_preds = []\n",
        "\n",
        "with torch.no_grad():\n",
        "    for images, _ in val_loader:\n",
        "        images = images.to(device)\n",
        "        preds = model(images)\n",
        "        all_preds.extend(preds.flatten().cpu().numpy())  # Flatten and move to CPU\n",
        "\n",
        "all_preds_np = np.array(all_preds)\n",
        "\n",
        "# Plot the histogram\n",
        "plt.hist(all_preds_np, bins=50, density=True)\n",
        "plt.title('Distribution of Predicted Pixel Values')\n",
        "plt.xlabel('Pixel Value')\n",
        "plt.ylabel('Density')\n",
        "plt.show()\n"
      ],
      "metadata": {
        "colab": {
          "base_uri": "https://localhost:8080/",
          "height": 472
        },
        "id": "hYymzb_LAG29",
        "outputId": "96e5c3be-8390-4fd3-b539-d01b89d8b230"
      },
      "execution_count": 31,
      "outputs": [
        {
          "output_type": "display_data",
          "data": {
            "text/plain": [
              "<Figure size 640x480 with 1 Axes>"
            ],
            "image/png": "[encoded data removed]"
          },
          "metadata": {}
        }
      ]
    },
    {
      "cell_type": "code",
      "source": [
        "# dataset = GrainDataset(X_rg, Y_t)\n",
        "# rg_val_loader = DataLoader(dataset,batch_size=16, shuffle=False)\n",
        "\n",
        "from torchmetrics.functional import dice\n",
        "from torchmetrics.functional import jaccard_index\n",
        "def cal(threshold):\n",
        "  total_jaccard_score = 0.0\n",
        "  total_dice_score = 0.0\n",
        "  total_num_samples = 0\n",
        "\n",
        "  for images, masks in rg_val_loader:\n",
        "      batch_size = images.size(0)  # Get the actual batch size\n",
        "      total_num_samples += batch_size\n",
        "\n",
        "      with torch.no_grad():\n",
        "          images = images.to(device)\n",
        "          masks = masks.to(device)\n",
        "\n",
        "        # Forward pass\n",
        "          preds = model(images)\n",
        "\n",
        "          for ind in range(len(preds)):\n",
        "              pred_tensor = (preds[ind] > threshold).float()\n",
        "              gt_tensor = masks[ind].to(torch.int64)\n",
        "\n",
        "              dice_score = dice(pred_tensor, gt_tensor)\n",
        "              total_dice_score += dice_score.item()\n",
        "\n",
        "              jaccard_score = jaccard_index(pred_tensor, gt_tensor, task='binary')\n",
        "              total_jaccard_score += jaccard_score.item()\n",
        "\n",
        "  average_dice_score = total_dice_score / total_num_samples\n",
        "  average_jaccard_score = total_jaccard_score / total_num_samples\n",
        "\n",
        "  print(f\"Threshold: {threshold}\")\n",
        "  print(f\"Total Number samples: {total_num_samples}\")\n",
        "  print(f\"Average Dice Score: {average_dice_score}\")\n",
        "  print(f\"Average Jaccard Index: {average_jaccard_score}\")"
      ],
      "metadata": {
        "id": "VMiqVzmDHWgJ"
      },
      "execution_count": 32,
      "outputs": []
    },
    {
      "cell_type": "code",
      "source": [
        "for i in np.arange(0.0, 1.1, 0.1):\n",
        "    cal(i)"
      ],
      "metadata": {
        "colab": {
          "base_uri": "https://localhost:8080/"
        },
        "id": "qaRhADtGHlLx",
        "outputId": "45b596e8-5f32-4a15-c8cb-a1a31cbdd17b"
      },
      "execution_count": 33,
      "outputs": [
        {
          "output_type": "stream",
          "name": "stdout",
          "text": [
            "Threshold: 0.0\n",
            "Total Number samples: 48\n",
            "Average Dice Score: 0.86243728424112\n",
            "Average Jaccard Index: 0.7585034022728602\n",
            "Threshold: 0.1\n",
            "Total Number samples: 48\n",
            "Average Dice Score: 0.9098510456581911\n",
            "Average Jaccard Index: 0.835062296440204\n",
            "Threshold: 0.2\n",
            "Total Number samples: 48\n",
            "Average Dice Score: 0.9102979054053625\n",
            "Average Jaccard Index: 0.8358245690663656\n",
            "Threshold: 0.30000000000000004\n",
            "Total Number samples: 48\n",
            "Average Dice Score: 0.910474419593811\n",
            "Average Jaccard Index: 0.8361261412501335\n",
            "Threshold: 0.4\n",
            "Total Number samples: 48\n",
            "Average Dice Score: 0.910539956142505\n",
            "Average Jaccard Index: 0.836238710830609\n",
            "Threshold: 0.5\n",
            "Total Number samples: 48\n",
            "Average Dice Score: 0.9105679169297218\n",
            "Average Jaccard Index: 0.8362871843079726\n",
            "Threshold: 0.6000000000000001\n",
            "Total Number samples: 48\n",
            "Average Dice Score: 0.9105607680976391\n",
            "Average Jaccard Index: 0.8362762543062369\n",
            "Threshold: 0.7000000000000001\n",
            "Total Number samples: 48\n",
            "Average Dice Score: 0.9104630028208097\n",
            "Average Jaccard Index: 0.836118072271347\n",
            "Threshold: 0.8\n",
            "Total Number samples: 48\n",
            "Average Dice Score: 0.91034971550107\n",
            "Average Jaccard Index: 0.8359352027376493\n",
            "Threshold: 0.9\n",
            "Total Number samples: 48\n",
            "Average Dice Score: 0.9098130563894907\n",
            "Average Jaccard Index: 0.8350437159339587\n",
            "Threshold: 1.0\n",
            "Total Number samples: 48\n",
            "Average Dice Score: 0.0\n",
            "Average Jaccard Index: 0.0\n"
          ]
        }
      ]
    }
  ],
  "metadata": {
    "accelerator": "GPU",
    "colab": {
      "collapsed_sections": [
        "dRB5U53vS6NK",
        "ihXq1aKcZuVQ"
      ],
      "gpuType": "T4",
      "provenance": []
    },
    "kernelspec": {
      "display_name": "Python 3",
      "name": "python3"
    },
    "language_info": {
      "name": "python"
    }
  },
  "nbformat": 4,
  "nbformat_minor": 0
}