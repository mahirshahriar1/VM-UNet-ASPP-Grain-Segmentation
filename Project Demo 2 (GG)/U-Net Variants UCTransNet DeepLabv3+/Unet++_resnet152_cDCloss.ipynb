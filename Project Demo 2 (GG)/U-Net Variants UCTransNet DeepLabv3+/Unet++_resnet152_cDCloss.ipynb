{
  "cells": [
    {
      "cell_type": "code",
      "execution_count": null,
      "metadata": {
        "colab": {
          "base_uri": "https://localhost:8080/"
        },
        "id": "sgg39RIwQO1T",
        "outputId": "da5c4d5d-374f-464f-e43f-ae2b828fc57c"
      },
      "outputs": [
        {
          "output_type": "stream",
          "name": "stdout",
          "text": [
            "Mounted at /content/drive\n"
          ]
        }
      ],
      "source": [
        "from google.colab import drive\n",
        "drive.mount('/content/drive', force_remount = False)"
      ]
    },
    {
      "cell_type": "code",
      "execution_count": null,
      "metadata": {
        "id": "dgg6PpJVna2x"
      },
      "outputs": [],
      "source": [
        "# extract data from zip file\n",
        "import zipfile\n",
        "import os\n",
        "\n",
        "# Define the path to your zip file and the directory where you want to extract it\n",
        "zip_file_path = '/content/drive/MyDrive/465 Project/new_archive.zip'\n",
        "extract_folder_path = '/content/data'\n",
        "\n",
        "os.makedirs(extract_folder_path, exist_ok=True)\n",
        "\n",
        "with zipfile.ZipFile(zip_file_path, 'r') as zip_ref:\n",
        "    zip_ref.extractall(extract_folder_path)"
      ]
    },
    {
      "cell_type": "code",
      "execution_count": null,
      "metadata": {
        "id": "xz7G45_MVilc"
      },
      "outputs": [],
      "source": [
        "# lib imports\n",
        "import torch\n",
        "import os\n",
        "import numpy as np\n",
        "import pandas as pd\n",
        "import random\n",
        "import cv2\n",
        "\n",
        "from tqdm import tqdm\n",
        "\n",
        "from skimage.io import imread, imshow\n",
        "from skimage.transform import resize\n",
        "import matplotlib.pyplot as plt"
      ]
    },
    {
      "cell_type": "code",
      "execution_count": null,
      "metadata": {
        "id": "TQf8GJC3WxBu"
      },
      "outputs": [],
      "source": [
        "IMG_WIDTH = 128\n",
        "IMG_HEIGHT = 128\n",
        "IMG_CHANNELS = 3\n",
        "IMG_COUNT = 480"
      ]
    },
    {
      "cell_type": "code",
      "execution_count": null,
      "metadata": {
        "id": "KB9yUggrZ5u5"
      },
      "outputs": [],
      "source": [
        "# set this between [1, 10] for differently composed datasets\n",
        "# reference: https://arxiv.org/pdf/2307.05911.pdf\n",
        "TRAINING_SET = 1"
      ]
    },
    {
      "cell_type": "markdown",
      "metadata": {
        "id": "dRB5U53vS6NK"
      },
      "source": [
        "# 10 Different training sets as mentioned in original paper"
      ]
    },
    {
      "cell_type": "code",
      "execution_count": null,
      "metadata": {
        "colab": {
          "base_uri": "https://localhost:8080/"
        },
        "id": "vBIq7T3LOx9W",
        "outputId": "688f2a75-103f-4403-bbd4-015aaa069f26",
        "cellView": "form"
      },
      "outputs": [
        {
          "output_type": "stream",
          "name": "stdout",
          "text": [
            "Selected Training Set 1\n",
            "Manually Segmented - 100% (480)\n",
            "image count : 480\n"
          ]
        }
      ],
      "source": [
        "#@title This cell is for composing the datasets as mentioned in the original paper\n",
        "\n",
        "# Set the target image size\n",
        "target_size = (IMG_WIDTH, IMG_HEIGHT)\n",
        "\n",
        "# Create empty lists to hold the images and masks\n",
        "images = []\n",
        "masks = []\n",
        "\n",
        "image_dir_ms = '/content/data/GRAIN DATA SET/RG'\n",
        "mask_dir_ms = '/content/data/GRAIN DATA SET/RGMask'\n",
        "# vt stands for voronoi tessellation\n",
        "image_dir_vt = '/content/data/GRAIN DATA SET/AG'\n",
        "mask_dir_vt = '/content/data/GRAIN DATA SET/AGMask'\n",
        "\n",
        "image_dir_hed = '/content/data/GRAIN DATA SET/HED_PRE'\n",
        "mask_dir_hed = '/content/data/GRAIN DATA SET/RGMask'\n",
        "\n",
        "image_dir_grad = '/content/data/GRAIN DATA SET/GRAD_PRE'\n",
        "mask_dir_grad = '/content/data/GRAIN DATA SET/RGMask'\n",
        "\n",
        "image_dir_thresh = '/content/data/GRAIN DATA SET/THRESH_PRE'\n",
        "mask_dir_thresh = '/content/data/GRAIN DATA SET/RGMask'\n",
        "\n",
        "if TRAINING_SET==1:\n",
        "    # 100% Manually Segmented\n",
        "    print(\"Selected Training Set 1\")\n",
        "    print(\"Manually Segmented - 100% (480)\")\n",
        "    # Iterate through the directories and load the images and masks\n",
        "    for file in sorted(os.listdir(image_dir_ms)):\n",
        "        # Load the image and resize to the target size\n",
        "        img = cv2.imread(os.path.join(image_dir_ms, file))\n",
        "        img = cv2.resize(img, target_size)\n",
        "\n",
        "        # Append the resized image to the list of images\n",
        "        images.append(img)\n",
        "\n",
        "    for file in sorted(os.listdir(mask_dir_ms)):\n",
        "\n",
        "        # Load the corresponding mask and resize to the target size\n",
        "        mask = cv2.imread(os.path.join(mask_dir_ms, file))\n",
        "        mask = cv2.resize(mask, target_size)\n",
        "\n",
        "        # Append the resized mask to the list of masks\n",
        "        masks.append(mask)\n",
        "\n",
        "elif TRAINING_SET==2:\n",
        "    # 25% Artificial, 75% Manually Segmented (160, 480)\n",
        "    print(\"Selected Training Set 2\")\n",
        "    print(\"Voronoi Tessellation - 25% (160)\")\n",
        "    print(\"Manually Segmented - 75% (480)\")\n",
        "    # Iterate through the directories and load the images and masks\n",
        "    for file in sorted(os.listdir(image_dir_ms)):\n",
        "        # Load the image and resize to the target size\n",
        "        img = cv2.imread(os.path.join(image_dir_ms, file))\n",
        "        img = cv2.resize(img, target_size)\n",
        "\n",
        "        # Append the resized image to the list of images\n",
        "        images.append(img)\n",
        "\n",
        "    for file in sorted(os.listdir(mask_dir_ms)):\n",
        "\n",
        "        # Load the corresponding mask and resize to the target size\n",
        "        mask = cv2.imread(os.path.join(mask_dir_ms, file))\n",
        "        mask = cv2.resize(mask, target_size)\n",
        "\n",
        "        # Append the resized mask to the list of masks\n",
        "        masks.append(mask)\n",
        "\n",
        "    cnt = 0\n",
        "    # Iterate through the directories and load the images and masks\n",
        "    for file in sorted(os.listdir(image_dir_vt)):\n",
        "        if cnt==160:\n",
        "            break\n",
        "        # Load the image and resize to the target size\n",
        "        img = cv2.imread(os.path.join(image_dir_vt, file))\n",
        "        img = cv2.resize(img, target_size)\n",
        "\n",
        "        # Append the resized image to the list of images\n",
        "        images.append(img)\n",
        "        cnt+=1\n",
        "\n",
        "    cnt=0\n",
        "    for file in sorted(os.listdir(mask_dir_vt)):\n",
        "        if cnt==160:\n",
        "            break\n",
        "        # Load the corresponding mask and resize to the target size\n",
        "        mask = cv2.imread(os.path.join(mask_dir_vt, file))\n",
        "        mask = cv2.resize(mask, target_size)\n",
        "\n",
        "        # Append the resized mask to the list of masks\n",
        "        masks.append(mask)\n",
        "        cnt+=1\n",
        "\n",
        "elif TRAINING_SET==3:\n",
        "    # 50% Artificial, 50% Manually Segmented (480, 480)\n",
        "    print(\"Selected Training Set 3\")\n",
        "    print(\"Voronoi Tessellation - 50% (480)\")\n",
        "    print(\"Manually Segmented - 50% (480)\")\n",
        "    # Iterate through the directories and load the images and masks\n",
        "    for file in sorted(os.listdir(image_dir_ms)):\n",
        "        # Load the image and resize to the target size\n",
        "        img = cv2.imread(os.path.join(image_dir_ms, file))\n",
        "        img = cv2.resize(img, target_size)\n",
        "\n",
        "        # Append the resized image to the list of images\n",
        "        images.append(img)\n",
        "\n",
        "    for file in sorted(os.listdir(mask_dir_ms)):\n",
        "\n",
        "        # Load the corresponding mask and resize to the target size\n",
        "        mask = cv2.imread(os.path.join(mask_dir_ms, file))\n",
        "        mask = cv2.resize(mask, target_size)\n",
        "\n",
        "        # Append the resized mask to the list of masks\n",
        "        masks.append(mask)\n",
        "\n",
        "    cnt = 0\n",
        "    # Iterate through the directories and load the images and masks\n",
        "    for file in sorted(os.listdir(image_dir_vt)):\n",
        "        if cnt==480:\n",
        "            break\n",
        "        # Load the image and resize to the target size\n",
        "        img = cv2.imread(os.path.join(image_dir_vt, file))\n",
        "        img = cv2.resize(img, target_size)\n",
        "\n",
        "        # Append the resized image to the list of images\n",
        "        images.append(img)\n",
        "        cnt+=1\n",
        "\n",
        "    cnt=0\n",
        "    for file in sorted(os.listdir(mask_dir_vt)):\n",
        "        if cnt==480:\n",
        "            break\n",
        "        # Load the corresponding mask and resize to the target size\n",
        "        mask = cv2.imread(os.path.join(mask_dir_vt, file))\n",
        "        mask = cv2.resize(mask, target_size)\n",
        "\n",
        "        # Append the resized mask to the list of masks\n",
        "        masks.append(mask)\n",
        "        cnt+=1\n",
        "\n",
        "elif TRAINING_SET==4:\n",
        "    # 75% Artificial, 25% Manually Segmented (800, 266)\n",
        "    print(\"Selected Training Set 4\")\n",
        "    print(\"Voronoi Tessellation - 75% (800)\")\n",
        "    print(\"Manually Segmented - 25% (266)\")\n",
        "    cnt = 0\n",
        "    # Iterate through the directories and load the images and masks\n",
        "    for file in sorted(os.listdir(image_dir_ms)):\n",
        "        if cnt==266:\n",
        "            break\n",
        "        # Load the image and resize to the target size\n",
        "        img = cv2.imread(os.path.join(image_dir_ms, file))\n",
        "        img = cv2.resize(img, target_size)\n",
        "\n",
        "        # Append the resized image to the list of images\n",
        "        images.append(img)\n",
        "        cnt+=1\n",
        "\n",
        "    cnt=0\n",
        "    for file in sorted(os.listdir(mask_dir_ms)):\n",
        "        if cnt==266:\n",
        "            break\n",
        "        # Load the corresponding mask and resize to the target size\n",
        "        mask = cv2.imread(os.path.join(mask_dir_ms, file))\n",
        "        mask = cv2.resize(mask, target_size)\n",
        "\n",
        "        # Append the resized mask to the list of masks\n",
        "        masks.append(mask)\n",
        "        cnt+=1\n",
        "\n",
        "    # Iterate through the directories and load the images and masks\n",
        "    for file in sorted(os.listdir(image_dir_vt)):\n",
        "        # Load the image and resize to the target size\n",
        "        img = cv2.imread(os.path.join(image_dir_vt, file))\n",
        "        img = cv2.resize(img, target_size)\n",
        "\n",
        "        # Append the resized image to the list of images\n",
        "        images.append(img)\n",
        "\n",
        "    for file in sorted(os.listdir(mask_dir_vt)):\n",
        "\n",
        "        # Load the corresponding mask and resize to the target size\n",
        "        mask = cv2.imread(os.path.join(mask_dir_vt, file))\n",
        "        mask = cv2.resize(mask, target_size)\n",
        "\n",
        "        # Append the resized mask to the list of masks\n",
        "        masks.append(mask)\n",
        "\n",
        "elif TRAINING_SET==5:\n",
        "    # 100% Artificial (800)\n",
        "    print(\"Selected Training Set 5\")\n",
        "    print(\"Voronoi Tessellation - 100% (800)\")\n",
        "    # Iterate through the directories and load the images and masks\n",
        "    for file in sorted(os.listdir(image_dir_vt)):\n",
        "        # Load the image and resize to the target size\n",
        "        img = cv2.imread(os.path.join(image_dir_vt, file))\n",
        "        img = cv2.resize(img, target_size)\n",
        "\n",
        "        # Append the resized image to the list of images\n",
        "        images.append(img)\n",
        "\n",
        "    for file in sorted(os.listdir(mask_dir_vt)):\n",
        "\n",
        "        # Load the corresponding mask and resize to the target size\n",
        "        mask = cv2.imread(os.path.join(mask_dir_vt, file))\n",
        "        mask = cv2.resize(mask, target_size)\n",
        "\n",
        "        # Append the resized mask to the list of masks\n",
        "        masks.append(mask)\n",
        "\n",
        "elif TRAINING_SET==6:\n",
        "    # 50% HED Preprocessed, 50% Manually Segmented (240, 240)\n",
        "    print(\"Selected Training Set 6\")\n",
        "    print(\"HED Preprocessed - 50% (240)\")\n",
        "    print(\"Manually Segmented - 50% (240)\")\n",
        "    cnt = 0\n",
        "    # Iterate through the directories and load the images and masks\n",
        "    for file in sorted(os.listdir(image_dir_ms)):\n",
        "        if cnt==240:\n",
        "            break\n",
        "        # Load the image and resize to the target size\n",
        "        img = cv2.imread(os.path.join(image_dir_ms, file))\n",
        "        img = cv2.resize(img, target_size)\n",
        "\n",
        "        # Append the resized image to the list of images\n",
        "        images.append(img)\n",
        "        cnt+=1\n",
        "\n",
        "    cnt=0\n",
        "    for file in sorted(os.listdir(mask_dir_ms)):\n",
        "        if cnt==240:\n",
        "            break\n",
        "        # Load the corresponding mask and resize to the target size\n",
        "        mask = cv2.imread(os.path.join(mask_dir_ms, file))\n",
        "        mask = cv2.resize(mask, target_size)\n",
        "\n",
        "        # Append the resized mask to the list of masks\n",
        "        masks.append(mask)\n",
        "        cnt+=1\n",
        "\n",
        "    cnt = 0\n",
        "    # Iterate through the directories and load the images and masks\n",
        "    for file in sorted(os.listdir(image_dir_hed)):\n",
        "        if cnt<240:\n",
        "            cnt+=1\n",
        "            continue\n",
        "        if cnt==480:\n",
        "            break\n",
        "        # Load the image and resize to the target size\n",
        "        img = cv2.imread(os.path.join(image_dir_hed, file))\n",
        "        img = cv2.resize(img, target_size)\n",
        "\n",
        "        # Append the resized image to the list of images\n",
        "        images.append(img)\n",
        "        cnt+=1\n",
        "\n",
        "    cnt=0\n",
        "    for file in sorted(os.listdir(mask_dir_hed)):\n",
        "        if cnt<240:\n",
        "            cnt+=1\n",
        "            continue\n",
        "        if cnt==480:\n",
        "            break\n",
        "        # Load the corresponding mask and resize to the target size\n",
        "        mask = cv2.imread(os.path.join(mask_dir_hed, file))\n",
        "        mask = cv2.resize(mask, target_size)\n",
        "\n",
        "        # Append the resized mask to the list of masks\n",
        "        masks.append(mask)\n",
        "        cnt+=1\n",
        "\n",
        "elif TRAINING_SET==7:\n",
        "    # 50% Manually Segmented, 25% Artificial, 25% HED Preprocessed(240, 120, 120)\n",
        "    print(\"Selected Training Set 7\")\n",
        "    print(\"Manually Segmented - 50% (240)\")\n",
        "    print(\"Voronoi Tessellation - 25% (120)\")\n",
        "    print(\"HED Preprocessed - 25% (120)\")\n",
        "    # Iterate through the directories and load the images and masks\n",
        "    cnt=0\n",
        "    for file in sorted(os.listdir(image_dir_ms)):\n",
        "        if cnt==240:\n",
        "            break\n",
        "        # Load the image and resize to the target size\n",
        "        img = cv2.imread(os.path.join(image_dir_ms, file))\n",
        "        img = cv2.resize(img, target_size)\n",
        "\n",
        "        # Append the resized image to the list of images\n",
        "        images.append(img)\n",
        "        cnt+=1\n",
        "\n",
        "    cnt=0\n",
        "    for file in sorted(os.listdir(mask_dir_ms)):\n",
        "        if cnt==240:\n",
        "            break\n",
        "        # Load the corresponding mask and resize to the target size\n",
        "        mask = cv2.imread(os.path.join(mask_dir_ms, file))\n",
        "        mask = cv2.resize(mask, target_size)\n",
        "\n",
        "        # Append the resized mask to the list of masks\n",
        "        masks.append(mask)\n",
        "        cnt+=1\n",
        "\n",
        "\n",
        "    cnt = 0\n",
        "    # Iterate through the directories and load the images and masks\n",
        "    for file in sorted(os.listdir(image_dir_vt)):\n",
        "        if cnt==120:\n",
        "            break\n",
        "        # Load the image and resize to the target size\n",
        "        img = cv2.imread(os.path.join(image_dir_vt, file))\n",
        "        img = cv2.resize(img, target_size)\n",
        "\n",
        "        # Append the resized image to the list of images\n",
        "        images.append(img)\n",
        "        cnt+=1\n",
        "\n",
        "    cnt=0\n",
        "    for file in sorted(os.listdir(mask_dir_vt)):\n",
        "        if cnt==120:\n",
        "            break\n",
        "        # Load the corresponding mask and resize to the target size\n",
        "        mask = cv2.imread(os.path.join(mask_dir_vt, file))\n",
        "        mask = cv2.resize(mask, target_size)\n",
        "\n",
        "        # Append the resized mask to the list of masks\n",
        "        masks.append(mask)\n",
        "        cnt+=1\n",
        "\n",
        "\n",
        "    cnt = 0\n",
        "    # Iterate through the directories and load the images and masks\n",
        "    for file in sorted(os.listdir(image_dir_hed)):\n",
        "        if cnt<240:\n",
        "            cnt+=1\n",
        "            continue\n",
        "        if cnt==360:\n",
        "            break\n",
        "        # Load the image and resize to the target size\n",
        "        img = cv2.imread(os.path.join(image_dir_hed, file))\n",
        "        img = cv2.resize(img, target_size)\n",
        "\n",
        "        # Append the resized image to the list of images\n",
        "        images.append(img)\n",
        "        cnt+=1\n",
        "\n",
        "    cnt=0\n",
        "    for file in sorted(os.listdir(mask_dir_hed)):\n",
        "        if cnt<240:\n",
        "            cnt+=1\n",
        "            continue\n",
        "        if cnt==360:\n",
        "            break\n",
        "        # Load the corresponding mask and resize to the target size\n",
        "        mask = cv2.imread(os.path.join(mask_dir_hed, file))\n",
        "        mask = cv2.resize(mask, target_size)\n",
        "\n",
        "        # Append the resized mask to the list of masks\n",
        "        masks.append(mask)\n",
        "        cnt+=1\n",
        "\n",
        "\n",
        "elif TRAINING_SET==8:\n",
        "    # 50% Manually Segmented, 25% Artificial, 25% GRAD Preprocessed(240, 120, 120)\n",
        "    print(\"Selected Training Set 8\")\n",
        "    print(\"Manually Segmented - 50% (240)\")\n",
        "    print(\"Voronoi Tessellation - 25% (120)\")\n",
        "    print(\"GRAD Preprocessed - 25% (120)\")\n",
        "    # Iterate through the directories and load the images and masks\n",
        "    cnt=0\n",
        "    for file in sorted(os.listdir(image_dir_ms)):\n",
        "        if cnt==240:\n",
        "            break\n",
        "        # Load the image and resize to the target size\n",
        "        img = cv2.imread(os.path.join(image_dir_ms, file))\n",
        "        img = cv2.resize(img, target_size)\n",
        "\n",
        "        # Append the resized image to the list of images\n",
        "        images.append(img)\n",
        "        cnt+=1\n",
        "\n",
        "    cnt=0\n",
        "    for file in sorted(os.listdir(mask_dir_ms)):\n",
        "        if cnt==240:\n",
        "            break\n",
        "        # Load the corresponding mask and resize to the target size\n",
        "        mask = cv2.imread(os.path.join(mask_dir_ms, file))\n",
        "        mask = cv2.resize(mask, target_size)\n",
        "\n",
        "        # Append the resized mask to the list of masks\n",
        "        masks.append(mask)\n",
        "        cnt+=1\n",
        "\n",
        "\n",
        "    cnt = 0\n",
        "    # Iterate through the directories and load the images and masks\n",
        "    for file in sorted(os.listdir(image_dir_vt)):\n",
        "        if cnt==120:\n",
        "            break\n",
        "        # Load the image and resize to the target size\n",
        "        img = cv2.imread(os.path.join(image_dir_vt, file))\n",
        "        img = cv2.resize(img, target_size)\n",
        "\n",
        "        # Append the resized image to the list of images\n",
        "        images.append(img)\n",
        "        cnt+=1\n",
        "\n",
        "    cnt=0\n",
        "    for file in sorted(os.listdir(mask_dir_vt)):\n",
        "        if cnt==120:\n",
        "            break\n",
        "        # Load the corresponding mask and resize to the target size\n",
        "        mask = cv2.imread(os.path.join(mask_dir_vt, file))\n",
        "        mask = cv2.resize(mask, target_size)\n",
        "\n",
        "        # Append the resized mask to the list of masks\n",
        "        masks.append(mask)\n",
        "        cnt+=1\n",
        "\n",
        "\n",
        "    cnt = 0\n",
        "    # Iterate through the directories and load the images and masks\n",
        "    for file in sorted(os.listdir(image_dir_grad)):\n",
        "        if cnt<240:\n",
        "            cnt+=1\n",
        "            continue\n",
        "        if cnt==360:\n",
        "            break\n",
        "        # Load the image and resize to the target size\n",
        "        img = cv2.imread(os.path.join(image_dir_grad, file))\n",
        "        img = cv2.resize(img, target_size)\n",
        "\n",
        "        # Append the resized image to the list of images\n",
        "        images.append(img)\n",
        "        cnt+=1\n",
        "\n",
        "    cnt=0\n",
        "    for file in sorted(os.listdir(mask_dir_grad)):\n",
        "        if cnt<240:\n",
        "            cnt+=1\n",
        "            continue\n",
        "        if cnt==360:\n",
        "            break\n",
        "        # Load the corresponding mask and resize to the target size\n",
        "        mask = cv2.imread(os.path.join(mask_dir_grad, file))\n",
        "        mask = cv2.resize(mask, target_size)\n",
        "\n",
        "        # Append the resized mask to the list of masks\n",
        "        masks.append(mask)\n",
        "        cnt+=1\n",
        "\n",
        "elif TRAINING_SET==9:\n",
        "    # 50% Manually Segmented, 25% Artificial, 25% THRESHOLD Preprocessed(240, 120, 120)\n",
        "    print(\"Selected Training Set 9\")\n",
        "    print(\"Manually Segmented - 50% (240)\")\n",
        "    print(\"Voronoi Tessellation - 25% (120)\")\n",
        "    print(\"THRESHOLD Preprocessed - 25% (120)\")\n",
        "    # Iterate through the directories and load the images and masks\n",
        "    cnt=0\n",
        "    for file in sorted(os.listdir(image_dir_ms)):\n",
        "        if cnt==240:\n",
        "            break\n",
        "        # Load the image and resize to the target size\n",
        "        img = cv2.imread(os.path.join(image_dir_ms, file))\n",
        "        img = cv2.resize(img, target_size)\n",
        "\n",
        "        # Append the resized image to the list of images\n",
        "        images.append(img)\n",
        "        cnt+=1\n",
        "\n",
        "    cnt=0\n",
        "    for file in sorted(os.listdir(mask_dir_ms)):\n",
        "        if cnt==240:\n",
        "            break\n",
        "        # Load the corresponding mask and resize to the target size\n",
        "        mask = cv2.imread(os.path.join(mask_dir_ms, file))\n",
        "        mask = cv2.resize(mask, target_size)\n",
        "\n",
        "        # Append the resized mask to the list of masks\n",
        "        masks.append(mask)\n",
        "        cnt+=1\n",
        "\n",
        "\n",
        "    cnt = 0\n",
        "    # Iterate through the directories and load the images and masks\n",
        "    for file in sorted(os.listdir(image_dir_vt)):\n",
        "        if cnt==120:\n",
        "            break\n",
        "        # Load the image and resize to the target size\n",
        "        img = cv2.imread(os.path.join(image_dir_vt, file))\n",
        "        img = cv2.resize(img, target_size)\n",
        "\n",
        "        # Append the resized image to the list of images\n",
        "        images.append(img)\n",
        "        cnt+=1\n",
        "\n",
        "    cnt=0\n",
        "    for file in sorted(os.listdir(mask_dir_vt)):\n",
        "        if cnt==120:\n",
        "            break\n",
        "        # Load the corresponding mask and resize to the target size\n",
        "        mask = cv2.imread(os.path.join(mask_dir_vt, file))\n",
        "        mask = cv2.resize(mask, target_size)\n",
        "\n",
        "        # Append the resized mask to the list of masks\n",
        "        masks.append(mask)\n",
        "        cnt+=1\n",
        "\n",
        "\n",
        "    cnt = 0\n",
        "    # Iterate through the directories and load the images and masks\n",
        "    for file in sorted(os.listdir(image_dir_thresh)):\n",
        "        if cnt<240:\n",
        "            cnt+=1\n",
        "            continue\n",
        "        if cnt==360:\n",
        "            break\n",
        "        # Load the image and resize to the target size\n",
        "        img = cv2.imread(os.path.join(image_dir_thresh, file))\n",
        "        img = cv2.resize(img, target_size)\n",
        "\n",
        "        # Append the resized image to the list of images\n",
        "        images.append(img)\n",
        "        cnt+=1\n",
        "\n",
        "    cnt=0\n",
        "    for file in sorted(os.listdir(mask_dir_thresh)):\n",
        "        if cnt<240:\n",
        "            cnt+=1\n",
        "            continue\n",
        "        if cnt==360:\n",
        "            break\n",
        "        # Load the corresponding mask and resize to the target size\n",
        "        mask = cv2.imread(os.path.join(mask_dir_thresh, file))\n",
        "        mask = cv2.resize(mask, target_size)\n",
        "\n",
        "        # Append the resized mask to the list of masks\n",
        "        masks.append(mask)\n",
        "        cnt+=1\n",
        "\n",
        "elif TRAINING_SET==10:\n",
        "    # 50% Manually Segmented, 16.67% HED Prep., 16.67% GRAD Prep.,16.67% THRESHOLD Prep.(240, 80, 80, 80)\n",
        "    print(\"Selected Training Set 10\")\n",
        "    print(\"Manually Segmented - 50% (240)\")\n",
        "    print(\"HED Preprocessed - 16.67% (80)\")\n",
        "    print(\"GRAD Preprocessed - 16.67% (80)\")\n",
        "    print(\"THRESHOLD Preprocessed - 16.67% (80)\")\n",
        "    # Iterate through the directories and load the images and masks\n",
        "    cnt=0\n",
        "    for file in sorted(os.listdir(image_dir_ms)):\n",
        "        if cnt==240:\n",
        "            break\n",
        "        # Load the image and resize to the target size\n",
        "        img = cv2.imread(os.path.join(image_dir_ms, file))\n",
        "        img = cv2.resize(img, target_size)\n",
        "\n",
        "        # Append the resized image to the list of images\n",
        "        images.append(img)\n",
        "        cnt+=1\n",
        "\n",
        "    cnt=0\n",
        "    for file in sorted(os.listdir(mask_dir_ms)):\n",
        "        if cnt==240:\n",
        "            break\n",
        "        # Load the corresponding mask and resize to the target size\n",
        "        mask = cv2.imread(os.path.join(mask_dir_ms, file))\n",
        "        mask = cv2.resize(mask, target_size)\n",
        "\n",
        "        # Append the resized mask to the list of masks\n",
        "        masks.append(mask)\n",
        "        cnt+=1\n",
        "\n",
        "    cnt = 0\n",
        "    # Iterate through the directories and load the images and masks\n",
        "    for file in sorted(os.listdir(image_dir_hed)):\n",
        "        if cnt<240:\n",
        "            cnt+=1\n",
        "            continue\n",
        "        if cnt==320:\n",
        "            break\n",
        "        # Load the image and resize to the target size\n",
        "        img = cv2.imread(os.path.join(image_dir_hed, file))\n",
        "        img = cv2.resize(img, target_size)\n",
        "\n",
        "        # Append the resized image to the list of images\n",
        "        images.append(img)\n",
        "        cnt+=1\n",
        "\n",
        "    cnt=0\n",
        "    for file in sorted(os.listdir(mask_dir_hed)):\n",
        "        if cnt<240:\n",
        "            cnt+=1\n",
        "            continue\n",
        "        if cnt==320:\n",
        "            break\n",
        "        # Load the corresponding mask and resize to the target size\n",
        "        mask = cv2.imread(os.path.join(mask_dir_hed, file))\n",
        "        mask = cv2.resize(mask, target_size)\n",
        "\n",
        "        # Append the resized mask to the list of masks\n",
        "        masks.append(mask)\n",
        "        cnt+=1\n",
        "\n",
        "    cnt = 0\n",
        "    # Iterate through the directories and load the images and masks\n",
        "    for file in sorted(os.listdir(image_dir_grad)):\n",
        "        if cnt<320:\n",
        "            cnt+=1\n",
        "            continue\n",
        "        if cnt==400:\n",
        "            break\n",
        "        # Load the image and resize to the target size\n",
        "        img = cv2.imread(os.path.join(image_dir_grad, file))\n",
        "        img = cv2.resize(img, target_size)\n",
        "\n",
        "        # Append the resized image to the list of images\n",
        "        images.append(img)\n",
        "        cnt+=1\n",
        "\n",
        "    cnt=0\n",
        "    for file in sorted(os.listdir(mask_dir_grad)):\n",
        "        if cnt<320:\n",
        "            cnt+=1\n",
        "            continue\n",
        "        if cnt==400:\n",
        "            break\n",
        "        # Load the corresponding mask and resize to the target size\n",
        "        mask = cv2.imread(os.path.join(mask_dir_grad, file))\n",
        "        mask = cv2.resize(mask, target_size)\n",
        "\n",
        "        # Append the resized mask to the list of masks\n",
        "        masks.append(mask)\n",
        "        cnt+=1\n",
        "\n",
        "    cnt = 0\n",
        "    # Iterate through the directories and load the images and masks\n",
        "    for file in sorted(os.listdir(image_dir_thresh)):\n",
        "        if cnt<400:\n",
        "            cnt+=1\n",
        "            continue\n",
        "        if cnt==480:\n",
        "            break\n",
        "        # Load the image and resize to the target size\n",
        "        img = cv2.imread(os.path.join(image_dir_thresh, file))\n",
        "        img = cv2.resize(img, target_size)\n",
        "\n",
        "        # Append the resized image to the list of images\n",
        "        images.append(img)\n",
        "        cnt+=1\n",
        "\n",
        "    cnt=0\n",
        "    for file in sorted(os.listdir(mask_dir_thresh)):\n",
        "        if cnt<400:\n",
        "            cnt+=1\n",
        "            continue\n",
        "        if cnt==480:\n",
        "            break\n",
        "        # Load the corresponding mask and resize to the target size\n",
        "        mask = cv2.imread(os.path.join(mask_dir_thresh, file))\n",
        "        mask = cv2.resize(mask, target_size)\n",
        "\n",
        "        # Append the resized mask to the list of masks\n",
        "        masks.append(mask)\n",
        "        cnt+=1\n",
        "\n",
        "\n",
        "\n",
        "IMG_COUNT = len(images)\n",
        "print(f\"image count : {IMG_COUNT}\")"
      ]
    },
    {
      "cell_type": "code",
      "execution_count": null,
      "metadata": {
        "id": "mGhwVJFSW1Ug"
      },
      "outputs": [],
      "source": [
        "# # Set the directories containing the images and masks\n",
        "# image_dir = '/content/drive/MyDrive/465 Project/ArtificialDataset/GRAIN DATA SET/AG'\n",
        "# mask_dir = '/content/drive/MyDrive/465 Project/ArtificialDataset/GRAIN DATA SET/AGMask'\n",
        "\n",
        "# # Set the target image size\n",
        "# target_size = (IMG_WIDTH, IMG_HEIGHT)\n",
        "\n",
        "# # Create empty lists to hold the images and masks\n",
        "# images = []\n",
        "# masks = []\n",
        "\n",
        "# # Iterate through the directories and load the images and masks\n",
        "# for file in sorted(os.listdir(image_dir)):\n",
        "#     # Load the image and resize to the target size\n",
        "#     img = cv2.imread(os.path.join(image_dir, file))\n",
        "#     img = cv2.resize(img, target_size)\n",
        "\n",
        "#     # Append the resized image to the list of images\n",
        "#     images.append(img)\n",
        "\n",
        "# for file in sorted(os.listdir(mask_dir)):\n",
        "\n",
        "#     # Load the corresponding mask and resize to the target size\n",
        "#     #mask_file = file.replace('.jpg', '.png')\n",
        "#     mask = cv2.imread(os.path.join(mask_dir, file))\n",
        "#     mask = cv2.resize(mask, target_size)\n",
        "\n",
        "#     # Append the resized mask to the list of masks\n",
        "#     masks.append(mask)\n",
        "\n",
        "# IMG_COUNT = len(images)"
      ]
    },
    {
      "cell_type": "markdown",
      "metadata": {
        "id": "ihXq1aKcZuVQ"
      },
      "source": [
        "# Example Image and it's Ground Truth"
      ]
    },
    {
      "cell_type": "code",
      "execution_count": null,
      "metadata": {
        "colab": {
          "base_uri": "https://localhost:8080/"
        },
        "id": "MpDzy0FQYNA8",
        "outputId": "b112f6fb-c85f-4c5e-cd3a-8974d81ce37c"
      },
      "outputs": [
        {
          "output_type": "display_data",
          "data": {
            "text/plain": [
              "<Figure size 640x480 with 1 Axes>"
            ],
            "image/png": "[encoded data removed]"
          },
          "metadata": {}
        },
        {
          "output_type": "display_data",
          "data": {
            "text/plain": [
              "<Figure size 640x480 with 1 Axes>"
            ],
            "image/png": "[encoded data removed]"
          },
          "metadata": {}
        }
      ],
      "source": [
        "# example\n",
        "image_x = random.randint(0, IMG_COUNT)\n",
        "image_x\n",
        "imshow(images[image_x])\n",
        "plt.show()\n",
        "imshow(masks[image_x])\n",
        "plt.show()"
      ]
    },
    {
      "cell_type": "markdown",
      "metadata": {
        "id": "7FVZXwpEBf4H"
      },
      "source": [
        "# SMP Unetplusplus+ resnet152"
      ]
    },
    {
      "cell_type": "markdown",
      "source": [
        "### Installations:"
      ],
      "metadata": {
        "id": "FUE8X1SLtufA"
      }
    },
    {
      "cell_type": "code",
      "source": [
        "pip install -U segmentation-models-pytorch"
      ],
      "metadata": {
        "colab": {
          "base_uri": "https://localhost:8080/"
        },
        "id": "rcfzLBaghS85",
        "outputId": "a7c5b3c1-46a9-455b-b618-5ec347281da7"
      },
      "execution_count": null,
      "outputs": [
        {
          "output_type": "stream",
          "name": "stdout",
          "text": [
            "Collecting segmentation-models-pytorch\n",
            "  Downloading segmentation_models_pytorch-0.3.3-py3-none-any.whl (106 kB)\n",
            "\u001b[2K     \u001b[90m━━━━━━━━━━━━━━━━━━━━━━━━━━━━━━━━━━━━━━━━\u001b[0m \u001b[32m106.7/106.7 kB\u001b[0m \u001b[31m2.2 MB/s\u001b[0m eta \u001b[36m0:00:00\u001b[0m\n",
            "\u001b[?25hRequirement already satisfied: torchvision>=0.5.0 in /usr/local/lib/python3.10/dist-packages (from segmentation-models-pytorch) (0.17.1+cu121)\n",
            "Collecting pretrainedmodels==0.7.4 (from segmentation-models-pytorch)\n",
            "  Downloading pretrainedmodels-0.7.4.tar.gz (58 kB)\n",
            "\u001b[2K     \u001b[90m━━━━━━━━━━━━━━━━━━━━━━━━━━━━━━━━━━━━━━━━\u001b[0m \u001b[32m58.8/58.8 kB\u001b[0m \u001b[31m9.0 MB/s\u001b[0m eta \u001b[36m0:00:00\u001b[0m\n",
            "\u001b[?25h  Preparing metadata (setup.py) ... \u001b[?25l\u001b[?25hdone\n",
            "Collecting efficientnet-pytorch==0.7.1 (from segmentation-models-pytorch)\n",
            "  Downloading efficientnet_pytorch-0.7.1.tar.gz (21 kB)\n",
            "  Preparing metadata (setup.py) ... \u001b[?25l\u001b[?25hdone\n",
            "Collecting timm==0.9.2 (from segmentation-models-pytorch)\n",
            "  Downloading timm-0.9.2-py3-none-any.whl (2.2 MB)\n",
            "\u001b[2K     \u001b[90m━━━━━━━━━━━━━━━━━━━━━━━━━━━━━━━━━━━━━━━━\u001b[0m \u001b[32m2.2/2.2 MB\u001b[0m \u001b[31m15.6 MB/s\u001b[0m eta \u001b[36m0:00:00\u001b[0m\n",
            "\u001b[?25hRequirement already satisfied: tqdm in /usr/local/lib/python3.10/dist-packages (from segmentation-models-pytorch) (4.66.2)\n",
            "Requirement already satisfied: pillow in /usr/local/lib/python3.10/dist-packages (from segmentation-models-pytorch) (9.4.0)\n",
            "Requirement already satisfied: torch in /usr/local/lib/python3.10/dist-packages (from efficientnet-pytorch==0.7.1->segmentation-models-pytorch) (2.2.1+cu121)\n",
            "Collecting munch (from pretrainedmodels==0.7.4->segmentation-models-pytorch)\n",
            "  Downloading munch-4.0.0-py2.py3-none-any.whl (9.9 kB)\n",
            "Requirement already satisfied: pyyaml in /usr/local/lib/python3.10/dist-packages (from timm==0.9.2->segmentation-models-pytorch) (6.0.1)\n",
            "Requirement already satisfied: huggingface-hub in /usr/local/lib/python3.10/dist-packages (from timm==0.9.2->segmentation-models-pytorch) (0.20.3)\n",
            "Requirement already satisfied: safetensors in /usr/local/lib/python3.10/dist-packages (from timm==0.9.2->segmentation-models-pytorch) (0.4.3)\n",
            "Requirement already satisfied: numpy in /usr/local/lib/python3.10/dist-packages (from torchvision>=0.5.0->segmentation-models-pytorch) (1.25.2)\n",
            "Requirement already satisfied: filelock in /usr/local/lib/python3.10/dist-packages (from torch->efficientnet-pytorch==0.7.1->segmentation-models-pytorch) (3.13.4)\n",
            "Requirement already satisfied: typing-extensions>=4.8.0 in /usr/local/lib/python3.10/dist-packages (from torch->efficientnet-pytorch==0.7.1->segmentation-models-pytorch) (4.11.0)\n",
            "Requirement already satisfied: sympy in /usr/local/lib/python3.10/dist-packages (from torch->efficientnet-pytorch==0.7.1->segmentation-models-pytorch) (1.12)\n",
            "Requirement already satisfied: networkx in /usr/local/lib/python3.10/dist-packages (from torch->efficientnet-pytorch==0.7.1->segmentation-models-pytorch) (3.3)\n",
            "Requirement already satisfied: jinja2 in /usr/local/lib/python3.10/dist-packages (from torch->efficientnet-pytorch==0.7.1->segmentation-models-pytorch) (3.1.3)\n",
            "Requirement already satisfied: fsspec in /usr/local/lib/python3.10/dist-packages (from torch->efficientnet-pytorch==0.7.1->segmentation-models-pytorch) (2023.6.0)\n",
            "Collecting nvidia-cuda-nvrtc-cu12==12.1.105 (from torch->efficientnet-pytorch==0.7.1->segmentation-models-pytorch)\n",
            "  Using cached nvidia_cuda_nvrtc_cu12-12.1.105-py3-none-manylinux1_x86_64.whl (23.7 MB)\n",
            "Collecting nvidia-cuda-runtime-cu12==12.1.105 (from torch->efficientnet-pytorch==0.7.1->segmentation-models-pytorch)\n",
            "  Using cached nvidia_cuda_runtime_cu12-12.1.105-py3-none-manylinux1_x86_64.whl (823 kB)\n",
            "Collecting nvidia-cuda-cupti-cu12==12.1.105 (from torch->efficientnet-pytorch==0.7.1->segmentation-models-pytorch)\n",
            "  Using cached nvidia_cuda_cupti_cu12-12.1.105-py3-none-manylinux1_x86_64.whl (14.1 MB)\n",
            "Collecting nvidia-cudnn-cu12==8.9.2.26 (from torch->efficientnet-pytorch==0.7.1->segmentation-models-pytorch)\n",
            "  Using cached nvidia_cudnn_cu12-8.9.2.26-py3-none-manylinux1_x86_64.whl (731.7 MB)\n",
            "Collecting nvidia-cublas-cu12==12.1.3.1 (from torch->efficientnet-pytorch==0.7.1->segmentation-models-pytorch)\n",
            "  Using cached nvidia_cublas_cu12-12.1.3.1-py3-none-manylinux1_x86_64.whl (410.6 MB)\n",
            "Collecting nvidia-cufft-cu12==11.0.2.54 (from torch->efficientnet-pytorch==0.7.1->segmentation-models-pytorch)\n",
            "  Using cached nvidia_cufft_cu12-11.0.2.54-py3-none-manylinux1_x86_64.whl (121.6 MB)\n",
            "Collecting nvidia-curand-cu12==10.3.2.106 (from torch->efficientnet-pytorch==0.7.1->segmentation-models-pytorch)\n",
            "  Using cached nvidia_curand_cu12-10.3.2.106-py3-none-manylinux1_x86_64.whl (56.5 MB)\n",
            "Collecting nvidia-cusolver-cu12==11.4.5.107 (from torch->efficientnet-pytorch==0.7.1->segmentation-models-pytorch)\n",
            "  Using cached nvidia_cusolver_cu12-11.4.5.107-py3-none-manylinux1_x86_64.whl (124.2 MB)\n",
            "Collecting nvidia-cusparse-cu12==12.1.0.106 (from torch->efficientnet-pytorch==0.7.1->segmentation-models-pytorch)\n",
            "  Using cached nvidia_cusparse_cu12-12.1.0.106-py3-none-manylinux1_x86_64.whl (196.0 MB)\n",
            "Collecting nvidia-nccl-cu12==2.19.3 (from torch->efficientnet-pytorch==0.7.1->segmentation-models-pytorch)\n",
            "  Using cached nvidia_nccl_cu12-2.19.3-py3-none-manylinux1_x86_64.whl (166.0 MB)\n",
            "Collecting nvidia-nvtx-cu12==12.1.105 (from torch->efficientnet-pytorch==0.7.1->segmentation-models-pytorch)\n",
            "  Using cached nvidia_nvtx_cu12-12.1.105-py3-none-manylinux1_x86_64.whl (99 kB)\n",
            "Requirement already satisfied: triton==2.2.0 in /usr/local/lib/python3.10/dist-packages (from torch->efficientnet-pytorch==0.7.1->segmentation-models-pytorch) (2.2.0)\n",
            "Collecting nvidia-nvjitlink-cu12 (from nvidia-cusolver-cu12==11.4.5.107->torch->efficientnet-pytorch==0.7.1->segmentation-models-pytorch)\n",
            "  Using cached nvidia_nvjitlink_cu12-12.4.127-py3-none-manylinux2014_x86_64.whl (21.1 MB)\n",
            "Requirement already satisfied: requests in /usr/local/lib/python3.10/dist-packages (from huggingface-hub->timm==0.9.2->segmentation-models-pytorch) (2.31.0)\n",
            "Requirement already satisfied: packaging>=20.9 in /usr/local/lib/python3.10/dist-packages (from huggingface-hub->timm==0.9.2->segmentation-models-pytorch) (24.0)\n",
            "Requirement already satisfied: MarkupSafe>=2.0 in /usr/local/lib/python3.10/dist-packages (from jinja2->torch->efficientnet-pytorch==0.7.1->segmentation-models-pytorch) (2.1.5)\n",
            "Requirement already satisfied: charset-normalizer<4,>=2 in /usr/local/lib/python3.10/dist-packages (from requests->huggingface-hub->timm==0.9.2->segmentation-models-pytorch) (3.3.2)\n",
            "Requirement already satisfied: idna<4,>=2.5 in /usr/local/lib/python3.10/dist-packages (from requests->huggingface-hub->timm==0.9.2->segmentation-models-pytorch) (3.7)\n",
            "Requirement already satisfied: urllib3<3,>=1.21.1 in /usr/local/lib/python3.10/dist-packages (from requests->huggingface-hub->timm==0.9.2->segmentation-models-pytorch) (2.0.7)\n",
            "Requirement already satisfied: certifi>=2017.4.17 in /usr/local/lib/python3.10/dist-packages (from requests->huggingface-hub->timm==0.9.2->segmentation-models-pytorch) (2024.2.2)\n",
            "Requirement already satisfied: mpmath>=0.19 in /usr/local/lib/python3.10/dist-packages (from sympy->torch->efficientnet-pytorch==0.7.1->segmentation-models-pytorch) (1.3.0)\n",
            "Building wheels for collected packages: efficientnet-pytorch, pretrainedmodels\n",
            "  Building wheel for efficientnet-pytorch (setup.py) ... \u001b[?25l\u001b[?25hdone\n",
            "  Created wheel for efficientnet-pytorch: filename=efficientnet_pytorch-0.7.1-py3-none-any.whl size=16429 sha256=893078d40bc59a3d9b94e70345aae42b7b768010085207cf4a4b18cdc5eaffee\n",
            "  Stored in directory: /root/.cache/pip/wheels/03/3f/e9/911b1bc46869644912bda90a56bcf7b960f20b5187feea3baf\n",
            "  Building wheel for pretrainedmodels (setup.py) ... \u001b[?25l\u001b[?25hdone\n",
            "  Created wheel for pretrainedmodels: filename=pretrainedmodels-0.7.4-py3-none-any.whl size=60945 sha256=3c42767e80d84d4b6bc0943b8ae9020a58c1dfa83cb74bfb8f96cb3bf1f9427b\n",
            "  Stored in directory: /root/.cache/pip/wheels/35/cb/a5/8f534c60142835bfc889f9a482e4a67e0b817032d9c6883b64\n",
            "Successfully built efficientnet-pytorch pretrainedmodels\n",
            "Installing collected packages: nvidia-nvtx-cu12, nvidia-nvjitlink-cu12, nvidia-nccl-cu12, nvidia-curand-cu12, nvidia-cufft-cu12, nvidia-cuda-runtime-cu12, nvidia-cuda-nvrtc-cu12, nvidia-cuda-cupti-cu12, nvidia-cublas-cu12, munch, nvidia-cusparse-cu12, nvidia-cudnn-cu12, nvidia-cusolver-cu12, efficientnet-pytorch, timm, pretrainedmodels, segmentation-models-pytorch\n",
            "Successfully installed efficientnet-pytorch-0.7.1 munch-4.0.0 nvidia-cublas-cu12-12.1.3.1 nvidia-cuda-cupti-cu12-12.1.105 nvidia-cuda-nvrtc-cu12-12.1.105 nvidia-cuda-runtime-cu12-12.1.105 nvidia-cudnn-cu12-8.9.2.26 nvidia-cufft-cu12-11.0.2.54 nvidia-curand-cu12-10.3.2.106 nvidia-cusolver-cu12-11.4.5.107 nvidia-cusparse-cu12-12.1.0.106 nvidia-nccl-cu12-2.19.3 nvidia-nvjitlink-cu12-12.4.127 nvidia-nvtx-cu12-12.1.105 pretrainedmodels-0.7.4 segmentation-models-pytorch-0.3.3 timm-0.9.2\n"
          ]
        }
      ]
    },
    {
      "cell_type": "code",
      "source": [
        "pip install -U git+https://github.com/qubvel/segmentation_models.pytorch"
      ],
      "metadata": {
        "colab": {
          "base_uri": "https://localhost:8080/"
        },
        "id": "Md2pW7xwhKXJ",
        "outputId": "5b9eceb7-c6c4-499b-f1d9-1e4596bf8077"
      },
      "execution_count": null,
      "outputs": [
        {
          "output_type": "stream",
          "name": "stdout",
          "text": [
            "Collecting git+https://github.com/qubvel/segmentation_models.pytorch\n",
            "  Cloning https://github.com/qubvel/segmentation_models.pytorch to /tmp/pip-req-build-280kutyr\n",
            "  Running command git clone --filter=blob:none --quiet https://github.com/qubvel/segmentation_models.pytorch /tmp/pip-req-build-280kutyr\n",
            "  Resolved https://github.com/qubvel/segmentation_models.pytorch to commit 6db76a1106426ac5b55f39fba68168f3bccae7f8\n",
            "  Installing build dependencies ... \u001b[?25l\u001b[?25hdone\n",
            "  Getting requirements to build wheel ... \u001b[?25l\u001b[?25hdone\n",
            "  Preparing metadata (pyproject.toml) ... \u001b[?25l\u001b[?25hdone\n",
            "Requirement already satisfied: torchvision>=0.5.0 in /usr/local/lib/python3.10/dist-packages (from segmentation_models_pytorch==0.3.3) (0.17.1+cu121)\n",
            "Requirement already satisfied: pretrainedmodels==0.7.4 in /usr/local/lib/python3.10/dist-packages (from segmentation_models_pytorch==0.3.3) (0.7.4)\n",
            "Requirement already satisfied: efficientnet-pytorch==0.7.1 in /usr/local/lib/python3.10/dist-packages (from segmentation_models_pytorch==0.3.3) (0.7.1)\n",
            "Collecting timm==0.9.7 (from segmentation_models_pytorch==0.3.3)\n",
            "  Downloading timm-0.9.7-py3-none-any.whl (2.2 MB)\n",
            "\u001b[2K     \u001b[90m━━━━━━━━━━━━━━━━━━━━━━━━━━━━━━━━━━━━━━━━\u001b[0m \u001b[32m2.2/2.2 MB\u001b[0m \u001b[31m12.3 MB/s\u001b[0m eta \u001b[36m0:00:00\u001b[0m\n",
            "\u001b[?25hRequirement already satisfied: tqdm in /usr/local/lib/python3.10/dist-packages (from segmentation_models_pytorch==0.3.3) (4.66.2)\n",
            "Requirement already satisfied: pillow in /usr/local/lib/python3.10/dist-packages (from segmentation_models_pytorch==0.3.3) (9.4.0)\n",
            "Requirement already satisfied: six in /usr/local/lib/python3.10/dist-packages (from segmentation_models_pytorch==0.3.3) (1.16.0)\n",
            "Requirement already satisfied: torch in /usr/local/lib/python3.10/dist-packages (from efficientnet-pytorch==0.7.1->segmentation_models_pytorch==0.3.3) (2.2.1+cu121)\n",
            "Requirement already satisfied: munch in /usr/local/lib/python3.10/dist-packages (from pretrainedmodels==0.7.4->segmentation_models_pytorch==0.3.3) (4.0.0)\n",
            "Requirement already satisfied: pyyaml in /usr/local/lib/python3.10/dist-packages (from timm==0.9.7->segmentation_models_pytorch==0.3.3) (6.0.1)\n",
            "Requirement already satisfied: huggingface-hub in /usr/local/lib/python3.10/dist-packages (from timm==0.9.7->segmentation_models_pytorch==0.3.3) (0.20.3)\n",
            "Requirement already satisfied: safetensors in /usr/local/lib/python3.10/dist-packages (from timm==0.9.7->segmentation_models_pytorch==0.3.3) (0.4.3)\n",
            "Requirement already satisfied: numpy in /usr/local/lib/python3.10/dist-packages (from torchvision>=0.5.0->segmentation_models_pytorch==0.3.3) (1.25.2)\n",
            "Requirement already satisfied: filelock in /usr/local/lib/python3.10/dist-packages (from torch->efficientnet-pytorch==0.7.1->segmentation_models_pytorch==0.3.3) (3.13.4)\n",
            "Requirement already satisfied: typing-extensions>=4.8.0 in /usr/local/lib/python3.10/dist-packages (from torch->efficientnet-pytorch==0.7.1->segmentation_models_pytorch==0.3.3) (4.11.0)\n",
            "Requirement already satisfied: sympy in /usr/local/lib/python3.10/dist-packages (from torch->efficientnet-pytorch==0.7.1->segmentation_models_pytorch==0.3.3) (1.12)\n",
            "Requirement already satisfied: networkx in /usr/local/lib/python3.10/dist-packages (from torch->efficientnet-pytorch==0.7.1->segmentation_models_pytorch==0.3.3) (3.3)\n",
            "Requirement already satisfied: jinja2 in /usr/local/lib/python3.10/dist-packages (from torch->efficientnet-pytorch==0.7.1->segmentation_models_pytorch==0.3.3) (3.1.3)\n",
            "Requirement already satisfied: fsspec in /usr/local/lib/python3.10/dist-packages (from torch->efficientnet-pytorch==0.7.1->segmentation_models_pytorch==0.3.3) (2023.6.0)\n",
            "Requirement already satisfied: nvidia-cuda-nvrtc-cu12==12.1.105 in /usr/local/lib/python3.10/dist-packages (from torch->efficientnet-pytorch==0.7.1->segmentation_models_pytorch==0.3.3) (12.1.105)\n",
            "Requirement already satisfied: nvidia-cuda-runtime-cu12==12.1.105 in /usr/local/lib/python3.10/dist-packages (from torch->efficientnet-pytorch==0.7.1->segmentation_models_pytorch==0.3.3) (12.1.105)\n",
            "Requirement already satisfied: nvidia-cuda-cupti-cu12==12.1.105 in /usr/local/lib/python3.10/dist-packages (from torch->efficientnet-pytorch==0.7.1->segmentation_models_pytorch==0.3.3) (12.1.105)\n",
            "Requirement already satisfied: nvidia-cudnn-cu12==8.9.2.26 in /usr/local/lib/python3.10/dist-packages (from torch->efficientnet-pytorch==0.7.1->segmentation_models_pytorch==0.3.3) (8.9.2.26)\n",
            "Requirement already satisfied: nvidia-cublas-cu12==12.1.3.1 in /usr/local/lib/python3.10/dist-packages (from torch->efficientnet-pytorch==0.7.1->segmentation_models_pytorch==0.3.3) (12.1.3.1)\n",
            "Requirement already satisfied: nvidia-cufft-cu12==11.0.2.54 in /usr/local/lib/python3.10/dist-packages (from torch->efficientnet-pytorch==0.7.1->segmentation_models_pytorch==0.3.3) (11.0.2.54)\n",
            "Requirement already satisfied: nvidia-curand-cu12==10.3.2.106 in /usr/local/lib/python3.10/dist-packages (from torch->efficientnet-pytorch==0.7.1->segmentation_models_pytorch==0.3.3) (10.3.2.106)\n",
            "Requirement already satisfied: nvidia-cusolver-cu12==11.4.5.107 in /usr/local/lib/python3.10/dist-packages (from torch->efficientnet-pytorch==0.7.1->segmentation_models_pytorch==0.3.3) (11.4.5.107)\n",
            "Requirement already satisfied: nvidia-cusparse-cu12==12.1.0.106 in /usr/local/lib/python3.10/dist-packages (from torch->efficientnet-pytorch==0.7.1->segmentation_models_pytorch==0.3.3) (12.1.0.106)\n",
            "Requirement already satisfied: nvidia-nccl-cu12==2.19.3 in /usr/local/lib/python3.10/dist-packages (from torch->efficientnet-pytorch==0.7.1->segmentation_models_pytorch==0.3.3) (2.19.3)\n",
            "Requirement already satisfied: nvidia-nvtx-cu12==12.1.105 in /usr/local/lib/python3.10/dist-packages (from torch->efficientnet-pytorch==0.7.1->segmentation_models_pytorch==0.3.3) (12.1.105)\n",
            "Requirement already satisfied: triton==2.2.0 in /usr/local/lib/python3.10/dist-packages (from torch->efficientnet-pytorch==0.7.1->segmentation_models_pytorch==0.3.3) (2.2.0)\n",
            "Requirement already satisfied: nvidia-nvjitlink-cu12 in /usr/local/lib/python3.10/dist-packages (from nvidia-cusolver-cu12==11.4.5.107->torch->efficientnet-pytorch==0.7.1->segmentation_models_pytorch==0.3.3) (12.4.127)\n",
            "Requirement already satisfied: requests in /usr/local/lib/python3.10/dist-packages (from huggingface-hub->timm==0.9.7->segmentation_models_pytorch==0.3.3) (2.31.0)\n",
            "Requirement already satisfied: packaging>=20.9 in /usr/local/lib/python3.10/dist-packages (from huggingface-hub->timm==0.9.7->segmentation_models_pytorch==0.3.3) (24.0)\n",
            "Requirement already satisfied: MarkupSafe>=2.0 in /usr/local/lib/python3.10/dist-packages (from jinja2->torch->efficientnet-pytorch==0.7.1->segmentation_models_pytorch==0.3.3) (2.1.5)\n",
            "Requirement already satisfied: charset-normalizer<4,>=2 in /usr/local/lib/python3.10/dist-packages (from requests->huggingface-hub->timm==0.9.7->segmentation_models_pytorch==0.3.3) (3.3.2)\n",
            "Requirement already satisfied: idna<4,>=2.5 in /usr/local/lib/python3.10/dist-packages (from requests->huggingface-hub->timm==0.9.7->segmentation_models_pytorch==0.3.3) (3.7)\n",
            "Requirement already satisfied: urllib3<3,>=1.21.1 in /usr/local/lib/python3.10/dist-packages (from requests->huggingface-hub->timm==0.9.7->segmentation_models_pytorch==0.3.3) (2.0.7)\n",
            "Requirement already satisfied: certifi>=2017.4.17 in /usr/local/lib/python3.10/dist-packages (from requests->huggingface-hub->timm==0.9.7->segmentation_models_pytorch==0.3.3) (2024.2.2)\n",
            "Requirement already satisfied: mpmath>=0.19 in /usr/local/lib/python3.10/dist-packages (from sympy->torch->efficientnet-pytorch==0.7.1->segmentation_models_pytorch==0.3.3) (1.3.0)\n",
            "Installing collected packages: timm\n",
            "  Attempting uninstall: timm\n",
            "    Found existing installation: timm 0.9.2\n",
            "    Uninstalling timm-0.9.2:\n",
            "      Successfully uninstalled timm-0.9.2\n",
            "\u001b[31mERROR: pip's dependency resolver does not currently take into account all the packages that are installed. This behaviour is the source of the following dependency conflicts.\n",
            "segmentation-models-pytorch 0.3.3 requires timm==0.9.2, but you have timm 0.9.7 which is incompatible.\u001b[0m\u001b[31m\n",
            "\u001b[0mSuccessfully installed timm-0.9.7\n"
          ]
        }
      ]
    },
    {
      "cell_type": "markdown",
      "source": [
        "## Model"
      ],
      "metadata": {
        "id": "I9vjEAyGt1Ow"
      }
    },
    {
      "cell_type": "code",
      "source": [
        "device = \"cuda\" if torch.cuda.is_available() else \"cpu\""
      ],
      "metadata": {
        "id": "wfSGNqzOhXhR"
      },
      "execution_count": null,
      "outputs": []
    },
    {
      "cell_type": "code",
      "execution_count": null,
      "metadata": {
        "id": "tCUX3SiCY7ik"
      },
      "outputs": [],
      "source": [
        "import segmentation_models_pytorch as smp\n",
        "model = smp.UnetPlusPlus(\n",
        "            encoder_name=\"resnet152\",\n",
        "            encoder_weights=\"imagenet\",\n",
        "            decoder_use_batchnorm=True,\n",
        "            decoder_attention_type=\"scse\",\n",
        "            in_channels=3,\n",
        "            classes=1,\n",
        "            activation=\"sigmoid\"\n",
        "        ).to(device)"
      ]
    },
    {
      "cell_type": "markdown",
      "metadata": {
        "id": "IawsoiuQBxU3"
      },
      "source": [
        "# dataset splitting"
      ]
    },
    {
      "cell_type": "code",
      "execution_count": null,
      "metadata": {
        "colab": {
          "base_uri": "https://localhost:8080/"
        },
        "id": "kiRlzdUuc6ca",
        "outputId": "2949c674-2866-47aa-d9aa-fc29dbfe61f7"
      },
      "outputs": [
        {
          "output_type": "stream",
          "name": "stdout",
          "text": [
            "(480, 128, 128, 3) (480, 128, 128, 3)\n"
          ]
        }
      ],
      "source": [
        "# create the X and Y (input and output)\n",
        "\n",
        "X_train = np.array(images)\n",
        "Y_train = np.array(masks)\n",
        "print(X_train.shape, Y_train.shape)\n",
        "# change the Y to a boolean\n",
        "Y_train = np.where(Y_train > 245, True, False)"
      ]
    },
    {
      "cell_type": "code",
      "execution_count": null,
      "metadata": {
        "colab": {
          "base_uri": "https://localhost:8080/"
        },
        "id": "I303u1Z3OZZT",
        "outputId": "5fe55b9d-f524-4c03-bd64-a6b9dee02cff"
      },
      "outputs": [
        {
          "output_type": "stream",
          "name": "stdout",
          "text": [
            "(480, 3, 128, 128) (480, 3, 128, 128)\n"
          ]
        }
      ],
      "source": [
        "# careful to run this cell only once (otherwise shape changes)\n",
        "X_train = np.transpose(X_train, (0, 3, 1 , 2))\n",
        "Y_train = np.transpose(Y_train, (0, 3, 1 , 2))\n",
        "print(X_train.shape, Y_train.shape)"
      ]
    },
    {
      "cell_type": "code",
      "execution_count": null,
      "metadata": {
        "colab": {
          "base_uri": "https://localhost:8080/"
        },
        "id": "wtXB7ItEc-J9",
        "outputId": "cc0a94fa-2e3e-40ec-a571-e8804f300744"
      },
      "outputs": [
        {
          "output_type": "stream",
          "name": "stdout",
          "text": [
            "(480, 128, 128)\n",
            "(480, 1, 128, 128)\n"
          ]
        }
      ],
      "source": [
        "#convert the boolean where it insion s true (any of the 3 channels) to a (336, 128, 128, 1)\n",
        "#basically reduce the 3 channel dimeRGB to just one boolean value\n",
        "\n",
        "Y_t= np.any(Y_train, axis=1)\n",
        "print(Y_t.shape)\n",
        "Y_t = Y_t.reshape(IMG_COUNT, 1, IMG_HEIGHT, IMG_WIDTH)\n",
        "print(Y_t.shape)\n"
      ]
    },
    {
      "cell_type": "code",
      "execution_count": null,
      "metadata": {
        "id": "MKN9aaGqmgT7"
      },
      "outputs": [],
      "source": [
        "# prompt: Make Dataset from data\n",
        "\n",
        "from torch.utils.data import Dataset\n",
        "\n",
        "class GrainDataset(Dataset):\n",
        "    def __init__(self, images, masks):\n",
        "        self.images = images\n",
        "        self.masks = masks\n",
        "\n",
        "    def __len__(self):\n",
        "        return len(self.images)\n",
        "\n",
        "    def __getitem__(self, idx):\n",
        "        image = torch.from_numpy(self.images[idx]).float()\n",
        "        mask = torch.from_numpy(self.masks[idx]).float()\n",
        "        return image, mask\n",
        "\n",
        "# Create the dataset\n",
        "dataset = GrainDataset(X_train, Y_t)\n",
        "\n"
      ]
    },
    {
      "cell_type": "code",
      "execution_count": null,
      "metadata": {
        "id": "S89-QaPhnkf2"
      },
      "outputs": [],
      "source": [
        "# prompt: create train and validation dataset\n",
        "\n",
        "from torch.utils.data import random_split\n",
        "\n",
        "# Split the dataset into train and validation sets\n",
        "train_size = int(0.8 * len(dataset))\n",
        "r = len(dataset) - train_size\n",
        "val_size = int(0.5 * r)\n",
        "test_size = int(0.5 * r)\n",
        "train_dataset, val_dataset,test_dataset = random_split(dataset, [train_size, val_size,test_size])\n",
        "\n"
      ]
    },
    {
      "cell_type": "code",
      "source": [
        "print(f\"Train : {train_size}\")\n",
        "print(f\"Val: {val_size}\")\n",
        "print(f\"Test: {test_size}\")"
      ],
      "metadata": {
        "colab": {
          "base_uri": "https://localhost:8080/"
        },
        "id": "Lug32ruWddXb",
        "outputId": "93c7decd-452d-4c9d-e66d-b908f03f055a"
      },
      "execution_count": null,
      "outputs": [
        {
          "output_type": "stream",
          "name": "stdout",
          "text": [
            "Train : 384\n",
            "Val: 48\n",
            "Test: 48\n"
          ]
        }
      ]
    },
    {
      "cell_type": "code",
      "source": [
        "# Define callbacks\n",
        "class ModelCheckpoint:\n",
        "    def __init__(self, checkpoint_path):\n",
        "        self.checkpoint_path = checkpoint_path\n",
        "        self.best_loss = float('inf')\n",
        "\n",
        "    def __call__(self, model, epoch, train_loss, val_loss):\n",
        "        if val_loss < self.best_loss:\n",
        "            torch.save({\n",
        "            'epoch': epoch,\n",
        "            'model_state_dict': model.state_dict(),\n",
        "            'train_loss' : train_loss,\n",
        "            'val_loss': val_loss,\n",
        "            }, self.checkpoint_path)\n",
        "            print(\"Checkpoint saved\")\n",
        "            self.best_loss = val_loss\n",
        "\n",
        "from datetime import datetime\n",
        "checkpoint_path = f'/content/drive/MyDrive/465 Project/Unet++ Checkpoints/TrainingSet{TRAINING_SET}_{datetime.now().strftime(\"%d%m%Y %H:%M:%S\")}.pt'\n",
        "# print(checkpoint_path)\n",
        "# os.makedirs(\"/content/drive/MyDrive/465 Project\", exist_ok=True) # already exists\n",
        "checkpoint_dir = os.path.dirname(checkpoint_path)\n",
        "\n",
        "checkpointer = ModelCheckpoint(checkpoint_path)\n"
      ],
      "metadata": {
        "id": "6X-WT0qYM114"
      },
      "execution_count": null,
      "outputs": []
    },
    {
      "cell_type": "code",
      "source": [
        "print(f\"current: {checkpoint_path}\")"
      ],
      "metadata": {
        "colab": {
          "base_uri": "https://localhost:8080/"
        },
        "id": "GXSNL2f4S187",
        "outputId": "aa88ac3f-98bd-4c7d-d84b-c25116e38f36"
      },
      "execution_count": null,
      "outputs": [
        {
          "output_type": "stream",
          "name": "stdout",
          "text": [
            "current: /content/drive/MyDrive/465 Project/Unet++ Checkpoints/TrainingSet1_21042024 16:52:38.pt\n"
          ]
        }
      ]
    },
    {
      "cell_type": "code",
      "source": [
        "from torch.utils.data import DataLoader\n",
        "\n",
        "# Define DataLoader for training and validation sets\n",
        "train_loader = DataLoader(train_dataset, batch_size=16, shuffle=True)\n",
        "val_loader = DataLoader(val_dataset, batch_size=16, shuffle=False)\n",
        "# test_loader = DataLoader(test_dataset, batch_size=16, shuffle=False)"
      ],
      "metadata": {
        "id": "gDzeZ4VFM5DQ"
      },
      "execution_count": null,
      "outputs": []
    },
    {
      "cell_type": "markdown",
      "source": [
        "# Dice Loss func"
      ],
      "metadata": {
        "id": "6Irs9djdLeAD"
      }
    },
    {
      "cell_type": "code",
      "source": [
        "import torch\n",
        "import torch.nn.functional as F\n",
        "\n",
        "def continuous_dice_loss(output, target):\n",
        "    \"\"\"\n",
        "    Calculates the Continuous Dice Loss for a batch of predictions and targets.\n",
        "\n",
        "    Args:\n",
        "    output (torch.Tensor): Model's probabilistic output, values between [0, 1].\n",
        "    target (torch.Tensor): Ground truth binary tensor, values {0, 1}.\n",
        "\n",
        "    Returns:\n",
        "    torch.Tensor: Continuous Dice Loss.\n",
        "    \"\"\"\n",
        "    # Flatten the tensors to calculate the loss on a per-image basis\n",
        "    output_flat = output.view(output.size(0), -1)\n",
        "    target_flat = target.view(target.size(0), -1)\n",
        "\n",
        "    # Calculate intersection and cardinality (or area)\n",
        "    intersection = torch.sum(output_flat * target_flat, dim=1)\n",
        "    cardinality_output = torch.sum(output_flat, dim=1)\n",
        "    cardinality_target = torch.sum(target_flat, dim=1)\n",
        "\n",
        "    # Calculate c as per the definition\n",
        "    c_numerator = torch.sum(output_flat * target_flat, dim=1)\n",
        "    c_denominator = torch.sum(output_flat * torch.sign(target_flat), dim=1)\n",
        "\n",
        "    # Avoid division by zero\n",
        "    c_denominator = torch.where(c_denominator == 0, torch.ones_like(c_denominator), c_denominator)\n",
        "    c = c_numerator / c_denominator\n",
        "\n",
        "    # Compute continuous Dice coefficient\n",
        "    cDC = (2. * intersection) / (c * cardinality_target + cardinality_output)\n",
        "\n",
        "    # Compute loss as 1 - cDC\n",
        "    cDL = 1 - cDC\n",
        "\n",
        "    # Average the loss over the batch\n",
        "    return cDL.mean()\n",
        "\n",
        "\n",
        "def combined_dice_ce_loss(output, target, dice_weight=0.5, ce_weight=0.5):\n",
        "    ce_loss = F.binary_cross_entropy(output, target)\n",
        "    dice_loss = continuous_dice_loss(output, target)\n",
        "    combined_loss = dice_weight * dice_loss + ce_weight * ce_loss\n",
        "    return combined_loss\n"
      ],
      "metadata": {
        "id": "lMER7Zr6Lc6z"
      },
      "execution_count": null,
      "outputs": []
    },
    {
      "cell_type": "markdown",
      "source": [
        "#Training Loop"
      ],
      "metadata": {
        "id": "O-iMrWqZAmc3"
      }
    },
    {
      "cell_type": "code",
      "source": [
        "class EarlyStopping:\n",
        "    def __init__(self, patience=7, verbose=False, delta=0):\n",
        "        \"\"\"\n",
        "        Args:\n",
        "            patience (int): How long to wait after last time validation loss improved.\n",
        "                            Default: 7\n",
        "            verbose (bool): If True, prints a message for each validation loss improvement.\n",
        "                            Default: False\n",
        "            delta (float): Minimum change in the monitored quantity to qualify as an improvement.\n",
        "                            Default: 0\n",
        "        \"\"\"\n",
        "        self.patience = patience\n",
        "        self.verbose = verbose\n",
        "        self.counter = 0\n",
        "        self.best_score = None\n",
        "        self.early_stop = False\n",
        "        self.val_loss_min = float('inf')\n",
        "        self.delta = delta\n",
        "\n",
        "    def __call__(self, val_loss):\n",
        "        score = -val_loss\n",
        "\n",
        "        if self.best_score is None:\n",
        "            self.best_score = score\n",
        "            self.save_checkpoint(val_loss)\n",
        "        elif score < self.best_score + self.delta:\n",
        "            self.counter += 1\n",
        "            if self.verbose:\n",
        "                print(f'EarlyStopping counter: {self.counter} out of {self.patience}')\n",
        "            if self.counter >= self.patience:\n",
        "                self.early_stop = True\n",
        "        else:\n",
        "            self.best_score = score\n",
        "            self.save_checkpoint(val_loss)\n",
        "            self.counter = 0\n",
        "\n",
        "    def save_checkpoint(self, val_loss):\n",
        "        \"\"\"Saves model when validation loss decrease.\"\"\"\n",
        "        if self.verbose:\n",
        "            print(f'Validation loss decreased ({self.val_loss_min:.6f} --> {val_loss:.6f}).  Saving model...')\n",
        "        self.val_loss_min = val_loss"
      ],
      "metadata": {
        "id": "45jmpgaFnFpB"
      },
      "execution_count": null,
      "outputs": []
    },
    {
      "cell_type": "code",
      "execution_count": null,
      "metadata": {
        "colab": {
          "base_uri": "https://localhost:8080/"
        },
        "id": "M1ze9oRSeFL9",
        "outputId": "6ce422b9-e2c7-49ef-9eb2-8a4eb5b3ece8"
      },
      "outputs": [
        {
          "output_type": "stream",
          "name": "stdout",
          "text": [
            "Epoch [1/30], Train Loss: 0.1645, Val Loss: 0.1523\n",
            "Validation loss decreased (inf --> 0.152307).  Saving model...\n",
            "Epoch [2/30], Train Loss: 0.1384, Val Loss: 0.1385\n",
            "Validation loss decreased (0.152307 --> 0.138488).  Saving model...\n",
            "Epoch [3/30], Train Loss: 0.1223, Val Loss: 0.1328\n",
            "Validation loss decreased (0.138488 --> 0.132824).  Saving model...\n",
            "Epoch [4/30], Train Loss: 0.1072, Val Loss: 0.1252\n",
            "Validation loss decreased (0.132824 --> 0.125163).  Saving model...\n",
            "Epoch [5/30], Train Loss: 0.0940, Val Loss: 0.1239\n",
            "Validation loss decreased (0.125163 --> 0.123929).  Saving model...\n",
            "Epoch [6/30], Train Loss: 0.0830, Val Loss: 0.1193\n",
            "Validation loss decreased (0.123929 --> 0.119344).  Saving model...\n",
            "Epoch [7/30], Train Loss: 0.0744, Val Loss: 0.1164\n",
            "Validation loss decreased (0.119344 --> 0.116377).  Saving model...\n",
            "Epoch [8/30], Train Loss: 0.0671, Val Loss: 0.1158\n",
            "Validation loss decreased (0.116377 --> 0.115786).  Saving model...\n",
            "Epoch [9/30], Train Loss: 0.0618, Val Loss: 0.1137\n",
            "Validation loss decreased (0.115786 --> 0.113686).  Saving model...\n",
            "Epoch [10/30], Train Loss: 0.0574, Val Loss: 0.1114\n",
            "Validation loss decreased (0.113686 --> 0.111369).  Saving model...\n",
            "Epoch [11/30], Train Loss: 0.0534, Val Loss: 0.1095\n",
            "Validation loss decreased (0.111369 --> 0.109532).  Saving model...\n",
            "Epoch [12/30], Train Loss: 0.0496, Val Loss: 0.1086\n",
            "Validation loss decreased (0.109532 --> 0.108559).  Saving model...\n",
            "Epoch [13/30], Train Loss: 0.0464, Val Loss: 0.1070\n",
            "Validation loss decreased (0.108559 --> 0.107008).  Saving model...\n",
            "Epoch [14/30], Train Loss: 0.0443, Val Loss: 0.1058\n",
            "Validation loss decreased (0.107008 --> 0.105805).  Saving model...\n",
            "Epoch [15/30], Train Loss: 0.0423, Val Loss: 0.1056\n",
            "Validation loss decreased (0.105805 --> 0.105550).  Saving model...\n",
            "Epoch [16/30], Train Loss: 0.0405, Val Loss: 0.1045\n",
            "Validation loss decreased (0.105550 --> 0.104509).  Saving model...\n",
            "Epoch [17/30], Train Loss: 0.0389, Val Loss: 0.1045\n",
            "EarlyStopping counter: 1 out of 10\n",
            "Epoch [18/30], Train Loss: 0.0373, Val Loss: 0.1028\n",
            "Validation loss decreased (0.104509 --> 0.102815).  Saving model...\n",
            "Epoch [19/30], Train Loss: 0.0350, Val Loss: 0.1019\n",
            "Validation loss decreased (0.102815 --> 0.101908).  Saving model...\n",
            "Epoch [20/30], Train Loss: 0.0331, Val Loss: 0.1024\n",
            "EarlyStopping counter: 1 out of 10\n",
            "Epoch [21/30], Train Loss: 0.0318, Val Loss: 0.1012\n",
            "Validation loss decreased (0.101908 --> 0.101194).  Saving model...\n",
            "Epoch [22/30], Train Loss: 0.0306, Val Loss: 0.1014\n",
            "EarlyStopping counter: 1 out of 10\n",
            "Epoch [23/30], Train Loss: 0.0297, Val Loss: 0.1006\n",
            "Validation loss decreased (0.101194 --> 0.100581).  Saving model...\n",
            "Epoch [24/30], Train Loss: 0.0289, Val Loss: 0.1015\n",
            "EarlyStopping counter: 1 out of 10\n",
            "Epoch [25/30], Train Loss: 0.0288, Val Loss: 0.1001\n",
            "Validation loss decreased (0.100581 --> 0.100136).  Saving model...\n",
            "Epoch [26/30], Train Loss: 0.0283, Val Loss: 0.0997\n",
            "Validation loss decreased (0.100136 --> 0.099747).  Saving model...\n",
            "Epoch [27/30], Train Loss: 0.0270, Val Loss: 0.0995\n",
            "Validation loss decreased (0.099747 --> 0.099523).  Saving model...\n",
            "Epoch [28/30], Train Loss: 0.0258, Val Loss: 0.0991\n",
            "Validation loss decreased (0.099523 --> 0.099071).  Saving model...\n",
            "Epoch [29/30], Train Loss: 0.0249, Val Loss: 0.0992\n",
            "EarlyStopping counter: 1 out of 10\n",
            "Epoch [30/30], Train Loss: 0.0242, Val Loss: 0.0983\n",
            "Validation loss decreased (0.099071 --> 0.098317).  Saving model...\n"
          ]
        }
      ],
      "source": [
        "import torch.optim as optim\n",
        "from torch.utils.data import DataLoader\n",
        "\n",
        "# Define optimizer and loss function\n",
        "optimizer = optim.Adam(model.parameters(),lr=0.0001)\n",
        "criterion = combined_dice_ce_loss\n",
        "early_stopper = EarlyStopping(patience=10, verbose=True)\n",
        "# Training loop\n",
        "num_epochs = 30\n",
        "for epoch in range(num_epochs):\n",
        "    model.train()\n",
        "    train_loss = 0.0\n",
        "\n",
        "    # Training\n",
        "    for inputs, targets in train_loader:\n",
        "        inputs, targets = inputs.to(device), targets.to(device)\n",
        "        optimizer.zero_grad()\n",
        "        # print(inputs.shape)\n",
        "        outputs = model(inputs)\n",
        "        loss = criterion(outputs, targets,1,0)\n",
        "        loss.backward()\n",
        "        optimizer.step()\n",
        "        train_loss += loss.item() * inputs.size(0)\n",
        "\n",
        "    # Validation\n",
        "    model.eval()\n",
        "    val_loss = 0.0\n",
        "    with torch.no_grad():\n",
        "        for inputs, targets in val_loader:\n",
        "            inputs, targets = inputs.to(device), targets.to(device)\n",
        "            outputs = model(inputs)\n",
        "            loss = criterion(outputs, targets,1,0)\n",
        "            val_loss += loss.item() * inputs.size(0)\n",
        "    # Average losses\n",
        "    train_loss /= len(train_loader.dataset)\n",
        "    val_loss /= len(val_loader.dataset)\n",
        "\n",
        "    # Print epoch statistics\n",
        "    print(f'Epoch [{epoch+1}/{num_epochs}], Train Loss: {train_loss:.4f}, Val Loss: {val_loss:.4f}')\n",
        "\n",
        "    # Call the ModelCheckpoint callback\n",
        "    # checkpointer(model,epoch, train_loss, val_loss)\n",
        "        # Check for early stopping\n",
        "    early_stopper(val_loss)\n",
        "    if early_stopper.early_stop:\n",
        "        print(\"Early stopping\")\n",
        "        break"
      ]
    },
    {
      "cell_type": "code",
      "source": [
        "# checkpointer(model,epoch, train_loss, val_loss)"
      ],
      "metadata": {
        "colab": {
          "base_uri": "https://localhost:8080/"
        },
        "id": "VSngNL0nWiCg",
        "outputId": "acdd615c-c647-4640-a347-6e1e39df9bf8"
      },
      "execution_count": null,
      "outputs": [
        {
          "output_type": "stream",
          "name": "stdout",
          "text": [
            "Checkpoint saved\n"
          ]
        }
      ]
    },
    {
      "cell_type": "code",
      "execution_count": null,
      "metadata": {
        "colab": {
          "base_uri": "https://localhost:8080/"
        },
        "id": "t6rODygYDo1i",
        "outputId": "20e12549-7b9a-4b00-d545-f3c3b9a990df"
      },
      "outputs": [
        {
          "output_type": "stream",
          "name": "stdout",
          "text": [
            "0.03722295646245281 0.10303842276334763\n"
          ]
        }
      ],
      "source": [
        "# current_checkpoint = torch.load(checkpoint_path)\n",
        "# model.load_state_dict(current_checkpoint['model_state_dict'])\n",
        "# model.eval()\n",
        "# print(current_checkpoint['train_loss'],current_checkpoint['val_loss'])"
      ]
    },
    {
      "cell_type": "code",
      "execution_count": null,
      "metadata": {
        "id": "CqMBAVWcLDln"
      },
      "outputs": [],
      "source": [
        "def display_results(image, ground_truth_mask, predicted_mask):\n",
        "    fig, axes = plt.subplots(1, 3, figsize=(15, 5))\n",
        "\n",
        "    # Display input image\n",
        "    axes[0].imshow(np.transpose(image, (1, 2, 0)))\n",
        "    axes[0].set_title('Input Image')\n",
        "\n",
        "    # Display ground truth mask\n",
        "    axes[1].imshow(np.squeeze(ground_truth_mask))\n",
        "    axes[1].set_title('Ground Truth Mask')\n",
        "\n",
        "    # Display predicted mask\n",
        "    axes[2].imshow(np.squeeze(predicted_mask))\n",
        "    axes[2].set_title('Predicted Mask')\n",
        "\n",
        "    plt.show()"
      ]
    },
    {
      "cell_type": "markdown",
      "metadata": {
        "id": "DsDjHWZf2PlR"
      },
      "source": [
        "# Results"
      ]
    },
    {
      "cell_type": "markdown",
      "source": [
        "#### Train Set Load"
      ],
      "metadata": {
        "id": "p_nf5YsfOC2a"
      }
    },
    {
      "cell_type": "code",
      "source": [
        "# dataset = GrainDataset(X_rg, Y_t)\n",
        "rg_val_loader = DataLoader(test_dataset,batch_size=16, shuffle=False)"
      ],
      "metadata": {
        "id": "zC-V-j9IXaCZ"
      },
      "execution_count": null,
      "outputs": []
    },
    {
      "cell_type": "markdown",
      "source": [
        "#### continuous Dice Score\n"
      ],
      "metadata": {
        "id": "w5Uw4c2LHDUV"
      }
    },
    {
      "cell_type": "code",
      "source": [
        "import torch\n",
        "\n",
        "def continuous_dice_coefficient(A, B):\n",
        "    \"\"\"\n",
        "    Calculates the Continuous Dice Coefficient for tensors A and B.\n",
        "\n",
        "    Args:\n",
        "    A (torch.Tensor): Binary ground truth tensor.\n",
        "    B (torch.Tensor): Probabilistic map tensor, values between [0, 1].\n",
        "\n",
        "    Returns:\n",
        "    float: Continuous Dice Coefficient.\n",
        "    \"\"\"\n",
        "    size_of_A_intersect_B = torch.sum(A * B)\n",
        "    size_of_A = torch.sum(A)\n",
        "    size_of_B = torch.sum(B)\n",
        "\n",
        "    if size_of_A_intersect_B > 0:\n",
        "        c = torch.sum(A * B) / torch.sum(A * torch.sign(B))\n",
        "    else:\n",
        "        c = 1.0\n",
        "\n",
        "    cDC = (2 * size_of_A_intersect_B) / (c * size_of_A + size_of_B)\n",
        "    return cDC.item()\n",
        "\n"
      ],
      "metadata": {
        "id": "BhMMnbphOsHz"
      },
      "execution_count": null,
      "outputs": []
    },
    {
      "cell_type": "code",
      "source": [
        "import torch\n",
        "\n",
        "\n",
        "continuous_dice_coefficients = []\n",
        "total_num_samples = test_dataset\n",
        "\n",
        "for images, masks in rg_val_loader:\n",
        "    batch_size = images.size(0)  # Get the actual batch size\n",
        "    # total_num_samples += batch_size\n",
        "\n",
        "    with torch.no_grad():\n",
        "        images = images.to(device)\n",
        "        masks = masks.to(device)\n",
        "\n",
        "        # Forward pass\n",
        "        preds = model(images)\n",
        "\n",
        "        for ind in range(len(preds)):\n",
        "            pred_probs = (preds[ind]).float()\n",
        "            gt_tensor = masks[ind].to(torch.int64)\n",
        "\n",
        "            continuous_dice = continuous_dice_coefficient(gt_tensor,pred_probs)\n",
        "            continuous_dice_coefficients.append(continuous_dice)\n",
        "\n",
        "\n",
        "average_continuous_dice_coefficient = torch.mean(torch.tensor(continuous_dice_coefficients))\n",
        "\n",
        "print(f\"Continuous Dice Score:\")\n",
        "print(f'Average continuous dice coefficient for the data it was trained on: {average_continuous_dice_coefficient}')\n"
      ],
      "metadata": {
        "colab": {
          "base_uri": "https://localhost:8080/"
        },
        "id": "k-d0EhPjHCm9",
        "outputId": "fdb2cfad-3d03-45bf-ce79-48b157690ceb"
      },
      "execution_count": null,
      "outputs": [
        {
          "output_type": "stream",
          "name": "stdout",
          "text": [
            "Continuous Dice Score:\n",
            "Average continuous dice coefficient for the data it was trained on: 0.9499767422676086\n"
          ]
        }
      ]
    },
    {
      "cell_type": "code",
      "source": [
        "import torch\n",
        "import numpy as np\n",
        "import matplotlib.pyplot as plt\n",
        "\n",
        "\n",
        "model.eval()\n",
        "\n",
        "all_preds = []\n",
        "\n",
        "with torch.no_grad():\n",
        "    for images, _ in val_loader:\n",
        "        images = images.to(device)\n",
        "        preds = model(images)\n",
        "        all_preds.extend(preds.flatten().cpu().numpy())  # Flatten and move to CPU\n",
        "\n",
        "all_preds_np = np.array(all_preds)\n",
        "\n",
        "# Plot the histogram\n",
        "plt.hist(all_preds_np, bins=50, density=True)\n",
        "plt.title('Distribution of Predicted Pixel Values')\n",
        "plt.xlabel('Pixel Value')\n",
        "plt.ylabel('Density')\n",
        "plt.show()\n"
      ],
      "metadata": {
        "id": "W3C6CG7HKM3V",
        "colab": {
          "base_uri": "https://localhost:8080/",
          "height": 472
        },
        "outputId": "5b48be00-3b09-497b-94f3-e9466c0404b7"
      },
      "execution_count": null,
      "outputs": [
        {
          "output_type": "display_data",
          "data": {
            "text/plain": [
              "<Figure size 640x480 with 1 Axes>"
            ],
            "image/png": "[encoded data removed]"
          },
          "metadata": {}
        }
      ]
    },
    {
      "cell_type": "markdown",
      "source": [
        "#### torch metrics Dice Score"
      ],
      "metadata": {
        "id": "T3KZ5rB4POjN"
      }
    },
    {
      "cell_type": "markdown",
      "source": [
        "##### installation"
      ],
      "metadata": {
        "id": "ari2KPhFUVtS"
      }
    },
    {
      "cell_type": "code",
      "execution_count": null,
      "metadata": {
        "colab": {
          "base_uri": "https://localhost:8080/"
        },
        "id": "IraOKMDpCH1Q",
        "outputId": "feda2125-5ab7-49db-d805-c97a0dc1d74c"
      },
      "outputs": [
        {
          "output_type": "stream",
          "name": "stdout",
          "text": [
            "Collecting torchmetrics\n",
            "  Downloading torchmetrics-1.3.2-py3-none-any.whl (841 kB)\n",
            "\u001b[2K     \u001b[90m━━━━━━━━━━━━━━━━━━━━━━━━━━━━━━━━━━━━━━━━\u001b[0m \u001b[32m841.5/841.5 kB\u001b[0m \u001b[31m7.7 MB/s\u001b[0m eta \u001b[36m0:00:00\u001b[0m\n",
            "\u001b[?25hRequirement already satisfied: numpy>1.20.0 in /usr/local/lib/python3.10/dist-packages (from torchmetrics) (1.25.2)\n",
            "Requirement already satisfied: packaging>17.1 in /usr/local/lib/python3.10/dist-packages (from torchmetrics) (24.0)\n",
            "Requirement already satisfied: torch>=1.10.0 in /usr/local/lib/python3.10/dist-packages (from torchmetrics) (2.2.1+cu121)\n",
            "Collecting lightning-utilities>=0.8.0 (from torchmetrics)\n",
            "  Downloading lightning_utilities-0.11.2-py3-none-any.whl (26 kB)\n",
            "Requirement already satisfied: setuptools in /usr/local/lib/python3.10/dist-packages (from lightning-utilities>=0.8.0->torchmetrics) (67.7.2)\n",
            "Requirement already satisfied: typing-extensions in /usr/local/lib/python3.10/dist-packages (from lightning-utilities>=0.8.0->torchmetrics) (4.11.0)\n",
            "Requirement already satisfied: filelock in /usr/local/lib/python3.10/dist-packages (from torch>=1.10.0->torchmetrics) (3.13.4)\n",
            "Requirement already satisfied: sympy in /usr/local/lib/python3.10/dist-packages (from torch>=1.10.0->torchmetrics) (1.12)\n",
            "Requirement already satisfied: networkx in /usr/local/lib/python3.10/dist-packages (from torch>=1.10.0->torchmetrics) (3.3)\n",
            "Requirement already satisfied: jinja2 in /usr/local/lib/python3.10/dist-packages (from torch>=1.10.0->torchmetrics) (3.1.3)\n",
            "Requirement already satisfied: fsspec in /usr/local/lib/python3.10/dist-packages (from torch>=1.10.0->torchmetrics) (2023.6.0)\n",
            "Requirement already satisfied: nvidia-cuda-nvrtc-cu12==12.1.105 in /usr/local/lib/python3.10/dist-packages (from torch>=1.10.0->torchmetrics) (12.1.105)\n",
            "Requirement already satisfied: nvidia-cuda-runtime-cu12==12.1.105 in /usr/local/lib/python3.10/dist-packages (from torch>=1.10.0->torchmetrics) (12.1.105)\n",
            "Requirement already satisfied: nvidia-cuda-cupti-cu12==12.1.105 in /usr/local/lib/python3.10/dist-packages (from torch>=1.10.0->torchmetrics) (12.1.105)\n",
            "Requirement already satisfied: nvidia-cudnn-cu12==8.9.2.26 in /usr/local/lib/python3.10/dist-packages (from torch>=1.10.0->torchmetrics) (8.9.2.26)\n",
            "Requirement already satisfied: nvidia-cublas-cu12==12.1.3.1 in /usr/local/lib/python3.10/dist-packages (from torch>=1.10.0->torchmetrics) (12.1.3.1)\n",
            "Requirement already satisfied: nvidia-cufft-cu12==11.0.2.54 in /usr/local/lib/python3.10/dist-packages (from torch>=1.10.0->torchmetrics) (11.0.2.54)\n",
            "Requirement already satisfied: nvidia-curand-cu12==10.3.2.106 in /usr/local/lib/python3.10/dist-packages (from torch>=1.10.0->torchmetrics) (10.3.2.106)\n",
            "Requirement already satisfied: nvidia-cusolver-cu12==11.4.5.107 in /usr/local/lib/python3.10/dist-packages (from torch>=1.10.0->torchmetrics) (11.4.5.107)\n",
            "Requirement already satisfied: nvidia-cusparse-cu12==12.1.0.106 in /usr/local/lib/python3.10/dist-packages (from torch>=1.10.0->torchmetrics) (12.1.0.106)\n",
            "Requirement already satisfied: nvidia-nccl-cu12==2.19.3 in /usr/local/lib/python3.10/dist-packages (from torch>=1.10.0->torchmetrics) (2.19.3)\n",
            "Requirement already satisfied: nvidia-nvtx-cu12==12.1.105 in /usr/local/lib/python3.10/dist-packages (from torch>=1.10.0->torchmetrics) (12.1.105)\n",
            "Requirement already satisfied: triton==2.2.0 in /usr/local/lib/python3.10/dist-packages (from torch>=1.10.0->torchmetrics) (2.2.0)\n",
            "Requirement already satisfied: nvidia-nvjitlink-cu12 in /usr/local/lib/python3.10/dist-packages (from nvidia-cusolver-cu12==11.4.5.107->torch>=1.10.0->torchmetrics) (12.4.127)\n",
            "Requirement already satisfied: MarkupSafe>=2.0 in /usr/local/lib/python3.10/dist-packages (from jinja2->torch>=1.10.0->torchmetrics) (2.1.5)\n",
            "Requirement already satisfied: mpmath>=0.19 in /usr/local/lib/python3.10/dist-packages (from sympy->torch>=1.10.0->torchmetrics) (1.3.0)\n",
            "Installing collected packages: lightning-utilities, torchmetrics\n",
            "Successfully installed lightning-utilities-0.11.2 torchmetrics-1.3.2\n"
          ]
        }
      ],
      "source": [
        "!pip install torchmetrics"
      ]
    },
    {
      "cell_type": "markdown",
      "source": [
        "##### Dice & IoU"
      ],
      "metadata": {
        "id": "citVk0RXUbvR"
      }
    },
    {
      "cell_type": "code",
      "execution_count": null,
      "metadata": {
        "id": "Xf1h1FTTqU23"
      },
      "outputs": [],
      "source": [
        "# dataset = GrainDataset(X_rg, Y_t)\n",
        "# rg_val_loader = DataLoader(dataset,batch_size=16, shuffle=False)\n",
        "\n",
        "from torchmetrics.functional import dice\n",
        "from torchmetrics.functional import jaccard_index\n",
        "def cal(threshold):\n",
        "  total_jaccard_score = 0.0\n",
        "  total_dice_score = 0.0\n",
        "  total_num_samples = 0\n",
        "\n",
        "  for images, masks in rg_val_loader:\n",
        "      batch_size = images.size(0)  # Get the actual batch size\n",
        "      total_num_samples += batch_size\n",
        "\n",
        "      with torch.no_grad():\n",
        "          images = images.to(device)\n",
        "          masks = masks.to(device)\n",
        "\n",
        "        # Forward pass\n",
        "          preds = model(images)\n",
        "\n",
        "          for ind in range(len(preds)):\n",
        "              pred_tensor = (preds[ind] > threshold).float()\n",
        "              gt_tensor = masks[ind].to(torch.int64)  # Convert mask tensor to integer tensor\n",
        "\n",
        "              dice_score = dice(pred_tensor, gt_tensor)\n",
        "              total_dice_score += dice_score.item()\n",
        "\n",
        "              jaccard_score = jaccard_index(pred_tensor, gt_tensor, task='binary')\n",
        "              total_jaccard_score += jaccard_score.item()\n",
        "\n",
        "  average_dice_score = total_dice_score / total_num_samples\n",
        "  average_jaccard_score = total_jaccard_score / total_num_samples\n",
        "\n",
        "  print(f\"Threshold: {threshold}\")\n",
        "  print(f\"Total Number samples: {total_num_samples}\")\n",
        "  print(f\"Average Dice Score: {average_dice_score}\")\n",
        "  print(f\"Average Jaccard Index: {average_jaccard_score}\")"
      ]
    },
    {
      "cell_type": "code",
      "source": [
        "for i in np.arange(0.0, 1.1, 0.1):\n",
        "    cal(i)"
      ],
      "metadata": {
        "colab": {
          "base_uri": "https://localhost:8080/"
        },
        "id": "NsNmDQ74rQ73",
        "outputId": "be89c47f-c6f2-43cc-d59f-cb4621cd9043"
      },
      "execution_count": null,
      "outputs": [
        {
          "output_type": "stream",
          "name": "stdout",
          "text": [
            "Threshold: 0.0\n",
            "Total Number samples: 48\n",
            "Average Dice Score: 0.8642947599291801\n",
            "Average Jaccard Index: 0.7613538106282552\n",
            "Threshold: 0.1\n",
            "Total Number samples: 48\n",
            "Average Dice Score: 0.9064387281735738\n",
            "Average Jaccard Index: 0.8293633162975311\n",
            "Threshold: 0.2\n",
            "Total Number samples: 48\n",
            "Average Dice Score: 0.9066165251036485\n",
            "Average Jaccard Index: 0.8296740315854549\n",
            "Threshold: 0.30000000000000004\n",
            "Total Number samples: 48\n",
            "Average Dice Score: 0.9062554302314917\n",
            "Average Jaccard Index: 0.8290743331114451\n",
            "Threshold: 0.4\n",
            "Total Number samples: 48\n",
            "Average Dice Score: 0.9059338308870792\n",
            "Average Jaccard Index: 0.8285410292446613\n",
            "Threshold: 0.5\n",
            "Total Number samples: 48\n",
            "Average Dice Score: 0.9053793487449487\n",
            "Average Jaccard Index: 0.8276187814772129\n",
            "Threshold: 0.6000000000000001\n",
            "Total Number samples: 48\n",
            "Average Dice Score: 0.9047468528151512\n",
            "Average Jaccard Index: 0.8265672884881496\n",
            "Threshold: 0.7000000000000001\n",
            "Total Number samples: 48\n",
            "Average Dice Score: 0.9038530041774114\n",
            "Average Jaccard Index: 0.8250807883838812\n",
            "Threshold: 0.8\n",
            "Total Number samples: 48\n",
            "Average Dice Score: 0.9024019042650858\n",
            "Average Jaccard Index: 0.8226787808040777\n",
            "Threshold: 0.9\n",
            "Total Number samples: 48\n",
            "Average Dice Score: 0.8995369710028172\n",
            "Average Jaccard Index: 0.8179436512291431\n",
            "Threshold: 1.0\n",
            "Total Number samples: 48\n",
            "Average Dice Score: 0.0\n",
            "Average Jaccard Index: 0.0\n"
          ]
        }
      ]
    }
  ],
  "metadata": {
    "accelerator": "GPU",
    "colab": {
      "collapsed_sections": [
        "dRB5U53vS6NK",
        "ihXq1aKcZuVQ",
        "7FVZXwpEBf4H"
      ],
      "gpuType": "T4",
      "provenance": []
    },
    "kernelspec": {
      "display_name": "Python 3",
      "name": "python3"
    },
    "language_info": {
      "name": "python"
    }
  },
  "nbformat": 4,
  "nbformat_minor": 0
}