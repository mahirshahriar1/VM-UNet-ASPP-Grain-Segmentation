{
  "cells": [
    {
      "cell_type": "code",
      "execution_count": 1,
      "metadata": {
        "colab": {
          "base_uri": "https://localhost:8080/"
        },
        "id": "sgg39RIwQO1T",
        "outputId": "3eeece17-b4de-49ad-dfca-acca442fa2cb"
      },
      "outputs": [
        {
          "output_type": "stream",
          "name": "stdout",
          "text": [
            "Mounted at /content/drive\n"
          ]
        }
      ],
      "source": [
        "from google.colab import drive\n",
        "drive.mount('/content/drive', force_remount = False)"
      ]
    },
    {
      "cell_type": "code",
      "execution_count": 2,
      "metadata": {
        "id": "dgg6PpJVna2x"
      },
      "outputs": [],
      "source": [
        "# extract data from zip file\n",
        "import zipfile\n",
        "import os\n",
        "\n",
        "# Define the path to your zip file and the directory where you want to extract it\n",
        "zip_file_path = '/content/drive/MyDrive/465 Project/new_archive.zip'\n",
        "extract_folder_path = '/content/data'\n",
        "\n",
        "os.makedirs(extract_folder_path, exist_ok=True)\n",
        "\n",
        "with zipfile.ZipFile(zip_file_path, 'r') as zip_ref:\n",
        "    zip_ref.extractall(extract_folder_path)"
      ]
    },
    {
      "cell_type": "code",
      "execution_count": 3,
      "metadata": {
        "id": "xz7G45_MVilc"
      },
      "outputs": [],
      "source": [
        "# lib imports\n",
        "import torch\n",
        "import os\n",
        "import numpy as np\n",
        "import pandas as pd\n",
        "import random\n",
        "import cv2\n",
        "\n",
        "from tqdm import tqdm\n",
        "\n",
        "from skimage.io import imread, imshow\n",
        "from skimage.transform import resize\n",
        "import matplotlib.pyplot as plt"
      ]
    },
    {
      "cell_type": "code",
      "execution_count": 4,
      "metadata": {
        "id": "TQf8GJC3WxBu"
      },
      "outputs": [],
      "source": [
        "IMG_WIDTH = 128\n",
        "IMG_HEIGHT = 128\n",
        "IMG_CHANNELS = 3\n",
        "IMG_COUNT = 480"
      ]
    },
    {
      "cell_type": "code",
      "execution_count": 5,
      "metadata": {
        "id": "KB9yUggrZ5u5"
      },
      "outputs": [],
      "source": [
        "# set this between [1, 10] for differently composed datasets\n",
        "# reference: https://arxiv.org/pdf/2307.05911.pdf\n",
        "TRAINING_SET = 1"
      ]
    },
    {
      "cell_type": "markdown",
      "metadata": {
        "id": "dRB5U53vS6NK"
      },
      "source": [
        "# 10 Different training sets as mentioned in original paper"
      ]
    },
    {
      "cell_type": "code",
      "execution_count": 6,
      "metadata": {
        "colab": {
          "base_uri": "https://localhost:8080/"
        },
        "id": "vBIq7T3LOx9W",
        "outputId": "c0bcb3f5-b340-426e-d2d2-dfe834ccbf2f",
        "cellView": "form"
      },
      "outputs": [
        {
          "output_type": "stream",
          "name": "stdout",
          "text": [
            "Selected Training Set 1\n",
            "Manually Segmented - 100% (480)\n",
            "image count : 480\n"
          ]
        }
      ],
      "source": [
        "#@title This cell is for composing the datasets as mentioned in the original paper\n",
        "\n",
        "# Set the target image size\n",
        "target_size = (IMG_WIDTH, IMG_HEIGHT)\n",
        "\n",
        "# Create empty lists to hold the images and masks\n",
        "images = []\n",
        "masks = []\n",
        "\n",
        "image_dir_ms = '/content/data/GRAIN DATA SET/RG'\n",
        "mask_dir_ms = '/content/data/GRAIN DATA SET/RGMask'\n",
        "# vt stands for voronoi tessellation\n",
        "image_dir_vt = '/content/data/GRAIN DATA SET/AG'\n",
        "mask_dir_vt = '/content/data/GRAIN DATA SET/AGMask'\n",
        "\n",
        "image_dir_hed = '/content/data/GRAIN DATA SET/HED_PRE'\n",
        "mask_dir_hed = '/content/data/GRAIN DATA SET/RGMask'\n",
        "\n",
        "image_dir_grad = '/content/data/GRAIN DATA SET/GRAD_PRE'\n",
        "mask_dir_grad = '/content/data/GRAIN DATA SET/RGMask'\n",
        "\n",
        "image_dir_thresh = '/content/data/GRAIN DATA SET/THRESH_PRE'\n",
        "mask_dir_thresh = '/content/data/GRAIN DATA SET/RGMask'\n",
        "\n",
        "if TRAINING_SET==1:\n",
        "    # 100% Manually Segmented\n",
        "    print(\"Selected Training Set 1\")\n",
        "    print(\"Manually Segmented - 100% (480)\")\n",
        "    # Iterate through the directories and load the images and masks\n",
        "    for file in sorted(os.listdir(image_dir_ms)):\n",
        "        # Load the image and resize to the target size\n",
        "        img = cv2.imread(os.path.join(image_dir_ms, file))\n",
        "        img = cv2.resize(img, target_size)\n",
        "\n",
        "        # Append the resized image to the list of images\n",
        "        images.append(img)\n",
        "\n",
        "    for file in sorted(os.listdir(mask_dir_ms)):\n",
        "\n",
        "        # Load the corresponding mask and resize to the target size\n",
        "        mask = cv2.imread(os.path.join(mask_dir_ms, file))\n",
        "        mask = cv2.resize(mask, target_size)\n",
        "\n",
        "        # Append the resized mask to the list of masks\n",
        "        masks.append(mask)\n",
        "\n",
        "elif TRAINING_SET==2:\n",
        "    # 25% Artificial, 75% Manually Segmented (160, 480)\n",
        "    print(\"Selected Training Set 2\")\n",
        "    print(\"Voronoi Tessellation - 25% (160)\")\n",
        "    print(\"Manually Segmented - 75% (480)\")\n",
        "    # Iterate through the directories and load the images and masks\n",
        "    for file in sorted(os.listdir(image_dir_ms)):\n",
        "        # Load the image and resize to the target size\n",
        "        img = cv2.imread(os.path.join(image_dir_ms, file))\n",
        "        img = cv2.resize(img, target_size)\n",
        "\n",
        "        # Append the resized image to the list of images\n",
        "        images.append(img)\n",
        "\n",
        "    for file in sorted(os.listdir(mask_dir_ms)):\n",
        "\n",
        "        # Load the corresponding mask and resize to the target size\n",
        "        mask = cv2.imread(os.path.join(mask_dir_ms, file))\n",
        "        mask = cv2.resize(mask, target_size)\n",
        "\n",
        "        # Append the resized mask to the list of masks\n",
        "        masks.append(mask)\n",
        "\n",
        "    cnt = 0\n",
        "    # Iterate through the directories and load the images and masks\n",
        "    for file in sorted(os.listdir(image_dir_vt)):\n",
        "        if cnt==160:\n",
        "            break\n",
        "        # Load the image and resize to the target size\n",
        "        img = cv2.imread(os.path.join(image_dir_vt, file))\n",
        "        img = cv2.resize(img, target_size)\n",
        "\n",
        "        # Append the resized image to the list of images\n",
        "        images.append(img)\n",
        "        cnt+=1\n",
        "\n",
        "    cnt=0\n",
        "    for file in sorted(os.listdir(mask_dir_vt)):\n",
        "        if cnt==160:\n",
        "            break\n",
        "        # Load the corresponding mask and resize to the target size\n",
        "        mask = cv2.imread(os.path.join(mask_dir_vt, file))\n",
        "        mask = cv2.resize(mask, target_size)\n",
        "\n",
        "        # Append the resized mask to the list of masks\n",
        "        masks.append(mask)\n",
        "        cnt+=1\n",
        "\n",
        "elif TRAINING_SET==3:\n",
        "    # 50% Artificial, 50% Manually Segmented (480, 480)\n",
        "    print(\"Selected Training Set 3\")\n",
        "    print(\"Voronoi Tessellation - 50% (480)\")\n",
        "    print(\"Manually Segmented - 50% (480)\")\n",
        "    # Iterate through the directories and load the images and masks\n",
        "    for file in sorted(os.listdir(image_dir_ms)):\n",
        "        # Load the image and resize to the target size\n",
        "        img = cv2.imread(os.path.join(image_dir_ms, file))\n",
        "        img = cv2.resize(img, target_size)\n",
        "\n",
        "        # Append the resized image to the list of images\n",
        "        images.append(img)\n",
        "\n",
        "    for file in sorted(os.listdir(mask_dir_ms)):\n",
        "\n",
        "        # Load the corresponding mask and resize to the target size\n",
        "        mask = cv2.imread(os.path.join(mask_dir_ms, file))\n",
        "        mask = cv2.resize(mask, target_size)\n",
        "\n",
        "        # Append the resized mask to the list of masks\n",
        "        masks.append(mask)\n",
        "\n",
        "    cnt = 0\n",
        "    # Iterate through the directories and load the images and masks\n",
        "    for file in sorted(os.listdir(image_dir_vt)):\n",
        "        if cnt==480:\n",
        "            break\n",
        "        # Load the image and resize to the target size\n",
        "        img = cv2.imread(os.path.join(image_dir_vt, file))\n",
        "        img = cv2.resize(img, target_size)\n",
        "\n",
        "        # Append the resized image to the list of images\n",
        "        images.append(img)\n",
        "        cnt+=1\n",
        "\n",
        "    cnt=0\n",
        "    for file in sorted(os.listdir(mask_dir_vt)):\n",
        "        if cnt==480:\n",
        "            break\n",
        "        # Load the corresponding mask and resize to the target size\n",
        "        mask = cv2.imread(os.path.join(mask_dir_vt, file))\n",
        "        mask = cv2.resize(mask, target_size)\n",
        "\n",
        "        # Append the resized mask to the list of masks\n",
        "        masks.append(mask)\n",
        "        cnt+=1\n",
        "\n",
        "elif TRAINING_SET==4:\n",
        "    # 75% Artificial, 25% Manually Segmented (800, 266)\n",
        "    print(\"Selected Training Set 4\")\n",
        "    print(\"Voronoi Tessellation - 75% (800)\")\n",
        "    print(\"Manually Segmented - 25% (266)\")\n",
        "    cnt = 0\n",
        "    # Iterate through the directories and load the images and masks\n",
        "    for file in sorted(os.listdir(image_dir_ms)):\n",
        "        if cnt==266:\n",
        "            break\n",
        "        # Load the image and resize to the target size\n",
        "        img = cv2.imread(os.path.join(image_dir_ms, file))\n",
        "        img = cv2.resize(img, target_size)\n",
        "\n",
        "        # Append the resized image to the list of images\n",
        "        images.append(img)\n",
        "        cnt+=1\n",
        "\n",
        "    cnt=0\n",
        "    for file in sorted(os.listdir(mask_dir_ms)):\n",
        "        if cnt==266:\n",
        "            break\n",
        "        # Load the corresponding mask and resize to the target size\n",
        "        mask = cv2.imread(os.path.join(mask_dir_ms, file))\n",
        "        mask = cv2.resize(mask, target_size)\n",
        "\n",
        "        # Append the resized mask to the list of masks\n",
        "        masks.append(mask)\n",
        "        cnt+=1\n",
        "\n",
        "    # Iterate through the directories and load the images and masks\n",
        "    for file in sorted(os.listdir(image_dir_vt)):\n",
        "        # Load the image and resize to the target size\n",
        "        img = cv2.imread(os.path.join(image_dir_vt, file))\n",
        "        img = cv2.resize(img, target_size)\n",
        "\n",
        "        # Append the resized image to the list of images\n",
        "        images.append(img)\n",
        "\n",
        "    for file in sorted(os.listdir(mask_dir_vt)):\n",
        "\n",
        "        # Load the corresponding mask and resize to the target size\n",
        "        mask = cv2.imread(os.path.join(mask_dir_vt, file))\n",
        "        mask = cv2.resize(mask, target_size)\n",
        "\n",
        "        # Append the resized mask to the list of masks\n",
        "        masks.append(mask)\n",
        "\n",
        "elif TRAINING_SET==5:\n",
        "    # 100% Artificial (800)\n",
        "    print(\"Selected Training Set 5\")\n",
        "    print(\"Voronoi Tessellation - 100% (800)\")\n",
        "    # Iterate through the directories and load the images and masks\n",
        "    for file in sorted(os.listdir(image_dir_vt)):\n",
        "        # Load the image and resize to the target size\n",
        "        img = cv2.imread(os.path.join(image_dir_vt, file))\n",
        "        img = cv2.resize(img, target_size)\n",
        "\n",
        "        # Append the resized image to the list of images\n",
        "        images.append(img)\n",
        "\n",
        "    for file in sorted(os.listdir(mask_dir_vt)):\n",
        "\n",
        "        # Load the corresponding mask and resize to the target size\n",
        "        mask = cv2.imread(os.path.join(mask_dir_vt, file))\n",
        "        mask = cv2.resize(mask, target_size)\n",
        "\n",
        "        # Append the resized mask to the list of masks\n",
        "        masks.append(mask)\n",
        "\n",
        "elif TRAINING_SET==6:\n",
        "    # 50% HED Preprocessed, 50% Manually Segmented (240, 240)\n",
        "    print(\"Selected Training Set 6\")\n",
        "    print(\"HED Preprocessed - 50% (240)\")\n",
        "    print(\"Manually Segmented - 50% (240)\")\n",
        "    cnt = 0\n",
        "    # Iterate through the directories and load the images and masks\n",
        "    for file in sorted(os.listdir(image_dir_ms)):\n",
        "        if cnt==240:\n",
        "            break\n",
        "        # Load the image and resize to the target size\n",
        "        img = cv2.imread(os.path.join(image_dir_ms, file))\n",
        "        img = cv2.resize(img, target_size)\n",
        "\n",
        "        # Append the resized image to the list of images\n",
        "        images.append(img)\n",
        "        cnt+=1\n",
        "\n",
        "    cnt=0\n",
        "    for file in sorted(os.listdir(mask_dir_ms)):\n",
        "        if cnt==240:\n",
        "            break\n",
        "        # Load the corresponding mask and resize to the target size\n",
        "        mask = cv2.imread(os.path.join(mask_dir_ms, file))\n",
        "        mask = cv2.resize(mask, target_size)\n",
        "\n",
        "        # Append the resized mask to the list of masks\n",
        "        masks.append(mask)\n",
        "        cnt+=1\n",
        "\n",
        "    cnt = 0\n",
        "    # Iterate through the directories and load the images and masks\n",
        "    for file in sorted(os.listdir(image_dir_hed)):\n",
        "        if cnt<240:\n",
        "            cnt+=1\n",
        "            continue\n",
        "        if cnt==480:\n",
        "            break\n",
        "        # Load the image and resize to the target size\n",
        "        img = cv2.imread(os.path.join(image_dir_hed, file))\n",
        "        img = cv2.resize(img, target_size)\n",
        "\n",
        "        # Append the resized image to the list of images\n",
        "        images.append(img)\n",
        "        cnt+=1\n",
        "\n",
        "    cnt=0\n",
        "    for file in sorted(os.listdir(mask_dir_hed)):\n",
        "        if cnt<240:\n",
        "            cnt+=1\n",
        "            continue\n",
        "        if cnt==480:\n",
        "            break\n",
        "        # Load the corresponding mask and resize to the target size\n",
        "        mask = cv2.imread(os.path.join(mask_dir_hed, file))\n",
        "        mask = cv2.resize(mask, target_size)\n",
        "\n",
        "        # Append the resized mask to the list of masks\n",
        "        masks.append(mask)\n",
        "        cnt+=1\n",
        "\n",
        "elif TRAINING_SET==7:\n",
        "    # 50% Manually Segmented, 25% Artificial, 25% HED Preprocessed(240, 120, 120)\n",
        "    print(\"Selected Training Set 7\")\n",
        "    print(\"Manually Segmented - 50% (240)\")\n",
        "    print(\"Voronoi Tessellation - 25% (120)\")\n",
        "    print(\"HED Preprocessed - 25% (120)\")\n",
        "    # Iterate through the directories and load the images and masks\n",
        "    cnt=0\n",
        "    for file in sorted(os.listdir(image_dir_ms)):\n",
        "        if cnt==240:\n",
        "            break\n",
        "        # Load the image and resize to the target size\n",
        "        img = cv2.imread(os.path.join(image_dir_ms, file))\n",
        "        img = cv2.resize(img, target_size)\n",
        "\n",
        "        # Append the resized image to the list of images\n",
        "        images.append(img)\n",
        "        cnt+=1\n",
        "\n",
        "    cnt=0\n",
        "    for file in sorted(os.listdir(mask_dir_ms)):\n",
        "        if cnt==240:\n",
        "            break\n",
        "        # Load the corresponding mask and resize to the target size\n",
        "        mask = cv2.imread(os.path.join(mask_dir_ms, file))\n",
        "        mask = cv2.resize(mask, target_size)\n",
        "\n",
        "        # Append the resized mask to the list of masks\n",
        "        masks.append(mask)\n",
        "        cnt+=1\n",
        "\n",
        "\n",
        "    cnt = 0\n",
        "    # Iterate through the directories and load the images and masks\n",
        "    for file in sorted(os.listdir(image_dir_vt)):\n",
        "        if cnt==120:\n",
        "            break\n",
        "        # Load the image and resize to the target size\n",
        "        img = cv2.imread(os.path.join(image_dir_vt, file))\n",
        "        img = cv2.resize(img, target_size)\n",
        "\n",
        "        # Append the resized image to the list of images\n",
        "        images.append(img)\n",
        "        cnt+=1\n",
        "\n",
        "    cnt=0\n",
        "    for file in sorted(os.listdir(mask_dir_vt)):\n",
        "        if cnt==120:\n",
        "            break\n",
        "        # Load the corresponding mask and resize to the target size\n",
        "        mask = cv2.imread(os.path.join(mask_dir_vt, file))\n",
        "        mask = cv2.resize(mask, target_size)\n",
        "\n",
        "        # Append the resized mask to the list of masks\n",
        "        masks.append(mask)\n",
        "        cnt+=1\n",
        "\n",
        "\n",
        "    cnt = 0\n",
        "    # Iterate through the directories and load the images and masks\n",
        "    for file in sorted(os.listdir(image_dir_hed)):\n",
        "        if cnt<240:\n",
        "            cnt+=1\n",
        "            continue\n",
        "        if cnt==360:\n",
        "            break\n",
        "        # Load the image and resize to the target size\n",
        "        img = cv2.imread(os.path.join(image_dir_hed, file))\n",
        "        img = cv2.resize(img, target_size)\n",
        "\n",
        "        # Append the resized image to the list of images\n",
        "        images.append(img)\n",
        "        cnt+=1\n",
        "\n",
        "    cnt=0\n",
        "    for file in sorted(os.listdir(mask_dir_hed)):\n",
        "        if cnt<240:\n",
        "            cnt+=1\n",
        "            continue\n",
        "        if cnt==360:\n",
        "            break\n",
        "        # Load the corresponding mask and resize to the target size\n",
        "        mask = cv2.imread(os.path.join(mask_dir_hed, file))\n",
        "        mask = cv2.resize(mask, target_size)\n",
        "\n",
        "        # Append the resized mask to the list of masks\n",
        "        masks.append(mask)\n",
        "        cnt+=1\n",
        "\n",
        "\n",
        "elif TRAINING_SET==8:\n",
        "    # 50% Manually Segmented, 25% Artificial, 25% GRAD Preprocessed(240, 120, 120)\n",
        "    print(\"Selected Training Set 8\")\n",
        "    print(\"Manually Segmented - 50% (240)\")\n",
        "    print(\"Voronoi Tessellation - 25% (120)\")\n",
        "    print(\"GRAD Preprocessed - 25% (120)\")\n",
        "    # Iterate through the directories and load the images and masks\n",
        "    cnt=0\n",
        "    for file in sorted(os.listdir(image_dir_ms)):\n",
        "        if cnt==240:\n",
        "            break\n",
        "        # Load the image and resize to the target size\n",
        "        img = cv2.imread(os.path.join(image_dir_ms, file))\n",
        "        img = cv2.resize(img, target_size)\n",
        "\n",
        "        # Append the resized image to the list of images\n",
        "        images.append(img)\n",
        "        cnt+=1\n",
        "\n",
        "    cnt=0\n",
        "    for file in sorted(os.listdir(mask_dir_ms)):\n",
        "        if cnt==240:\n",
        "            break\n",
        "        # Load the corresponding mask and resize to the target size\n",
        "        mask = cv2.imread(os.path.join(mask_dir_ms, file))\n",
        "        mask = cv2.resize(mask, target_size)\n",
        "\n",
        "        # Append the resized mask to the list of masks\n",
        "        masks.append(mask)\n",
        "        cnt+=1\n",
        "\n",
        "\n",
        "    cnt = 0\n",
        "    # Iterate through the directories and load the images and masks\n",
        "    for file in sorted(os.listdir(image_dir_vt)):\n",
        "        if cnt==120:\n",
        "            break\n",
        "        # Load the image and resize to the target size\n",
        "        img = cv2.imread(os.path.join(image_dir_vt, file))\n",
        "        img = cv2.resize(img, target_size)\n",
        "\n",
        "        # Append the resized image to the list of images\n",
        "        images.append(img)\n",
        "        cnt+=1\n",
        "\n",
        "    cnt=0\n",
        "    for file in sorted(os.listdir(mask_dir_vt)):\n",
        "        if cnt==120:\n",
        "            break\n",
        "        # Load the corresponding mask and resize to the target size\n",
        "        mask = cv2.imread(os.path.join(mask_dir_vt, file))\n",
        "        mask = cv2.resize(mask, target_size)\n",
        "\n",
        "        # Append the resized mask to the list of masks\n",
        "        masks.append(mask)\n",
        "        cnt+=1\n",
        "\n",
        "\n",
        "    cnt = 0\n",
        "    # Iterate through the directories and load the images and masks\n",
        "    for file in sorted(os.listdir(image_dir_grad)):\n",
        "        if cnt<240:\n",
        "            cnt+=1\n",
        "            continue\n",
        "        if cnt==360:\n",
        "            break\n",
        "        # Load the image and resize to the target size\n",
        "        img = cv2.imread(os.path.join(image_dir_grad, file))\n",
        "        img = cv2.resize(img, target_size)\n",
        "\n",
        "        # Append the resized image to the list of images\n",
        "        images.append(img)\n",
        "        cnt+=1\n",
        "\n",
        "    cnt=0\n",
        "    for file in sorted(os.listdir(mask_dir_grad)):\n",
        "        if cnt<240:\n",
        "            cnt+=1\n",
        "            continue\n",
        "        if cnt==360:\n",
        "            break\n",
        "        # Load the corresponding mask and resize to the target size\n",
        "        mask = cv2.imread(os.path.join(mask_dir_grad, file))\n",
        "        mask = cv2.resize(mask, target_size)\n",
        "\n",
        "        # Append the resized mask to the list of masks\n",
        "        masks.append(mask)\n",
        "        cnt+=1\n",
        "\n",
        "elif TRAINING_SET==9:\n",
        "    # 50% Manually Segmented, 25% Artificial, 25% THRESHOLD Preprocessed(240, 120, 120)\n",
        "    print(\"Selected Training Set 9\")\n",
        "    print(\"Manually Segmented - 50% (240)\")\n",
        "    print(\"Voronoi Tessellation - 25% (120)\")\n",
        "    print(\"THRESHOLD Preprocessed - 25% (120)\")\n",
        "    # Iterate through the directories and load the images and masks\n",
        "    cnt=0\n",
        "    for file in sorted(os.listdir(image_dir_ms)):\n",
        "        if cnt==240:\n",
        "            break\n",
        "        # Load the image and resize to the target size\n",
        "        img = cv2.imread(os.path.join(image_dir_ms, file))\n",
        "        img = cv2.resize(img, target_size)\n",
        "\n",
        "        # Append the resized image to the list of images\n",
        "        images.append(img)\n",
        "        cnt+=1\n",
        "\n",
        "    cnt=0\n",
        "    for file in sorted(os.listdir(mask_dir_ms)):\n",
        "        if cnt==240:\n",
        "            break\n",
        "        # Load the corresponding mask and resize to the target size\n",
        "        mask = cv2.imread(os.path.join(mask_dir_ms, file))\n",
        "        mask = cv2.resize(mask, target_size)\n",
        "\n",
        "        # Append the resized mask to the list of masks\n",
        "        masks.append(mask)\n",
        "        cnt+=1\n",
        "\n",
        "\n",
        "    cnt = 0\n",
        "    # Iterate through the directories and load the images and masks\n",
        "    for file in sorted(os.listdir(image_dir_vt)):\n",
        "        if cnt==120:\n",
        "            break\n",
        "        # Load the image and resize to the target size\n",
        "        img = cv2.imread(os.path.join(image_dir_vt, file))\n",
        "        img = cv2.resize(img, target_size)\n",
        "\n",
        "        # Append the resized image to the list of images\n",
        "        images.append(img)\n",
        "        cnt+=1\n",
        "\n",
        "    cnt=0\n",
        "    for file in sorted(os.listdir(mask_dir_vt)):\n",
        "        if cnt==120:\n",
        "            break\n",
        "        # Load the corresponding mask and resize to the target size\n",
        "        mask = cv2.imread(os.path.join(mask_dir_vt, file))\n",
        "        mask = cv2.resize(mask, target_size)\n",
        "\n",
        "        # Append the resized mask to the list of masks\n",
        "        masks.append(mask)\n",
        "        cnt+=1\n",
        "\n",
        "\n",
        "    cnt = 0\n",
        "    # Iterate through the directories and load the images and masks\n",
        "    for file in sorted(os.listdir(image_dir_thresh)):\n",
        "        if cnt<240:\n",
        "            cnt+=1\n",
        "            continue\n",
        "        if cnt==360:\n",
        "            break\n",
        "        # Load the image and resize to the target size\n",
        "        img = cv2.imread(os.path.join(image_dir_thresh, file))\n",
        "        img = cv2.resize(img, target_size)\n",
        "\n",
        "        # Append the resized image to the list of images\n",
        "        images.append(img)\n",
        "        cnt+=1\n",
        "\n",
        "    cnt=0\n",
        "    for file in sorted(os.listdir(mask_dir_thresh)):\n",
        "        if cnt<240:\n",
        "            cnt+=1\n",
        "            continue\n",
        "        if cnt==360:\n",
        "            break\n",
        "        # Load the corresponding mask and resize to the target size\n",
        "        mask = cv2.imread(os.path.join(mask_dir_thresh, file))\n",
        "        mask = cv2.resize(mask, target_size)\n",
        "\n",
        "        # Append the resized mask to the list of masks\n",
        "        masks.append(mask)\n",
        "        cnt+=1\n",
        "\n",
        "elif TRAINING_SET==10:\n",
        "    # 50% Manually Segmented, 16.67% HED Prep., 16.67% GRAD Prep.,16.67% THRESHOLD Prep.(240, 80, 80, 80)\n",
        "    print(\"Selected Training Set 10\")\n",
        "    print(\"Manually Segmented - 50% (240)\")\n",
        "    print(\"HED Preprocessed - 16.67% (80)\")\n",
        "    print(\"GRAD Preprocessed - 16.67% (80)\")\n",
        "    print(\"THRESHOLD Preprocessed - 16.67% (80)\")\n",
        "    # Iterate through the directories and load the images and masks\n",
        "    cnt=0\n",
        "    for file in sorted(os.listdir(image_dir_ms)):\n",
        "        if cnt==240:\n",
        "            break\n",
        "        # Load the image and resize to the target size\n",
        "        img = cv2.imread(os.path.join(image_dir_ms, file))\n",
        "        img = cv2.resize(img, target_size)\n",
        "\n",
        "        # Append the resized image to the list of images\n",
        "        images.append(img)\n",
        "        cnt+=1\n",
        "\n",
        "    cnt=0\n",
        "    for file in sorted(os.listdir(mask_dir_ms)):\n",
        "        if cnt==240:\n",
        "            break\n",
        "        # Load the corresponding mask and resize to the target size\n",
        "        mask = cv2.imread(os.path.join(mask_dir_ms, file))\n",
        "        mask = cv2.resize(mask, target_size)\n",
        "\n",
        "        # Append the resized mask to the list of masks\n",
        "        masks.append(mask)\n",
        "        cnt+=1\n",
        "\n",
        "    cnt = 0\n",
        "    # Iterate through the directories and load the images and masks\n",
        "    for file in sorted(os.listdir(image_dir_hed)):\n",
        "        if cnt<240:\n",
        "            cnt+=1\n",
        "            continue\n",
        "        if cnt==320:\n",
        "            break\n",
        "        # Load the image and resize to the target size\n",
        "        img = cv2.imread(os.path.join(image_dir_hed, file))\n",
        "        img = cv2.resize(img, target_size)\n",
        "\n",
        "        # Append the resized image to the list of images\n",
        "        images.append(img)\n",
        "        cnt+=1\n",
        "\n",
        "    cnt=0\n",
        "    for file in sorted(os.listdir(mask_dir_hed)):\n",
        "        if cnt<240:\n",
        "            cnt+=1\n",
        "            continue\n",
        "        if cnt==320:\n",
        "            break\n",
        "        # Load the corresponding mask and resize to the target size\n",
        "        mask = cv2.imread(os.path.join(mask_dir_hed, file))\n",
        "        mask = cv2.resize(mask, target_size)\n",
        "\n",
        "        # Append the resized mask to the list of masks\n",
        "        masks.append(mask)\n",
        "        cnt+=1\n",
        "\n",
        "    cnt = 0\n",
        "    # Iterate through the directories and load the images and masks\n",
        "    for file in sorted(os.listdir(image_dir_grad)):\n",
        "        if cnt<320:\n",
        "            cnt+=1\n",
        "            continue\n",
        "        if cnt==400:\n",
        "            break\n",
        "        # Load the image and resize to the target size\n",
        "        img = cv2.imread(os.path.join(image_dir_grad, file))\n",
        "        img = cv2.resize(img, target_size)\n",
        "\n",
        "        # Append the resized image to the list of images\n",
        "        images.append(img)\n",
        "        cnt+=1\n",
        "\n",
        "    cnt=0\n",
        "    for file in sorted(os.listdir(mask_dir_grad)):\n",
        "        if cnt<320:\n",
        "            cnt+=1\n",
        "            continue\n",
        "        if cnt==400:\n",
        "            break\n",
        "        # Load the corresponding mask and resize to the target size\n",
        "        mask = cv2.imread(os.path.join(mask_dir_grad, file))\n",
        "        mask = cv2.resize(mask, target_size)\n",
        "\n",
        "        # Append the resized mask to the list of masks\n",
        "        masks.append(mask)\n",
        "        cnt+=1\n",
        "\n",
        "    cnt = 0\n",
        "    # Iterate through the directories and load the images and masks\n",
        "    for file in sorted(os.listdir(image_dir_thresh)):\n",
        "        if cnt<400:\n",
        "            cnt+=1\n",
        "            continue\n",
        "        if cnt==480:\n",
        "            break\n",
        "        # Load the image and resize to the target size\n",
        "        img = cv2.imread(os.path.join(image_dir_thresh, file))\n",
        "        img = cv2.resize(img, target_size)\n",
        "\n",
        "        # Append the resized image to the list of images\n",
        "        images.append(img)\n",
        "        cnt+=1\n",
        "\n",
        "    cnt=0\n",
        "    for file in sorted(os.listdir(mask_dir_thresh)):\n",
        "        if cnt<400:\n",
        "            cnt+=1\n",
        "            continue\n",
        "        if cnt==480:\n",
        "            break\n",
        "        # Load the corresponding mask and resize to the target size\n",
        "        mask = cv2.imread(os.path.join(mask_dir_thresh, file))\n",
        "        mask = cv2.resize(mask, target_size)\n",
        "\n",
        "        # Append the resized mask to the list of masks\n",
        "        masks.append(mask)\n",
        "        cnt+=1\n",
        "\n",
        "\n",
        "\n",
        "IMG_COUNT = len(images)\n",
        "print(f\"image count : {IMG_COUNT}\")"
      ]
    },
    {
      "cell_type": "code",
      "execution_count": 7,
      "metadata": {
        "id": "mGhwVJFSW1Ug"
      },
      "outputs": [],
      "source": [
        "# # Set the directories containing the images and masks\n",
        "# image_dir = '/content/drive/MyDrive/465 Project/ArtificialDataset/GRAIN DATA SET/AG'\n",
        "# mask_dir = '/content/drive/MyDrive/465 Project/ArtificialDataset/GRAIN DATA SET/AGMask'\n",
        "\n",
        "# # Set the target image size\n",
        "# target_size = (IMG_WIDTH, IMG_HEIGHT)\n",
        "\n",
        "# # Create empty lists to hold the images and masks\n",
        "# images = []\n",
        "# masks = []\n",
        "\n",
        "# # Iterate through the directories and load the images and masks\n",
        "# for file in sorted(os.listdir(image_dir)):\n",
        "#     # Load the image and resize to the target size\n",
        "#     img = cv2.imread(os.path.join(image_dir, file))\n",
        "#     img = cv2.resize(img, target_size)\n",
        "\n",
        "#     # Append the resized image to the list of images\n",
        "#     images.append(img)\n",
        "\n",
        "# for file in sorted(os.listdir(mask_dir)):\n",
        "\n",
        "#     # Load the corresponding mask and resize to the target size\n",
        "#     #mask_file = file.replace('.jpg', '.png')\n",
        "#     mask = cv2.imread(os.path.join(mask_dir, file))\n",
        "#     mask = cv2.resize(mask, target_size)\n",
        "\n",
        "#     # Append the resized mask to the list of masks\n",
        "#     masks.append(mask)\n",
        "\n",
        "# IMG_COUNT = len(images)"
      ]
    },
    {
      "cell_type": "markdown",
      "metadata": {
        "id": "ihXq1aKcZuVQ"
      },
      "source": [
        "# Example Image and it's Ground Truth"
      ]
    },
    {
      "cell_type": "code",
      "execution_count": 8,
      "metadata": {
        "colab": {
          "base_uri": "https://localhost:8080/",
          "height": 0
        },
        "id": "MpDzy0FQYNA8",
        "outputId": "005c0bbc-e052-49b3-dfb5-d46a62f29b17"
      },
      "outputs": [
        {
          "output_type": "display_data",
          "data": {
            "text/plain": [
              "<Figure size 640x480 with 1 Axes>"
            ],
            "image/png": "[encoded data removed]"
          },
          "metadata": {}
        },
        {
          "output_type": "display_data",
          "data": {
            "text/plain": [
              "<Figure size 640x480 with 1 Axes>"
            ],
            "image/png": "[encoded data removed]"
          },
          "metadata": {}
        }
      ],
      "source": [
        "# example\n",
        "image_x = random.randint(0, IMG_COUNT)\n",
        "image_x\n",
        "imshow(images[image_x])\n",
        "plt.show()\n",
        "imshow(masks[image_x])\n",
        "plt.show()"
      ]
    },
    {
      "cell_type": "markdown",
      "metadata": {
        "id": "7FVZXwpEBf4H"
      },
      "source": [
        "# SMP DeeplabV3"
      ]
    },
    {
      "cell_type": "markdown",
      "source": [
        "### Installations:"
      ],
      "metadata": {
        "id": "FUE8X1SLtufA"
      }
    },
    {
      "cell_type": "code",
      "source": [
        "pip install -U segmentation-models-pytorch"
      ],
      "metadata": {
        "colab": {
          "base_uri": "https://localhost:8080/"
        },
        "id": "rcfzLBaghS85",
        "outputId": "4518a5f8-47b9-44b1-f85f-5159483c0ab1"
      },
      "execution_count": 9,
      "outputs": [
        {
          "output_type": "stream",
          "name": "stdout",
          "text": [
            "Collecting segmentation-models-pytorch\n",
            "  Downloading segmentation_models_pytorch-0.3.3-py3-none-any.whl (106 kB)\n",
            "\u001b[?25l     \u001b[90m━━━━━━━━━━━━━━━━━━━━━━━━━━━━━━━━━━━━━━━━\u001b[0m \u001b[32m0.0/106.7 kB\u001b[0m \u001b[31m?\u001b[0m eta \u001b[36m-:--:--\u001b[0m\r\u001b[2K     \u001b[91m━━━━━━━━━━━━━━━━━━━━━━━━━━━━━━━━━━━━━━\u001b[0m\u001b[90m╺\u001b[0m\u001b[90m━\u001b[0m \u001b[32m102.4/106.7 kB\u001b[0m \u001b[31m3.3 MB/s\u001b[0m eta \u001b[36m0:00:01\u001b[0m\r\u001b[2K     \u001b[90m━━━━━━━━━━━━━━━━━━━━━━━━━━━━━━━━━━━━━━━━\u001b[0m \u001b[32m106.7/106.7 kB\u001b[0m \u001b[31m2.7 MB/s\u001b[0m eta \u001b[36m0:00:00\u001b[0m\n",
            "\u001b[?25hRequirement already satisfied: torchvision>=0.5.0 in /usr/local/lib/python3.10/dist-packages (from segmentation-models-pytorch) (0.17.1+cu121)\n",
            "Collecting pretrainedmodels==0.7.4 (from segmentation-models-pytorch)\n",
            "  Downloading pretrainedmodels-0.7.4.tar.gz (58 kB)\n",
            "\u001b[2K     \u001b[90m━━━━━━━━━━━━━━━━━━━━━━━━━━━━━━━━━━━━━━━━\u001b[0m \u001b[32m58.8/58.8 kB\u001b[0m \u001b[31m8.6 MB/s\u001b[0m eta \u001b[36m0:00:00\u001b[0m\n",
            "\u001b[?25h  Preparing metadata (setup.py) ... \u001b[?25l\u001b[?25hdone\n",
            "Collecting efficientnet-pytorch==0.7.1 (from segmentation-models-pytorch)\n",
            "  Downloading efficientnet_pytorch-0.7.1.tar.gz (21 kB)\n",
            "  Preparing metadata (setup.py) ... \u001b[?25l\u001b[?25hdone\n",
            "Collecting timm==0.9.2 (from segmentation-models-pytorch)\n",
            "  Downloading timm-0.9.2-py3-none-any.whl (2.2 MB)\n",
            "\u001b[2K     \u001b[90m━━━━━━━━━━━━━━━━━━━━━━━━━━━━━━━━━━━━━━━━\u001b[0m \u001b[32m2.2/2.2 MB\u001b[0m \u001b[31m70.4 MB/s\u001b[0m eta \u001b[36m0:00:00\u001b[0m\n",
            "\u001b[?25hRequirement already satisfied: tqdm in /usr/local/lib/python3.10/dist-packages (from segmentation-models-pytorch) (4.66.2)\n",
            "Requirement already satisfied: pillow in /usr/local/lib/python3.10/dist-packages (from segmentation-models-pytorch) (9.4.0)\n",
            "Requirement already satisfied: torch in /usr/local/lib/python3.10/dist-packages (from efficientnet-pytorch==0.7.1->segmentation-models-pytorch) (2.2.1+cu121)\n",
            "Collecting munch (from pretrainedmodels==0.7.4->segmentation-models-pytorch)\n",
            "  Downloading munch-4.0.0-py2.py3-none-any.whl (9.9 kB)\n",
            "Requirement already satisfied: pyyaml in /usr/local/lib/python3.10/dist-packages (from timm==0.9.2->segmentation-models-pytorch) (6.0.1)\n",
            "Requirement already satisfied: huggingface-hub in /usr/local/lib/python3.10/dist-packages (from timm==0.9.2->segmentation-models-pytorch) (0.20.3)\n",
            "Requirement already satisfied: safetensors in /usr/local/lib/python3.10/dist-packages (from timm==0.9.2->segmentation-models-pytorch) (0.4.3)\n",
            "Requirement already satisfied: numpy in /usr/local/lib/python3.10/dist-packages (from torchvision>=0.5.0->segmentation-models-pytorch) (1.25.2)\n",
            "Requirement already satisfied: filelock in /usr/local/lib/python3.10/dist-packages (from torch->efficientnet-pytorch==0.7.1->segmentation-models-pytorch) (3.13.4)\n",
            "Requirement already satisfied: typing-extensions>=4.8.0 in /usr/local/lib/python3.10/dist-packages (from torch->efficientnet-pytorch==0.7.1->segmentation-models-pytorch) (4.11.0)\n",
            "Requirement already satisfied: sympy in /usr/local/lib/python3.10/dist-packages (from torch->efficientnet-pytorch==0.7.1->segmentation-models-pytorch) (1.12)\n",
            "Requirement already satisfied: networkx in /usr/local/lib/python3.10/dist-packages (from torch->efficientnet-pytorch==0.7.1->segmentation-models-pytorch) (3.3)\n",
            "Requirement already satisfied: jinja2 in /usr/local/lib/python3.10/dist-packages (from torch->efficientnet-pytorch==0.7.1->segmentation-models-pytorch) (3.1.3)\n",
            "Requirement already satisfied: fsspec in /usr/local/lib/python3.10/dist-packages (from torch->efficientnet-pytorch==0.7.1->segmentation-models-pytorch) (2023.6.0)\n",
            "Collecting nvidia-cuda-nvrtc-cu12==12.1.105 (from torch->efficientnet-pytorch==0.7.1->segmentation-models-pytorch)\n",
            "  Using cached nvidia_cuda_nvrtc_cu12-12.1.105-py3-none-manylinux1_x86_64.whl (23.7 MB)\n",
            "Collecting nvidia-cuda-runtime-cu12==12.1.105 (from torch->efficientnet-pytorch==0.7.1->segmentation-models-pytorch)\n",
            "  Using cached nvidia_cuda_runtime_cu12-12.1.105-py3-none-manylinux1_x86_64.whl (823 kB)\n",
            "Collecting nvidia-cuda-cupti-cu12==12.1.105 (from torch->efficientnet-pytorch==0.7.1->segmentation-models-pytorch)\n",
            "  Using cached nvidia_cuda_cupti_cu12-12.1.105-py3-none-manylinux1_x86_64.whl (14.1 MB)\n",
            "Collecting nvidia-cudnn-cu12==8.9.2.26 (from torch->efficientnet-pytorch==0.7.1->segmentation-models-pytorch)\n",
            "  Using cached nvidia_cudnn_cu12-8.9.2.26-py3-none-manylinux1_x86_64.whl (731.7 MB)\n",
            "Collecting nvidia-cublas-cu12==12.1.3.1 (from torch->efficientnet-pytorch==0.7.1->segmentation-models-pytorch)\n",
            "  Using cached nvidia_cublas_cu12-12.1.3.1-py3-none-manylinux1_x86_64.whl (410.6 MB)\n",
            "Collecting nvidia-cufft-cu12==11.0.2.54 (from torch->efficientnet-pytorch==0.7.1->segmentation-models-pytorch)\n",
            "  Using cached nvidia_cufft_cu12-11.0.2.54-py3-none-manylinux1_x86_64.whl (121.6 MB)\n",
            "Collecting nvidia-curand-cu12==10.3.2.106 (from torch->efficientnet-pytorch==0.7.1->segmentation-models-pytorch)\n",
            "  Using cached nvidia_curand_cu12-10.3.2.106-py3-none-manylinux1_x86_64.whl (56.5 MB)\n",
            "Collecting nvidia-cusolver-cu12==11.4.5.107 (from torch->efficientnet-pytorch==0.7.1->segmentation-models-pytorch)\n",
            "  Using cached nvidia_cusolver_cu12-11.4.5.107-py3-none-manylinux1_x86_64.whl (124.2 MB)\n",
            "Collecting nvidia-cusparse-cu12==12.1.0.106 (from torch->efficientnet-pytorch==0.7.1->segmentation-models-pytorch)\n",
            "  Using cached nvidia_cusparse_cu12-12.1.0.106-py3-none-manylinux1_x86_64.whl (196.0 MB)\n",
            "Collecting nvidia-nccl-cu12==2.19.3 (from torch->efficientnet-pytorch==0.7.1->segmentation-models-pytorch)\n",
            "  Using cached nvidia_nccl_cu12-2.19.3-py3-none-manylinux1_x86_64.whl (166.0 MB)\n",
            "Collecting nvidia-nvtx-cu12==12.1.105 (from torch->efficientnet-pytorch==0.7.1->segmentation-models-pytorch)\n",
            "  Using cached nvidia_nvtx_cu12-12.1.105-py3-none-manylinux1_x86_64.whl (99 kB)\n",
            "Requirement already satisfied: triton==2.2.0 in /usr/local/lib/python3.10/dist-packages (from torch->efficientnet-pytorch==0.7.1->segmentation-models-pytorch) (2.2.0)\n",
            "Collecting nvidia-nvjitlink-cu12 (from nvidia-cusolver-cu12==11.4.5.107->torch->efficientnet-pytorch==0.7.1->segmentation-models-pytorch)\n",
            "  Using cached nvidia_nvjitlink_cu12-12.4.127-py3-none-manylinux2014_x86_64.whl (21.1 MB)\n",
            "Requirement already satisfied: requests in /usr/local/lib/python3.10/dist-packages (from huggingface-hub->timm==0.9.2->segmentation-models-pytorch) (2.31.0)\n",
            "Requirement already satisfied: packaging>=20.9 in /usr/local/lib/python3.10/dist-packages (from huggingface-hub->timm==0.9.2->segmentation-models-pytorch) (24.0)\n",
            "Requirement already satisfied: MarkupSafe>=2.0 in /usr/local/lib/python3.10/dist-packages (from jinja2->torch->efficientnet-pytorch==0.7.1->segmentation-models-pytorch) (2.1.5)\n",
            "Requirement already satisfied: charset-normalizer<4,>=2 in /usr/local/lib/python3.10/dist-packages (from requests->huggingface-hub->timm==0.9.2->segmentation-models-pytorch) (3.3.2)\n",
            "Requirement already satisfied: idna<4,>=2.5 in /usr/local/lib/python3.10/dist-packages (from requests->huggingface-hub->timm==0.9.2->segmentation-models-pytorch) (3.7)\n",
            "Requirement already satisfied: urllib3<3,>=1.21.1 in /usr/local/lib/python3.10/dist-packages (from requests->huggingface-hub->timm==0.9.2->segmentation-models-pytorch) (2.0.7)\n",
            "Requirement already satisfied: certifi>=2017.4.17 in /usr/local/lib/python3.10/dist-packages (from requests->huggingface-hub->timm==0.9.2->segmentation-models-pytorch) (2024.2.2)\n",
            "Requirement already satisfied: mpmath>=0.19 in /usr/local/lib/python3.10/dist-packages (from sympy->torch->efficientnet-pytorch==0.7.1->segmentation-models-pytorch) (1.3.0)\n",
            "Building wheels for collected packages: efficientnet-pytorch, pretrainedmodels\n",
            "  Building wheel for efficientnet-pytorch (setup.py) ... \u001b[?25l\u001b[?25hdone\n",
            "  Created wheel for efficientnet-pytorch: filename=efficientnet_pytorch-0.7.1-py3-none-any.whl size=16429 sha256=2f8e9e118d3806db6e92823f728b96fb2c856280ebce21700ebe1dacf296e9da\n",
            "  Stored in directory: /root/.cache/pip/wheels/03/3f/e9/911b1bc46869644912bda90a56bcf7b960f20b5187feea3baf\n",
            "  Building wheel for pretrainedmodels (setup.py) ... \u001b[?25l\u001b[?25hdone\n",
            "  Created wheel for pretrainedmodels: filename=pretrainedmodels-0.7.4-py3-none-any.whl size=60945 sha256=265632698b7112c6826c1effd7f228f7de9f738266e61eb7ed548ea6f31ab792\n",
            "  Stored in directory: /root/.cache/pip/wheels/35/cb/a5/8f534c60142835bfc889f9a482e4a67e0b817032d9c6883b64\n",
            "Successfully built efficientnet-pytorch pretrainedmodels\n",
            "Installing collected packages: nvidia-nvtx-cu12, nvidia-nvjitlink-cu12, nvidia-nccl-cu12, nvidia-curand-cu12, nvidia-cufft-cu12, nvidia-cuda-runtime-cu12, nvidia-cuda-nvrtc-cu12, nvidia-cuda-cupti-cu12, nvidia-cublas-cu12, munch, nvidia-cusparse-cu12, nvidia-cudnn-cu12, nvidia-cusolver-cu12, efficientnet-pytorch, timm, pretrainedmodels, segmentation-models-pytorch\n",
            "Successfully installed efficientnet-pytorch-0.7.1 munch-4.0.0 nvidia-cublas-cu12-12.1.3.1 nvidia-cuda-cupti-cu12-12.1.105 nvidia-cuda-nvrtc-cu12-12.1.105 nvidia-cuda-runtime-cu12-12.1.105 nvidia-cudnn-cu12-8.9.2.26 nvidia-cufft-cu12-11.0.2.54 nvidia-curand-cu12-10.3.2.106 nvidia-cusolver-cu12-11.4.5.107 nvidia-cusparse-cu12-12.1.0.106 nvidia-nccl-cu12-2.19.3 nvidia-nvjitlink-cu12-12.4.127 nvidia-nvtx-cu12-12.1.105 pretrainedmodels-0.7.4 segmentation-models-pytorch-0.3.3 timm-0.9.2\n"
          ]
        }
      ]
    },
    {
      "cell_type": "code",
      "source": [
        "pip install -U git+https://github.com/qubvel/segmentation_models.pytorch"
      ],
      "metadata": {
        "colab": {
          "base_uri": "https://localhost:8080/"
        },
        "id": "Md2pW7xwhKXJ",
        "outputId": "59720d47-21d6-48d4-b12c-327745ec41db"
      },
      "execution_count": 10,
      "outputs": [
        {
          "output_type": "stream",
          "name": "stdout",
          "text": [
            "Collecting git+https://github.com/qubvel/segmentation_models.pytorch\n",
            "  Cloning https://github.com/qubvel/segmentation_models.pytorch to /tmp/pip-req-build-h9uefvrh\n",
            "  Running command git clone --filter=blob:none --quiet https://github.com/qubvel/segmentation_models.pytorch /tmp/pip-req-build-h9uefvrh\n",
            "  Resolved https://github.com/qubvel/segmentation_models.pytorch to commit b081758e5e6cd1125e97b31e1fb3819aa1575e47\n",
            "  Installing build dependencies ... \u001b[?25l\u001b[?25hdone\n",
            "  Getting requirements to build wheel ... \u001b[?25l\u001b[?25hdone\n",
            "  Preparing metadata (pyproject.toml) ... \u001b[?25l\u001b[?25hdone\n",
            "Requirement already satisfied: torchvision>=0.5.0 in /usr/local/lib/python3.10/dist-packages (from segmentation_models_pytorch==0.3.3) (0.17.1+cu121)\n",
            "Requirement already satisfied: pretrainedmodels==0.7.4 in /usr/local/lib/python3.10/dist-packages (from segmentation_models_pytorch==0.3.3) (0.7.4)\n",
            "Requirement already satisfied: efficientnet-pytorch==0.7.1 in /usr/local/lib/python3.10/dist-packages (from segmentation_models_pytorch==0.3.3) (0.7.1)\n",
            "Collecting timm==0.9.7 (from segmentation_models_pytorch==0.3.3)\n",
            "  Downloading timm-0.9.7-py3-none-any.whl (2.2 MB)\n",
            "\u001b[2K     \u001b[90m━━━━━━━━━━━━━━━━━━━━━━━━━━━━━━━━━━━━━━━━\u001b[0m \u001b[32m2.2/2.2 MB\u001b[0m \u001b[31m22.0 MB/s\u001b[0m eta \u001b[36m0:00:00\u001b[0m\n",
            "\u001b[?25hRequirement already satisfied: tqdm in /usr/local/lib/python3.10/dist-packages (from segmentation_models_pytorch==0.3.3) (4.66.2)\n",
            "Requirement already satisfied: pillow in /usr/local/lib/python3.10/dist-packages (from segmentation_models_pytorch==0.3.3) (9.4.0)\n",
            "Requirement already satisfied: six in /usr/local/lib/python3.10/dist-packages (from segmentation_models_pytorch==0.3.3) (1.16.0)\n",
            "Requirement already satisfied: torch in /usr/local/lib/python3.10/dist-packages (from efficientnet-pytorch==0.7.1->segmentation_models_pytorch==0.3.3) (2.2.1+cu121)\n",
            "Requirement already satisfied: munch in /usr/local/lib/python3.10/dist-packages (from pretrainedmodels==0.7.4->segmentation_models_pytorch==0.3.3) (4.0.0)\n",
            "Requirement already satisfied: pyyaml in /usr/local/lib/python3.10/dist-packages (from timm==0.9.7->segmentation_models_pytorch==0.3.3) (6.0.1)\n",
            "Requirement already satisfied: huggingface-hub in /usr/local/lib/python3.10/dist-packages (from timm==0.9.7->segmentation_models_pytorch==0.3.3) (0.20.3)\n",
            "Requirement already satisfied: safetensors in /usr/local/lib/python3.10/dist-packages (from timm==0.9.7->segmentation_models_pytorch==0.3.3) (0.4.3)\n",
            "Requirement already satisfied: numpy in /usr/local/lib/python3.10/dist-packages (from torchvision>=0.5.0->segmentation_models_pytorch==0.3.3) (1.25.2)\n",
            "Requirement already satisfied: filelock in /usr/local/lib/python3.10/dist-packages (from torch->efficientnet-pytorch==0.7.1->segmentation_models_pytorch==0.3.3) (3.13.4)\n",
            "Requirement already satisfied: typing-extensions>=4.8.0 in /usr/local/lib/python3.10/dist-packages (from torch->efficientnet-pytorch==0.7.1->segmentation_models_pytorch==0.3.3) (4.11.0)\n",
            "Requirement already satisfied: sympy in /usr/local/lib/python3.10/dist-packages (from torch->efficientnet-pytorch==0.7.1->segmentation_models_pytorch==0.3.3) (1.12)\n",
            "Requirement already satisfied: networkx in /usr/local/lib/python3.10/dist-packages (from torch->efficientnet-pytorch==0.7.1->segmentation_models_pytorch==0.3.3) (3.3)\n",
            "Requirement already satisfied: jinja2 in /usr/local/lib/python3.10/dist-packages (from torch->efficientnet-pytorch==0.7.1->segmentation_models_pytorch==0.3.3) (3.1.3)\n",
            "Requirement already satisfied: fsspec in /usr/local/lib/python3.10/dist-packages (from torch->efficientnet-pytorch==0.7.1->segmentation_models_pytorch==0.3.3) (2023.6.0)\n",
            "Requirement already satisfied: nvidia-cuda-nvrtc-cu12==12.1.105 in /usr/local/lib/python3.10/dist-packages (from torch->efficientnet-pytorch==0.7.1->segmentation_models_pytorch==0.3.3) (12.1.105)\n",
            "Requirement already satisfied: nvidia-cuda-runtime-cu12==12.1.105 in /usr/local/lib/python3.10/dist-packages (from torch->efficientnet-pytorch==0.7.1->segmentation_models_pytorch==0.3.3) (12.1.105)\n",
            "Requirement already satisfied: nvidia-cuda-cupti-cu12==12.1.105 in /usr/local/lib/python3.10/dist-packages (from torch->efficientnet-pytorch==0.7.1->segmentation_models_pytorch==0.3.3) (12.1.105)\n",
            "Requirement already satisfied: nvidia-cudnn-cu12==8.9.2.26 in /usr/local/lib/python3.10/dist-packages (from torch->efficientnet-pytorch==0.7.1->segmentation_models_pytorch==0.3.3) (8.9.2.26)\n",
            "Requirement already satisfied: nvidia-cublas-cu12==12.1.3.1 in /usr/local/lib/python3.10/dist-packages (from torch->efficientnet-pytorch==0.7.1->segmentation_models_pytorch==0.3.3) (12.1.3.1)\n",
            "Requirement already satisfied: nvidia-cufft-cu12==11.0.2.54 in /usr/local/lib/python3.10/dist-packages (from torch->efficientnet-pytorch==0.7.1->segmentation_models_pytorch==0.3.3) (11.0.2.54)\n",
            "Requirement already satisfied: nvidia-curand-cu12==10.3.2.106 in /usr/local/lib/python3.10/dist-packages (from torch->efficientnet-pytorch==0.7.1->segmentation_models_pytorch==0.3.3) (10.3.2.106)\n",
            "Requirement already satisfied: nvidia-cusolver-cu12==11.4.5.107 in /usr/local/lib/python3.10/dist-packages (from torch->efficientnet-pytorch==0.7.1->segmentation_models_pytorch==0.3.3) (11.4.5.107)\n",
            "Requirement already satisfied: nvidia-cusparse-cu12==12.1.0.106 in /usr/local/lib/python3.10/dist-packages (from torch->efficientnet-pytorch==0.7.1->segmentation_models_pytorch==0.3.3) (12.1.0.106)\n",
            "Requirement already satisfied: nvidia-nccl-cu12==2.19.3 in /usr/local/lib/python3.10/dist-packages (from torch->efficientnet-pytorch==0.7.1->segmentation_models_pytorch==0.3.3) (2.19.3)\n",
            "Requirement already satisfied: nvidia-nvtx-cu12==12.1.105 in /usr/local/lib/python3.10/dist-packages (from torch->efficientnet-pytorch==0.7.1->segmentation_models_pytorch==0.3.3) (12.1.105)\n",
            "Requirement already satisfied: triton==2.2.0 in /usr/local/lib/python3.10/dist-packages (from torch->efficientnet-pytorch==0.7.1->segmentation_models_pytorch==0.3.3) (2.2.0)\n",
            "Requirement already satisfied: nvidia-nvjitlink-cu12 in /usr/local/lib/python3.10/dist-packages (from nvidia-cusolver-cu12==11.4.5.107->torch->efficientnet-pytorch==0.7.1->segmentation_models_pytorch==0.3.3) (12.4.127)\n",
            "Requirement already satisfied: requests in /usr/local/lib/python3.10/dist-packages (from huggingface-hub->timm==0.9.7->segmentation_models_pytorch==0.3.3) (2.31.0)\n",
            "Requirement already satisfied: packaging>=20.9 in /usr/local/lib/python3.10/dist-packages (from huggingface-hub->timm==0.9.7->segmentation_models_pytorch==0.3.3) (24.0)\n",
            "Requirement already satisfied: MarkupSafe>=2.0 in /usr/local/lib/python3.10/dist-packages (from jinja2->torch->efficientnet-pytorch==0.7.1->segmentation_models_pytorch==0.3.3) (2.1.5)\n",
            "Requirement already satisfied: charset-normalizer<4,>=2 in /usr/local/lib/python3.10/dist-packages (from requests->huggingface-hub->timm==0.9.7->segmentation_models_pytorch==0.3.3) (3.3.2)\n",
            "Requirement already satisfied: idna<4,>=2.5 in /usr/local/lib/python3.10/dist-packages (from requests->huggingface-hub->timm==0.9.7->segmentation_models_pytorch==0.3.3) (3.7)\n",
            "Requirement already satisfied: urllib3<3,>=1.21.1 in /usr/local/lib/python3.10/dist-packages (from requests->huggingface-hub->timm==0.9.7->segmentation_models_pytorch==0.3.3) (2.0.7)\n",
            "Requirement already satisfied: certifi>=2017.4.17 in /usr/local/lib/python3.10/dist-packages (from requests->huggingface-hub->timm==0.9.7->segmentation_models_pytorch==0.3.3) (2024.2.2)\n",
            "Requirement already satisfied: mpmath>=0.19 in /usr/local/lib/python3.10/dist-packages (from sympy->torch->efficientnet-pytorch==0.7.1->segmentation_models_pytorch==0.3.3) (1.3.0)\n",
            "Installing collected packages: timm\n",
            "  Attempting uninstall: timm\n",
            "    Found existing installation: timm 0.9.2\n",
            "    Uninstalling timm-0.9.2:\n",
            "      Successfully uninstalled timm-0.9.2\n",
            "\u001b[31mERROR: pip's dependency resolver does not currently take into account all the packages that are installed. This behaviour is the source of the following dependency conflicts.\n",
            "segmentation-models-pytorch 0.3.3 requires timm==0.9.2, but you have timm 0.9.7 which is incompatible.\u001b[0m\u001b[31m\n",
            "\u001b[0mSuccessfully installed timm-0.9.7\n"
          ]
        }
      ]
    },
    {
      "cell_type": "markdown",
      "source": [
        "## Model"
      ],
      "metadata": {
        "id": "I9vjEAyGt1Ow"
      }
    },
    {
      "cell_type": "code",
      "source": [
        "device = \"cuda\" if torch.cuda.is_available() else \"cpu\""
      ],
      "metadata": {
        "id": "wfSGNqzOhXhR"
      },
      "execution_count": 11,
      "outputs": []
    },
    {
      "cell_type": "code",
      "execution_count": 12,
      "metadata": {
        "id": "tCUX3SiCY7ik",
        "colab": {
          "base_uri": "https://localhost:8080/"
        },
        "outputId": "12883de7-da36-4a93-c919-36d94e755836"
      },
      "outputs": [
        {
          "output_type": "stream",
          "name": "stderr",
          "text": [
            "Downloading: \"https://download.pytorch.org/models/resnet152-b121ed2d.pth\" to /root/.cache/torch/hub/checkpoints/resnet152-b121ed2d.pth\n",
            "100%|██████████| 230M/230M [00:02<00:00, 82.7MB/s]\n",
            "Downloading: \"https://github.com/lukemelas/EfficientNet-PyTorch/releases/download/1.0/efficientnet-b7-dcc49843.pth\" to /root/.cache/torch/hub/checkpoints/efficientnet-b7-dcc49843.pth\n",
            "100%|██████████| 254M/254M [00:01<00:00, 190MB/s]\n",
            "Downloading: \"https://github.com/rwightman/pytorch-image-models/releases/download/v0.1-regnet/regnety_320-ba464b29.pth\" to /root/.cache/torch/hub/checkpoints/regnety_320-ba464b29.pth\n",
            "100%|██████████| 554M/554M [00:34<00:00, 17.0MB/s]\n"
          ]
        }
      ],
      "source": [
        "import torch\n",
        "import segmentation_models_pytorch as smp\n",
        "\n",
        "# Encoders that are generally good with atrous convolution needed for DeepLabV3Plus\n",
        "encoders = [\"resnet152\", \"efficientnet-b7\", \"timm-regnety_320\"]\n",
        "\n",
        "def initialize_models(num_models, device):\n",
        "    models = []\n",
        "    for i in range(num_models):\n",
        "        encoder = encoders[i % len(encoders)]\n",
        "        try:\n",
        "            model = smp.DeepLabV3Plus(\n",
        "                encoder_name=encoder,\n",
        "                encoder_weights=\"imagenet\",\n",
        "                encoder_output_stride=16,\n",
        "                decoder_channels=256,\n",
        "                decoder_atrous_rates=(12, 24, 36),\n",
        "                in_channels=3,\n",
        "                classes=1,\n",
        "                activation='sigmoid',\n",
        "                upsampling=4\n",
        "            )\n",
        "            models.append(model.to(device))\n",
        "        except ValueError as e:\n",
        "            print(f\"Skipping {encoder} due to incompatibility with DeepLabV3Plus: {e}\")\n",
        "    return models\n",
        "\n",
        "num_models = 3  # Number of models in the ensemble\n",
        "device = torch.device(\"cuda\" if torch.cuda.is_available() else \"cpu\")\n",
        "models = initialize_models(num_models, device)\n"
      ]
    },
    {
      "cell_type": "code",
      "source": [
        "import torch\n",
        "\n",
        "# Create a dummy input tensor of size (1, 3, 128, 128)\n",
        "dummy_input = torch.randn(1, 3, 128, 128).to(device)  # Random values simulating an image input\n",
        "\n",
        "# Iterate over each model in the ensemble\n",
        "for i, model in enumerate(models):\n",
        "    model.eval()  # Set the model to evaluation mode\n",
        "    with torch.no_grad():  # Disable gradient computation for this forward pass\n",
        "        dummy_output = model(dummy_input)  # Forward pass through the model\n",
        "\n",
        "    # Print output details for each model\n",
        "    print(f\"Model {i+1} output shape:\", dummy_output.shape)\n",
        "    print(f\"Model {i+1} output values:\", dummy_output)\n"
      ],
      "metadata": {
        "colab": {
          "base_uri": "https://localhost:8080/"
        },
        "id": "Nxyf8KyFic0R",
        "outputId": "23cb3295-01c4-4eb7-e60d-40e459182215"
      },
      "execution_count": 13,
      "outputs": [
        {
          "output_type": "stream",
          "name": "stdout",
          "text": [
            "Model 1 output shape: torch.Size([1, 1, 128, 128])\n",
            "Model 1 output values: tensor([[[[0.4964, 0.4964, 0.4965,  ..., 0.4966, 0.4962, 0.4958],\n",
            "          [0.4963, 0.4963, 0.4963,  ..., 0.4965, 0.4961, 0.4956],\n",
            "          [0.4961, 0.4962, 0.4962,  ..., 0.4964, 0.4959, 0.4955],\n",
            "          ...,\n",
            "          [0.4962, 0.4960, 0.4958,  ..., 0.4958, 0.4957, 0.4957],\n",
            "          [0.4960, 0.4958, 0.4955,  ..., 0.4956, 0.4956, 0.4955],\n",
            "          [0.4959, 0.4955, 0.4952,  ..., 0.4954, 0.4954, 0.4954]]]],\n",
            "       device='cuda:0')\n",
            "Model 2 output shape: torch.Size([1, 1, 128, 128])\n",
            "Model 2 output values: tensor([[[[0.5483, 0.5598, 0.5712,  ..., 0.5882, 0.5854, 0.5825],\n",
            "          [0.5405, 0.5533, 0.5660,  ..., 0.5810, 0.5766, 0.5721],\n",
            "          [0.5328, 0.5468, 0.5608,  ..., 0.5737, 0.5677, 0.5616],\n",
            "          ...,\n",
            "          [0.4944, 0.5078, 0.5212,  ..., 0.5331, 0.5304, 0.5276],\n",
            "          [0.4989, 0.5129, 0.5268,  ..., 0.5290, 0.5295, 0.5300],\n",
            "          [0.5034, 0.5179, 0.5324,  ..., 0.5249, 0.5287, 0.5324]]]],\n",
            "       device='cuda:0')\n",
            "Model 3 output shape: torch.Size([1, 1, 128, 128])\n",
            "Model 3 output values: tensor([[[[0.5141, 0.5136, 0.5132,  ..., 0.5126, 0.5127, 0.5128],\n",
            "          [0.5138, 0.5135, 0.5133,  ..., 0.5127, 0.5127, 0.5128],\n",
            "          [0.5135, 0.5134, 0.5133,  ..., 0.5128, 0.5128, 0.5128],\n",
            "          ...,\n",
            "          [0.5135, 0.5134, 0.5133,  ..., 0.5124, 0.5127, 0.5129],\n",
            "          [0.5132, 0.5130, 0.5128,  ..., 0.5123, 0.5126, 0.5130],\n",
            "          [0.5129, 0.5127, 0.5124,  ..., 0.5122, 0.5126, 0.5131]]]],\n",
            "       device='cuda:0')\n"
          ]
        }
      ]
    },
    {
      "cell_type": "markdown",
      "metadata": {
        "id": "IawsoiuQBxU3"
      },
      "source": [
        "# dataset splitting"
      ]
    },
    {
      "cell_type": "code",
      "execution_count": 14,
      "metadata": {
        "colab": {
          "base_uri": "https://localhost:8080/"
        },
        "id": "kiRlzdUuc6ca",
        "outputId": "36cb06bb-422f-487d-9d62-0614da7a9554"
      },
      "outputs": [
        {
          "output_type": "stream",
          "name": "stdout",
          "text": [
            "(480, 128, 128, 3) (480, 128, 128, 3)\n"
          ]
        }
      ],
      "source": [
        "# create the X and Y (input and output)\n",
        "\n",
        "X_train = np.array(images)\n",
        "Y_train = np.array(masks)\n",
        "print(X_train.shape, Y_train.shape)\n",
        "# change the Y to a boolean\n",
        "Y_train = np.where(Y_train > 245, True, False)"
      ]
    },
    {
      "cell_type": "code",
      "execution_count": 15,
      "metadata": {
        "colab": {
          "base_uri": "https://localhost:8080/"
        },
        "id": "I303u1Z3OZZT",
        "outputId": "cb0eb5ff-22b6-4df0-dfe6-0ac0d2244565"
      },
      "outputs": [
        {
          "output_type": "stream",
          "name": "stdout",
          "text": [
            "(480, 3, 128, 128) (480, 3, 128, 128)\n"
          ]
        }
      ],
      "source": [
        "# careful to run this cell only once (otherwise shape changes)\n",
        "X_train = np.transpose(X_train, (0, 3, 1 , 2))\n",
        "Y_train = np.transpose(Y_train, (0, 3, 1 , 2))\n",
        "print(X_train.shape, Y_train.shape)"
      ]
    },
    {
      "cell_type": "code",
      "execution_count": 16,
      "metadata": {
        "colab": {
          "base_uri": "https://localhost:8080/"
        },
        "id": "wtXB7ItEc-J9",
        "outputId": "897f0b78-bb90-48b8-f676-c256f3cecd23"
      },
      "outputs": [
        {
          "output_type": "stream",
          "name": "stdout",
          "text": [
            "(480, 128, 128)\n",
            "(480, 1, 128, 128)\n"
          ]
        }
      ],
      "source": [
        "#convert the boolean where it insion s true (any of the 3 channels) to a (336, 128, 128, 1)\n",
        "#basically reduce the 3 channel dimeRGB to just one boolean value\n",
        "\n",
        "Y_t= np.any(Y_train, axis=1)\n",
        "print(Y_t.shape)\n",
        "Y_t = Y_t.reshape(IMG_COUNT, 1, IMG_HEIGHT, IMG_WIDTH)\n",
        "print(Y_t.shape)\n"
      ]
    },
    {
      "cell_type": "code",
      "execution_count": 17,
      "metadata": {
        "id": "MKN9aaGqmgT7"
      },
      "outputs": [],
      "source": [
        "# prompt: Make Dataset from data\n",
        "\n",
        "from torch.utils.data import Dataset\n",
        "\n",
        "class GrainDataset(Dataset):\n",
        "    def __init__(self, images, masks):\n",
        "        self.images = images\n",
        "        self.masks = masks\n",
        "\n",
        "    def __len__(self):\n",
        "        return len(self.images)\n",
        "\n",
        "    def __getitem__(self, idx):\n",
        "        image = torch.from_numpy(self.images[idx]).float()\n",
        "        mask = torch.from_numpy(self.masks[idx]).float()\n",
        "        return image, mask\n",
        "\n",
        "# Create the dataset\n",
        "dataset = GrainDataset(X_train, Y_t)\n",
        "\n"
      ]
    },
    {
      "cell_type": "code",
      "execution_count": 18,
      "metadata": {
        "id": "S89-QaPhnkf2"
      },
      "outputs": [],
      "source": [
        "# prompt: create train and validation dataset\n",
        "\n",
        "from torch.utils.data import random_split\n",
        "\n",
        "# Split the dataset into train and validation sets\n",
        "train_size = int(0.8 * len(dataset))\n",
        "r = len(dataset) - train_size\n",
        "val_size = int(0.5 * r)\n",
        "test_size = int(0.5 * r)\n",
        "train_dataset, val_dataset,test_dataset = random_split(dataset, [train_size, val_size,test_size])\n",
        "\n"
      ]
    },
    {
      "cell_type": "code",
      "source": [
        "print(f\"Train : {train_size}\")\n",
        "print(f\"Val: {val_size}\")\n",
        "print(f\"Test: {test_size}\")"
      ],
      "metadata": {
        "colab": {
          "base_uri": "https://localhost:8080/"
        },
        "id": "Lug32ruWddXb",
        "outputId": "74af59e7-7dd3-4f3d-f0f6-29242f289762"
      },
      "execution_count": 19,
      "outputs": [
        {
          "output_type": "stream",
          "name": "stdout",
          "text": [
            "Train : 384\n",
            "Val: 48\n",
            "Test: 48\n"
          ]
        }
      ]
    },
    {
      "cell_type": "code",
      "source": [
        "# Define callbacks\n",
        "class ModelCheckpoint:\n",
        "    def __init__(self, checkpoint_path):\n",
        "        self.checkpoint_path = checkpoint_path\n",
        "        self.best_loss = float('inf')\n",
        "\n",
        "    def __call__(self, model, epoch, train_loss, val_loss):\n",
        "        if val_loss < self.best_loss:\n",
        "            torch.save({\n",
        "            'epoch': epoch,\n",
        "            'model_state_dict': model.state_dict(),\n",
        "            'train_loss' : train_loss,\n",
        "            'val_loss': val_loss,\n",
        "            }, self.checkpoint_path)\n",
        "            print(\"Checkpoint saved\")\n",
        "            self.best_loss = val_loss\n",
        "\n",
        "from datetime import datetime\n",
        "checkpoint_path = f'/content/drive/MyDrive/465 Project/Unet++ Checkpoints/TrainingSet{TRAINING_SET}_{datetime.now().strftime(\"%d%m%Y %H:%M:%S\")}.pt'\n",
        "# print(checkpoint_path)\n",
        "# os.makedirs(\"/content/drive/MyDrive/465 Project\", exist_ok=True) # already exists\n",
        "checkpoint_dir = os.path.dirname(checkpoint_path)\n",
        "\n",
        "checkpointer = ModelCheckpoint(checkpoint_path)\n"
      ],
      "metadata": {
        "id": "6X-WT0qYM114"
      },
      "execution_count": 20,
      "outputs": []
    },
    {
      "cell_type": "code",
      "source": [
        "print(f\"current: {checkpoint_path}\")"
      ],
      "metadata": {
        "colab": {
          "base_uri": "https://localhost:8080/"
        },
        "id": "GXSNL2f4S187",
        "outputId": "d2d92bfb-4a05-4e6b-d535-884d267b3a5a"
      },
      "execution_count": 21,
      "outputs": [
        {
          "output_type": "stream",
          "name": "stdout",
          "text": [
            "current: /content/drive/MyDrive/465 Project/Unet++ Checkpoints/TrainingSet1_27042024 18:55:07.pt\n"
          ]
        }
      ]
    },
    {
      "cell_type": "code",
      "source": [
        "from torch.utils.data import DataLoader\n",
        "\n",
        "# Define DataLoader for training and validation sets\n",
        "train_loader = DataLoader(train_dataset, batch_size=16, shuffle=True)\n",
        "val_loader = DataLoader(val_dataset, batch_size=16, shuffle=False)\n",
        "# test_loader = DataLoader(test_dataset, batch_size=16, shuffle=False)"
      ],
      "metadata": {
        "id": "gDzeZ4VFM5DQ"
      },
      "execution_count": 22,
      "outputs": []
    },
    {
      "cell_type": "markdown",
      "source": [
        "# Dice Loss func"
      ],
      "metadata": {
        "id": "6Irs9djdLeAD"
      }
    },
    {
      "cell_type": "code",
      "source": [
        "import torch\n",
        "import torch.nn.functional as F\n",
        "\n",
        "def continuous_dice_loss(output, target):\n",
        "    \"\"\"\n",
        "    Calculates the Continuous Dice Loss for a set of prediction and target.\n",
        "\n",
        "    Args:\n",
        "    output (torch.Tensor): Model's probabilistic map output, values between [0, 1].\n",
        "    target (torch.Tensor): Ground truth binary tensor, values {0, 1}.\n",
        "\n",
        "    Returns:\n",
        "    torch.Tensor: Continuous Dice Loss.\n",
        "    \"\"\"\n",
        "    # Flatten the tensors to calculate the loss on a per-image basis\n",
        "    output_flat = output.view(output.size(0), -1)\n",
        "    target_flat = target.view(target.size(0), -1)\n",
        "\n",
        "    # Calculate intersection and cardinality (or area)\n",
        "    intersection = torch.sum(output_flat * target_flat, dim=1)\n",
        "    cardinality_output = torch.sum(output_flat, dim=1)\n",
        "    cardinality_target = torch.sum(target_flat, dim=1)\n",
        "\n",
        "    # Calculate c as per the definition\n",
        "    c_numerator = torch.sum(output_flat * target_flat, dim=1)\n",
        "    c_denominator = torch.sum(output_flat * torch.sign(target_flat), dim=1)\n",
        "\n",
        "    # Avoid division by zero\n",
        "    c_denominator = torch.where(c_denominator == 0, torch.ones_like(c_denominator), c_denominator)\n",
        "    c = c_numerator / c_denominator\n",
        "\n",
        "    # Compute continuous Dice coefficient\n",
        "    cDC = (2. * intersection) / (c * cardinality_target + cardinality_output)\n",
        "\n",
        "    # Compute loss as 1 - cDC\n",
        "    cDL = 1 - cDC\n",
        "\n",
        "    return cDL.mean()\n",
        "\n",
        "##  Better to use dice_weight > ce_weight\n",
        "def combined_dice_ce_loss(output, target, dice_weight=0.5, ce_weight=0.5):\n",
        "    ce_loss = F.binary_cross_entropy(output, target)\n",
        "    dice_loss = continuous_dice_loss(output, target)\n",
        "    combined_loss = dice_weight * dice_loss + ce_weight * ce_loss\n",
        "    return combined_loss\n",
        "\n",
        "\n",
        "EPSILON = 1e-6\n",
        "\n",
        "class DiceLoss(torch.nn.Module):\n",
        "    def __init__(self,):\n",
        "        super().__init__()\n",
        "\n",
        "    def forward(self, pred, mask):\n",
        "        pred = pred.flatten()\n",
        "        mask = mask.flatten()\n",
        "\n",
        "        intersect = (mask * pred).sum()\n",
        "        dice_score = 2*intersect / (pred.sum() + mask.sum() + EPSILON)\n",
        "        dice_loss = 1 - dice_score\n",
        "        return dice_loss"
      ],
      "metadata": {
        "id": "lMER7Zr6Lc6z"
      },
      "execution_count": 23,
      "outputs": []
    },
    {
      "cell_type": "markdown",
      "source": [
        "#Training Loop"
      ],
      "metadata": {
        "id": "O-iMrWqZAmc3"
      }
    },
    {
      "cell_type": "code",
      "execution_count": 24,
      "metadata": {
        "colab": {
          "base_uri": "https://localhost:8080/"
        },
        "id": "M1ze9oRSeFL9",
        "outputId": "2dc5bc53-fa31-4c30-9838-ba6489416e65"
      },
      "outputs": [
        {
          "output_type": "stream",
          "name": "stdout",
          "text": [
            "Epoch [1/15], Train Loss: 0.3558, Val Loss: 0.4691\n",
            "Epoch [1/15], Train Loss: 0.3392, Val Loss: 0.3698\n",
            "Epoch [1/15], Train Loss: 0.3594, Val Loss: 0.4358\n",
            "Epoch [2/15], Train Loss: 0.2486, Val Loss: 0.2995\n",
            "Epoch [2/15], Train Loss: 0.2580, Val Loss: 0.4323\n",
            "Epoch [2/15], Train Loss: 0.2553, Val Loss: 0.2830\n",
            "Epoch [3/15], Train Loss: 0.2149, Val Loss: 0.2191\n",
            "Epoch [3/15], Train Loss: 0.2206, Val Loss: 0.3096\n",
            "Epoch [3/15], Train Loss: 0.2172, Val Loss: 0.2412\n",
            "Epoch [4/15], Train Loss: 0.2017, Val Loss: 0.2357\n",
            "Epoch [4/15], Train Loss: 0.2022, Val Loss: 0.2319\n",
            "Epoch [4/15], Train Loss: 0.2017, Val Loss: 0.2190\n",
            "Epoch [5/15], Train Loss: 0.1938, Val Loss: 0.1966\n",
            "Epoch [5/15], Train Loss: 0.1920, Val Loss: 0.2032\n",
            "Epoch [5/15], Train Loss: 0.1931, Val Loss: 0.1972\n",
            "Epoch [6/15], Train Loss: 0.1877, Val Loss: 0.2673\n",
            "Epoch [6/15], Train Loss: 0.1851, Val Loss: 0.1916\n",
            "Epoch [6/15], Train Loss: 0.1876, Val Loss: 0.1889\n",
            "Epoch [7/15], Train Loss: 0.1835, Val Loss: 0.3276\n",
            "Epoch [7/15], Train Loss: 0.1800, Val Loss: 0.1862\n",
            "Epoch [7/15], Train Loss: 0.1832, Val Loss: 0.1915\n",
            "Epoch [8/15], Train Loss: 0.1797, Val Loss: 0.1850\n",
            "Epoch [8/15], Train Loss: 0.1760, Val Loss: 0.1815\n",
            "Epoch [8/15], Train Loss: 0.1796, Val Loss: 0.1820\n",
            "Epoch [9/15], Train Loss: 0.1765, Val Loss: 0.1789\n",
            "Epoch [9/15], Train Loss: 0.1727, Val Loss: 0.1780\n",
            "Epoch [9/15], Train Loss: 0.1762, Val Loss: 0.1790\n",
            "Epoch [10/15], Train Loss: 0.1733, Val Loss: 0.1762\n",
            "Epoch [10/15], Train Loss: 0.1699, Val Loss: 0.1759\n",
            "Epoch [10/15], Train Loss: 0.1729, Val Loss: 0.1770\n",
            "Epoch [11/15], Train Loss: 0.1707, Val Loss: 0.1966\n",
            "Epoch [11/15], Train Loss: 0.1673, Val Loss: 0.1742\n",
            "Epoch [11/15], Train Loss: 0.1691, Val Loss: 0.1747\n",
            "Epoch [12/15], Train Loss: 0.1690, Val Loss: 0.1901\n",
            "Epoch [12/15], Train Loss: 0.1650, Val Loss: 0.1724\n",
            "Epoch [12/15], Train Loss: 0.1660, Val Loss: 0.1739\n",
            "Epoch [13/15], Train Loss: 0.1664, Val Loss: 0.1731\n",
            "Epoch [13/15], Train Loss: 0.1627, Val Loss: 0.1709\n",
            "Epoch [13/15], Train Loss: 0.1627, Val Loss: 0.1724\n",
            "Epoch [14/15], Train Loss: 0.1636, Val Loss: 0.1718\n",
            "Epoch [14/15], Train Loss: 0.1605, Val Loss: 0.1702\n",
            "Epoch [14/15], Train Loss: 0.1590, Val Loss: 0.1722\n",
            "Epoch [15/15], Train Loss: 0.1613, Val Loss: 0.1696\n",
            "Epoch [15/15], Train Loss: 0.1585, Val Loss: 0.1692\n",
            "Epoch [15/15], Train Loss: 0.1557, Val Loss: 0.1707\n"
          ]
        }
      ],
      "source": [
        "import torch\n",
        "import torch.optim as optim\n",
        "from torch.utils.data import DataLoader\n",
        "import torch.nn as nn\n",
        "\n",
        "\n",
        "def train_ensemble(models, num_epochs, train_loader, val_loader, device):\n",
        "    optimizers = [optim.Adam(model.parameters(), lr=0.0002) for model in models]\n",
        "    criterion = combined_dice_ce_loss\n",
        "\n",
        "    for epoch in range(num_epochs):\n",
        "        for model, optimizer in zip(models, optimizers):\n",
        "            model.train()\n",
        "            train_loss = 0.0\n",
        "            for inputs, targets in train_loader:\n",
        "                inputs, targets = inputs.to(device), targets.to(device)\n",
        "                optimizer.zero_grad()\n",
        "                outputs = model(inputs)\n",
        "                loss = criterion(outputs, targets, 0.8, 0.2)\n",
        "                loss.backward()\n",
        "                optimizer.step()\n",
        "                train_loss += loss.item() * inputs.size(0)\n",
        "            train_loss /= len(train_loader.dataset)\n",
        "\n",
        "            # Validation step\n",
        "            model.eval()\n",
        "            val_loss = 0.0\n",
        "            with torch.no_grad():\n",
        "                for inputs, targets in val_loader:\n",
        "                    inputs, targets = inputs.to(device), targets.to(device)\n",
        "                    outputs = model(inputs)\n",
        "                    loss = criterion(outputs, targets, 0.8, 0.2)\n",
        "                    val_loss += loss.item() * inputs.size(0)\n",
        "            val_loss /= len(val_loader.dataset)\n",
        "            print(f'Epoch [{epoch+1}/{num_epochs}], Train Loss: {train_loss:.4f}, Val Loss: {val_loss:.4f}')\n",
        "\n",
        "    return models  # Return the trained models\n",
        "\n",
        "# Example usage:\n",
        "num_epochs = 15\n",
        "trained_models = train_ensemble(models, num_epochs, train_loader, val_loader, device)\n"
      ]
    },
    {
      "cell_type": "code",
      "source": [
        "# checkpointer(model,epoch, train_loss, val_loss)"
      ],
      "metadata": {
        "colab": {
          "base_uri": "https://localhost:8080/"
        },
        "id": "VSngNL0nWiCg",
        "outputId": "acdd615c-c647-4640-a347-6e1e39df9bf8"
      },
      "execution_count": null,
      "outputs": [
        {
          "output_type": "stream",
          "name": "stdout",
          "text": [
            "Checkpoint saved\n"
          ]
        }
      ]
    },
    {
      "cell_type": "code",
      "execution_count": null,
      "metadata": {
        "colab": {
          "base_uri": "https://localhost:8080/"
        },
        "id": "t6rODygYDo1i",
        "outputId": "20e12549-7b9a-4b00-d545-f3c3b9a990df"
      },
      "outputs": [
        {
          "output_type": "stream",
          "name": "stdout",
          "text": [
            "0.03722295646245281 0.10303842276334763\n"
          ]
        }
      ],
      "source": [
        "# current_checkpoint = torch.load(checkpoint_path)\n",
        "# model.load_state_dict(current_checkpoint['model_state_dict'])\n",
        "# model.eval()\n",
        "# print(current_checkpoint['train_loss'],current_checkpoint['val_loss'])"
      ]
    },
    {
      "cell_type": "code",
      "execution_count": 25,
      "metadata": {
        "id": "CqMBAVWcLDln"
      },
      "outputs": [],
      "source": [
        "def display_results(image, ground_truth_mask, predicted_mask):\n",
        "    fig, axes = plt.subplots(1, 3, figsize=(15, 5))\n",
        "\n",
        "    # Display input image\n",
        "    axes[0].imshow(np.transpose(image, (1, 2, 0)))\n",
        "    axes[0].set_title('Input Image')\n",
        "\n",
        "    # Display ground truth mask\n",
        "    axes[1].imshow(np.squeeze(ground_truth_mask))\n",
        "    axes[1].set_title('Ground Truth Mask')\n",
        "\n",
        "    # Display predicted mask\n",
        "    axes[2].imshow(np.squeeze(predicted_mask))\n",
        "    axes[2].set_title('Predicted Mask')\n",
        "\n",
        "    plt.show()"
      ]
    },
    {
      "cell_type": "markdown",
      "metadata": {
        "id": "DsDjHWZf2PlR"
      },
      "source": [
        "# Results"
      ]
    },
    {
      "cell_type": "code",
      "source": [
        "# dataset = GrainDataset(X_rg, Y_t)\n",
        "rg_val_loader = DataLoader(test_dataset,batch_size=16, shuffle=False)"
      ],
      "metadata": {
        "id": "zC-V-j9IXaCZ"
      },
      "execution_count": 26,
      "outputs": []
    },
    {
      "cell_type": "code",
      "source": [
        "import torch\n",
        "import numpy as np\n",
        "import matplotlib.pyplot as plt\n",
        "\n",
        "\n",
        "model.eval()\n",
        "\n",
        "all_preds = []\n",
        "\n",
        "with torch.no_grad():\n",
        "    for images, _ in val_loader:\n",
        "        images = images.to(device)\n",
        "        preds = model(images)\n",
        "        all_preds.extend(preds.flatten().cpu().numpy())  # Flatten and move to CPU\n",
        "\n",
        "all_preds_np = np.array(all_preds)\n",
        "\n",
        "# Plot the histogram\n",
        "plt.hist(all_preds_np, bins=50, density=True)\n",
        "plt.title('Distribution of Predicted Pixel Values')\n",
        "plt.xlabel('Pixel Value')\n",
        "plt.ylabel('Density')\n",
        "plt.show()\n"
      ],
      "metadata": {
        "id": "W3C6CG7HKM3V",
        "colab": {
          "base_uri": "https://localhost:8080/",
          "height": 472
        },
        "outputId": "5b48be00-3b09-497b-94f3-e9466c0404b7"
      },
      "execution_count": null,
      "outputs": [
        {
          "output_type": "display_data",
          "data": {
            "text/plain": [
              "<Figure size 640x480 with 1 Axes>"
            ],
            "image/png": "[encoded data removed]"
          },
          "metadata": {}
        }
      ]
    },
    {
      "cell_type": "markdown",
      "source": [
        "#### torch metrics Dice Score"
      ],
      "metadata": {
        "id": "T3KZ5rB4POjN"
      }
    },
    {
      "cell_type": "code",
      "execution_count": 27,
      "metadata": {
        "colab": {
          "base_uri": "https://localhost:8080/"
        },
        "id": "IraOKMDpCH1Q",
        "outputId": "ff64ba3c-7ed5-40ef-9c1a-8db5fc171690"
      },
      "outputs": [
        {
          "output_type": "stream",
          "name": "stdout",
          "text": [
            "Collecting torchmetrics\n",
            "  Downloading torchmetrics-1.3.2-py3-none-any.whl (841 kB)\n",
            "\u001b[2K     \u001b[90m━━━━━━━━━━━━━━━━━━━━━━━━━━━━━━━━━━━━━━━━\u001b[0m \u001b[32m841.5/841.5 kB\u001b[0m \u001b[31m7.7 MB/s\u001b[0m eta \u001b[36m0:00:00\u001b[0m\n",
            "\u001b[?25hRequirement already satisfied: numpy>1.20.0 in /usr/local/lib/python3.10/dist-packages (from torchmetrics) (1.25.2)\n",
            "Requirement already satisfied: packaging>17.1 in /usr/local/lib/python3.10/dist-packages (from torchmetrics) (24.0)\n",
            "Requirement already satisfied: torch>=1.10.0 in /usr/local/lib/python3.10/dist-packages (from torchmetrics) (2.2.1+cu121)\n",
            "Collecting lightning-utilities>=0.8.0 (from torchmetrics)\n",
            "  Downloading lightning_utilities-0.11.2-py3-none-any.whl (26 kB)\n",
            "Requirement already satisfied: setuptools in /usr/local/lib/python3.10/dist-packages (from lightning-utilities>=0.8.0->torchmetrics) (67.7.2)\n",
            "Requirement already satisfied: typing-extensions in /usr/local/lib/python3.10/dist-packages (from lightning-utilities>=0.8.0->torchmetrics) (4.11.0)\n",
            "Requirement already satisfied: filelock in /usr/local/lib/python3.10/dist-packages (from torch>=1.10.0->torchmetrics) (3.13.4)\n",
            "Requirement already satisfied: sympy in /usr/local/lib/python3.10/dist-packages (from torch>=1.10.0->torchmetrics) (1.12)\n",
            "Requirement already satisfied: networkx in /usr/local/lib/python3.10/dist-packages (from torch>=1.10.0->torchmetrics) (3.3)\n",
            "Requirement already satisfied: jinja2 in /usr/local/lib/python3.10/dist-packages (from torch>=1.10.0->torchmetrics) (3.1.3)\n",
            "Requirement already satisfied: fsspec in /usr/local/lib/python3.10/dist-packages (from torch>=1.10.0->torchmetrics) (2023.6.0)\n",
            "Requirement already satisfied: nvidia-cuda-nvrtc-cu12==12.1.105 in /usr/local/lib/python3.10/dist-packages (from torch>=1.10.0->torchmetrics) (12.1.105)\n",
            "Requirement already satisfied: nvidia-cuda-runtime-cu12==12.1.105 in /usr/local/lib/python3.10/dist-packages (from torch>=1.10.0->torchmetrics) (12.1.105)\n",
            "Requirement already satisfied: nvidia-cuda-cupti-cu12==12.1.105 in /usr/local/lib/python3.10/dist-packages (from torch>=1.10.0->torchmetrics) (12.1.105)\n",
            "Requirement already satisfied: nvidia-cudnn-cu12==8.9.2.26 in /usr/local/lib/python3.10/dist-packages (from torch>=1.10.0->torchmetrics) (8.9.2.26)\n",
            "Requirement already satisfied: nvidia-cublas-cu12==12.1.3.1 in /usr/local/lib/python3.10/dist-packages (from torch>=1.10.0->torchmetrics) (12.1.3.1)\n",
            "Requirement already satisfied: nvidia-cufft-cu12==11.0.2.54 in /usr/local/lib/python3.10/dist-packages (from torch>=1.10.0->torchmetrics) (11.0.2.54)\n",
            "Requirement already satisfied: nvidia-curand-cu12==10.3.2.106 in /usr/local/lib/python3.10/dist-packages (from torch>=1.10.0->torchmetrics) (10.3.2.106)\n",
            "Requirement already satisfied: nvidia-cusolver-cu12==11.4.5.107 in /usr/local/lib/python3.10/dist-packages (from torch>=1.10.0->torchmetrics) (11.4.5.107)\n",
            "Requirement already satisfied: nvidia-cusparse-cu12==12.1.0.106 in /usr/local/lib/python3.10/dist-packages (from torch>=1.10.0->torchmetrics) (12.1.0.106)\n",
            "Requirement already satisfied: nvidia-nccl-cu12==2.19.3 in /usr/local/lib/python3.10/dist-packages (from torch>=1.10.0->torchmetrics) (2.19.3)\n",
            "Requirement already satisfied: nvidia-nvtx-cu12==12.1.105 in /usr/local/lib/python3.10/dist-packages (from torch>=1.10.0->torchmetrics) (12.1.105)\n",
            "Requirement already satisfied: triton==2.2.0 in /usr/local/lib/python3.10/dist-packages (from torch>=1.10.0->torchmetrics) (2.2.0)\n",
            "Requirement already satisfied: nvidia-nvjitlink-cu12 in /usr/local/lib/python3.10/dist-packages (from nvidia-cusolver-cu12==11.4.5.107->torch>=1.10.0->torchmetrics) (12.4.127)\n",
            "Requirement already satisfied: MarkupSafe>=2.0 in /usr/local/lib/python3.10/dist-packages (from jinja2->torch>=1.10.0->torchmetrics) (2.1.5)\n",
            "Requirement already satisfied: mpmath>=0.19 in /usr/local/lib/python3.10/dist-packages (from sympy->torch>=1.10.0->torchmetrics) (1.3.0)\n",
            "Installing collected packages: lightning-utilities, torchmetrics\n",
            "Successfully installed lightning-utilities-0.11.2 torchmetrics-1.3.2\n"
          ]
        }
      ],
      "source": [
        "!pip install torchmetrics"
      ]
    },
    {
      "cell_type": "markdown",
      "source": [
        "##### Dice & IoU"
      ],
      "metadata": {
        "id": "citVk0RXUbvR"
      }
    },
    {
      "cell_type": "code",
      "execution_count": 28,
      "metadata": {
        "id": "Xf1h1FTTqU23",
        "colab": {
          "base_uri": "https://localhost:8080/"
        },
        "outputId": "ff07d274-9f6b-4783-d606-39ec73e30112"
      },
      "outputs": [
        {
          "output_type": "stream",
          "name": "stdout",
          "text": [
            "Average Dice Score: 0.8669\n",
            "Average Jaccard Index: 0.7654\n"
          ]
        }
      ],
      "source": [
        "from torchmetrics.functional import dice\n",
        "from torchmetrics.functional import jaccard_index\n",
        "\n",
        "def ensemble_voting(models, loader, device, threshold=0.5):\n",
        "    total_votes = []  # Use a list to store votes from each batch\n",
        "\n",
        "    # Ensure all models are in evaluation mode\n",
        "    for model in models:\n",
        "        model.eval()\n",
        "\n",
        "    with torch.no_grad():\n",
        "        for images, _ in loader:\n",
        "            images = images.to(device)\n",
        "            batch_votes = None\n",
        "\n",
        "            for model in models:\n",
        "                outputs = torch.sigmoid(model(images))  # Convert logits to probabilities\n",
        "                votes = (outputs > threshold).int()  # Apply threshold and convert to integer\n",
        "\n",
        "                if batch_votes is None:\n",
        "                    batch_votes = votes\n",
        "                else:\n",
        "                    batch_votes += votes\n",
        "\n",
        "            majority_votes = batch_votes > (len(models) / 2)  # Majority vote\n",
        "            total_votes.append(majority_votes.float())  # Store batch votes as float tensors\n",
        "\n",
        "    return total_votes  # Return a list of tensors, one for each batch\n",
        "\n",
        "def evaluate_ensemble_by_voting(models, loader, device, threshold=0.5):\n",
        "    total_dice = 0.0\n",
        "    total_jaccard = 0.0\n",
        "    total_samples = 0\n",
        "\n",
        "    majority_votes = ensemble_voting(models, loader, device, threshold)  # Get majority votes per batch\n",
        "\n",
        "    with torch.no_grad():\n",
        "        for (images, targets), votes in zip(loader, majority_votes):\n",
        "            images, targets = images.to(device), targets.to(device)\n",
        "\n",
        "            # Ensure tensors are the right shape\n",
        "            for i in range(votes.size(0)):  # votes.size(0) gives the batch size for current batch\n",
        "                pred = votes[i].unsqueeze(0)\n",
        "                target = targets[i].unsqueeze(0).int()\n",
        "\n",
        "                dice_score = dice(pred, target)\n",
        "                jaccard_score = jaccard_index(pred, target, task='binary')\n",
        "\n",
        "                total_dice += dice_score.item()\n",
        "                total_jaccard += jaccard_score.item()\n",
        "                total_samples += 1\n",
        "\n",
        "    average_dice = total_dice / total_samples\n",
        "    average_jaccard = total_jaccard / total_samples\n",
        "\n",
        "    return average_dice, average_jaccard\n",
        "\n",
        "device = \"cuda\" if torch.cuda.is_available() else \"cpu\"\n",
        "\n",
        "# dataset = GrainDataset(X_rg, Y_t)\n",
        "rg_val_loader = DataLoader(test_dataset,batch_size=16, shuffle=False)\n",
        "\n",
        "average_dice, average_jaccard = evaluate_ensemble_by_voting(models, rg_val_loader, device)\n",
        "print(f\"Average Dice Score: {average_dice:.4f}\")\n",
        "print(f\"Average Jaccard Index: {average_jaccard:.4f}\")\n"
      ]
    },
    {
      "cell_type": "code",
      "source": [
        "# dataset = GrainDataset(X_rg, Y_t)\n",
        "rg_val_loader = DataLoader(test_dataset,batch_size=16, shuffle=False)\n",
        "\n",
        "from torchmetrics.functional import dice\n",
        "from torchmetrics.functional import jaccard_index\n",
        "cnt = -1;\n",
        "for model in models:\n",
        "  total_jaccard_score = 0.0\n",
        "  total_dice_score = 0.0\n",
        "  total_num_samples = 0\n",
        "  cnt += 1\n",
        "  for images, masks in rg_val_loader:\n",
        "      batch_size = images.size(0)  # Get the actual batch size\n",
        "      total_num_samples += batch_size\n",
        "\n",
        "      with torch.no_grad():\n",
        "          images = images.to(device)\n",
        "          masks = masks.to(device)\n",
        "\n",
        "          # Forward pass\n",
        "          preds = model(images)\n",
        "\n",
        "          for ind in range(len(preds)):\n",
        "              pred_tensor = (preds[ind] > 0.5).float()\n",
        "              gt_tensor = masks[ind].to(torch.int64)  # Convert mask tensor to integer tensor\n",
        "\n",
        "              dice_score = dice(pred_tensor, gt_tensor)\n",
        "              total_dice_score += dice_score.item()\n",
        "\n",
        "              jaccard_score = jaccard_index(pred_tensor, gt_tensor, task='binary')\n",
        "              total_jaccard_score += jaccard_score.item()\n",
        "\n",
        "  average_dice_score = total_dice_score / total_num_samples\n",
        "  average_jaccard_score = total_jaccard_score / total_num_samples\n",
        "\n",
        "  print(f\"Encoder -> {cnt+1} : \", encoders[cnt])\n",
        "  print(f\"Training set: {TRAINING_SET}\")\n",
        "  print(f\"Total Number samples: {total_num_samples}\")\n",
        "  print(f\"Average Dice Score: {average_dice_score}\")\n",
        "  print(f\"Average Jaccard Index: {average_jaccard_score}\")"
      ],
      "metadata": {
        "colab": {
          "base_uri": "https://localhost:8080/"
        },
        "id": "NsNmDQ74rQ73",
        "outputId": "53f1a08a-d330-4eb8-faa4-47fcf57655df"
      },
      "execution_count": 29,
      "outputs": [
        {
          "output_type": "stream",
          "name": "stdout",
          "text": [
            "Encoder -> 1 :  resnet152\n",
            "Training set: 1\n",
            "Total Number samples: 48\n",
            "Average Dice Score: 0.8966675028204918\n",
            "Average Jaccard Index: 0.8130717501044273\n",
            "Encoder -> 2 :  efficientnet-b7\n",
            "Training set: 1\n",
            "Total Number samples: 48\n",
            "Average Dice Score: 0.8968770665427049\n",
            "Average Jaccard Index: 0.8134108558297157\n",
            "Encoder -> 3 :  timm-regnety_320\n",
            "Training set: 1\n",
            "Total Number samples: 48\n",
            "Average Dice Score: 0.8965398619572321\n",
            "Average Jaccard Index: 0.8128973630567392\n"
          ]
        }
      ]
    }
  ],
  "metadata": {
    "accelerator": "GPU",
    "colab": {
      "collapsed_sections": [
        "dRB5U53vS6NK",
        "ihXq1aKcZuVQ",
        "7FVZXwpEBf4H"
      ],
      "gpuType": "T4",
      "provenance": []
    },
    "kernelspec": {
      "display_name": "Python 3",
      "name": "python3"
    },
    "language_info": {
      "name": "python"
    }
  },
  "nbformat": 4,
  "nbformat_minor": 0
}